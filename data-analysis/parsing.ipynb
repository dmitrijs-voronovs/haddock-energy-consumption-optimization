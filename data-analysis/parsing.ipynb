{
 "cells": [
  {
   "cell_type": "code",
   "execution_count": 1,
   "metadata": {
    "collapsed": true,
    "ExecuteTime": {
     "end_time": "2023-12-21T13:17:51.775180700Z",
     "start_time": "2023-12-21T13:17:51.094829Z"
    }
   },
   "outputs": [],
   "source": [
    "from pathlib import Path\n",
    "\n",
    "import pandas as pd\n",
    "import regex as re\n",
    "from IPython.core.display_functions import display"
   ]
  },
  {
   "cell_type": "code",
   "execution_count": 2,
   "outputs": [
    {
     "data": {
      "text/plain": "           JobID                   JobName  Cluster      NodeList      State  \\\n0          42781   dpp-local-nc2_gl2-2.cfg  gl2_gl4  GreenLab-STF  COMPLETED   \n1    42781.batch                     batch  gl2_gl4  GreenLab-STF  COMPLETED   \n2          42784   daa-local-nc2_gl2-8.cfg  gl2_gl4  GreenLab-STF  COMPLETED   \n3    42784.batch                     batch  gl2_gl4  GreenLab-STF  COMPLETED   \n4          42787   daa-local-nc2_gl2-1.cfg  gl2_gl4  GreenLab-STF  COMPLETED   \n..           ...                       ...      ...           ...        ...   \n453  43525.batch                     batch  gl2_gl4           gl6  COMPLETED   \n454        44005  dpp-local-nc4_gl6-20.cfg  gl2_gl4           gl6  COMPLETED   \n455  44005.batch                     batch  gl2_gl4           gl6  COMPLETED   \n456        44008  daa-local-nc4_gl6-20.cfg  gl2_gl4           gl6  COMPLETED   \n457  44008.batch                     batch  gl2_gl4           gl6  COMPLETED   \n\n                   Start                  End ConsumedEnergy    AveRSS  \\\n0    2023-11-25T03:43:16  2023-11-25T05:45:37            NaN       NaN   \n1    2023-11-25T03:43:16  2023-11-25T05:45:37        245.59K   383316K   \n2    2023-11-25T05:50:40  2023-11-26T11:01:52            NaN       NaN   \n3    2023-11-25T05:50:40  2023-11-26T11:01:52          3.99M   729940K   \n4    2023-11-26T11:06:56  2023-11-27T16:07:04            NaN       NaN   \n..                   ...                  ...            ...       ...   \n453  2023-12-18T02:25:23  2023-12-18T02:47:29        203.27K  3874200K   \n454  2023-12-20T16:36:57  2023-12-20T17:52:59            NaN       NaN   \n455  2023-12-20T16:36:57  2023-12-20T17:52:59        524.61K   658816K   \n456  2023-12-20T17:58:01  2023-12-21T11:26:37            NaN       NaN   \n457  2023-12-20T17:58:01  2023-12-21T11:26:37          7.66M  1917584K   \n\n    AveDiskRead AveDiskWrite   AveVMSize     Elapsed  NCPUS Unnamed: 3  \n0           NaN          NaN         NaN    02:02:21      2        NaN  \n1      5345.30M      802.22M    9676696K    02:02:21      2        NaN  \n2           NaN          NaN         NaN  1-05:11:12      2        NaN  \n3     88381.86M    12728.67M   10106308K  1-05:11:12      2        NaN  \n4           NaN          NaN         NaN  1-05:00:08      2        NaN  \n..          ...          ...         ...         ...    ...        ...  \n453    5345.24M      805.05M  193711116K    00:22:06     32        NaN  \n454         NaN          NaN         NaN    01:16:02      4        NaN  \n455    5345.24M      805.04M   26436040K    01:16:02      4        NaN  \n456         NaN          NaN         NaN    17:28:36      4        NaN  \n457   88357.35M    12751.50M   27516176K    17:28:36      4        NaN  \n\n[458 rows x 15 columns]",
      "text/html": "<div>\n<style scoped>\n    .dataframe tbody tr th:only-of-type {\n        vertical-align: middle;\n    }\n\n    .dataframe tbody tr th {\n        vertical-align: top;\n    }\n\n    .dataframe thead th {\n        text-align: right;\n    }\n</style>\n<table border=\"1\" class=\"dataframe\">\n  <thead>\n    <tr style=\"text-align: right;\">\n      <th></th>\n      <th>JobID</th>\n      <th>JobName</th>\n      <th>Cluster</th>\n      <th>NodeList</th>\n      <th>State</th>\n      <th>Start</th>\n      <th>End</th>\n      <th>ConsumedEnergy</th>\n      <th>AveRSS</th>\n      <th>AveDiskRead</th>\n      <th>AveDiskWrite</th>\n      <th>AveVMSize</th>\n      <th>Elapsed</th>\n      <th>NCPUS</th>\n      <th>Unnamed: 3</th>\n    </tr>\n  </thead>\n  <tbody>\n    <tr>\n      <th>0</th>\n      <td>42781</td>\n      <td>dpp-local-nc2_gl2-2.cfg</td>\n      <td>gl2_gl4</td>\n      <td>GreenLab-STF</td>\n      <td>COMPLETED</td>\n      <td>2023-11-25T03:43:16</td>\n      <td>2023-11-25T05:45:37</td>\n      <td>NaN</td>\n      <td>NaN</td>\n      <td>NaN</td>\n      <td>NaN</td>\n      <td>NaN</td>\n      <td>02:02:21</td>\n      <td>2</td>\n      <td>NaN</td>\n    </tr>\n    <tr>\n      <th>1</th>\n      <td>42781.batch</td>\n      <td>batch</td>\n      <td>gl2_gl4</td>\n      <td>GreenLab-STF</td>\n      <td>COMPLETED</td>\n      <td>2023-11-25T03:43:16</td>\n      <td>2023-11-25T05:45:37</td>\n      <td>245.59K</td>\n      <td>383316K</td>\n      <td>5345.30M</td>\n      <td>802.22M</td>\n      <td>9676696K</td>\n      <td>02:02:21</td>\n      <td>2</td>\n      <td>NaN</td>\n    </tr>\n    <tr>\n      <th>2</th>\n      <td>42784</td>\n      <td>daa-local-nc2_gl2-8.cfg</td>\n      <td>gl2_gl4</td>\n      <td>GreenLab-STF</td>\n      <td>COMPLETED</td>\n      <td>2023-11-25T05:50:40</td>\n      <td>2023-11-26T11:01:52</td>\n      <td>NaN</td>\n      <td>NaN</td>\n      <td>NaN</td>\n      <td>NaN</td>\n      <td>NaN</td>\n      <td>1-05:11:12</td>\n      <td>2</td>\n      <td>NaN</td>\n    </tr>\n    <tr>\n      <th>3</th>\n      <td>42784.batch</td>\n      <td>batch</td>\n      <td>gl2_gl4</td>\n      <td>GreenLab-STF</td>\n      <td>COMPLETED</td>\n      <td>2023-11-25T05:50:40</td>\n      <td>2023-11-26T11:01:52</td>\n      <td>3.99M</td>\n      <td>729940K</td>\n      <td>88381.86M</td>\n      <td>12728.67M</td>\n      <td>10106308K</td>\n      <td>1-05:11:12</td>\n      <td>2</td>\n      <td>NaN</td>\n    </tr>\n    <tr>\n      <th>4</th>\n      <td>42787</td>\n      <td>daa-local-nc2_gl2-1.cfg</td>\n      <td>gl2_gl4</td>\n      <td>GreenLab-STF</td>\n      <td>COMPLETED</td>\n      <td>2023-11-26T11:06:56</td>\n      <td>2023-11-27T16:07:04</td>\n      <td>NaN</td>\n      <td>NaN</td>\n      <td>NaN</td>\n      <td>NaN</td>\n      <td>NaN</td>\n      <td>1-05:00:08</td>\n      <td>2</td>\n      <td>NaN</td>\n    </tr>\n    <tr>\n      <th>...</th>\n      <td>...</td>\n      <td>...</td>\n      <td>...</td>\n      <td>...</td>\n      <td>...</td>\n      <td>...</td>\n      <td>...</td>\n      <td>...</td>\n      <td>...</td>\n      <td>...</td>\n      <td>...</td>\n      <td>...</td>\n      <td>...</td>\n      <td>...</td>\n      <td>...</td>\n    </tr>\n    <tr>\n      <th>453</th>\n      <td>43525.batch</td>\n      <td>batch</td>\n      <td>gl2_gl4</td>\n      <td>gl6</td>\n      <td>COMPLETED</td>\n      <td>2023-12-18T02:25:23</td>\n      <td>2023-12-18T02:47:29</td>\n      <td>203.27K</td>\n      <td>3874200K</td>\n      <td>5345.24M</td>\n      <td>805.05M</td>\n      <td>193711116K</td>\n      <td>00:22:06</td>\n      <td>32</td>\n      <td>NaN</td>\n    </tr>\n    <tr>\n      <th>454</th>\n      <td>44005</td>\n      <td>dpp-local-nc4_gl6-20.cfg</td>\n      <td>gl2_gl4</td>\n      <td>gl6</td>\n      <td>COMPLETED</td>\n      <td>2023-12-20T16:36:57</td>\n      <td>2023-12-20T17:52:59</td>\n      <td>NaN</td>\n      <td>NaN</td>\n      <td>NaN</td>\n      <td>NaN</td>\n      <td>NaN</td>\n      <td>01:16:02</td>\n      <td>4</td>\n      <td>NaN</td>\n    </tr>\n    <tr>\n      <th>455</th>\n      <td>44005.batch</td>\n      <td>batch</td>\n      <td>gl2_gl4</td>\n      <td>gl6</td>\n      <td>COMPLETED</td>\n      <td>2023-12-20T16:36:57</td>\n      <td>2023-12-20T17:52:59</td>\n      <td>524.61K</td>\n      <td>658816K</td>\n      <td>5345.24M</td>\n      <td>805.04M</td>\n      <td>26436040K</td>\n      <td>01:16:02</td>\n      <td>4</td>\n      <td>NaN</td>\n    </tr>\n    <tr>\n      <th>456</th>\n      <td>44008</td>\n      <td>daa-local-nc4_gl6-20.cfg</td>\n      <td>gl2_gl4</td>\n      <td>gl6</td>\n      <td>COMPLETED</td>\n      <td>2023-12-20T17:58:01</td>\n      <td>2023-12-21T11:26:37</td>\n      <td>NaN</td>\n      <td>NaN</td>\n      <td>NaN</td>\n      <td>NaN</td>\n      <td>NaN</td>\n      <td>17:28:36</td>\n      <td>4</td>\n      <td>NaN</td>\n    </tr>\n    <tr>\n      <th>457</th>\n      <td>44008.batch</td>\n      <td>batch</td>\n      <td>gl2_gl4</td>\n      <td>gl6</td>\n      <td>COMPLETED</td>\n      <td>2023-12-20T17:58:01</td>\n      <td>2023-12-21T11:26:37</td>\n      <td>7.66M</td>\n      <td>1917584K</td>\n      <td>88357.35M</td>\n      <td>12751.50M</td>\n      <td>27516176K</td>\n      <td>17:28:36</td>\n      <td>4</td>\n      <td>NaN</td>\n    </tr>\n  </tbody>\n</table>\n<p>458 rows × 15 columns</p>\n</div>"
     },
     "execution_count": 2,
     "metadata": {},
     "output_type": "execute_result"
    }
   ],
   "source": [
    "data_dir = \"./exp-local\"\n",
    "\n",
    "\n",
    "def import_data(dir):\n",
    "    all_files = Path(dir).glob('*.txt')\n",
    "    all_data = [pd.read_fwf(path, skiprows=[1], index_col=None) for path in all_files]\n",
    "    return pd.concat(all_data, axis=0, ignore_index=True)\n",
    "\n",
    "\n",
    "data = import_data(data_dir)\n",
    "data"
   ],
   "metadata": {
    "collapsed": false,
    "ExecuteTime": {
     "end_time": "2023-12-21T13:17:51.872795600Z",
     "start_time": "2023-12-21T13:17:51.780711700Z"
    }
   }
  },
  {
   "cell_type": "code",
   "execution_count": 3,
   "outputs": [],
   "source": [
    "def convert_to_numeric(value):\n",
    "    match = re.match(r'^([\\d.]+)([KkMm])$', value)\n",
    "    if match:\n",
    "        numeric_part = float(match.group(1))\n",
    "        multiplier = match.group(2).upper()\n",
    "\n",
    "        if multiplier == 'K':\n",
    "            return numeric_part * 1000\n",
    "        elif multiplier == 'M':\n",
    "            return numeric_part * 1000000\n",
    "\n",
    "    return value\n",
    "\n",
    "\n",
    "def convert_elapsed_time(elapsed_time):\n",
    "    parts = elapsed_time.split('-') if '-' in elapsed_time else [0, elapsed_time]\n",
    "    days = int(parts[0])\n",
    "    time_parts = parts[1].split(':')\n",
    "    hours = int(time_parts[0])\n",
    "    minutes = int(time_parts[1])\n",
    "    seconds = int(time_parts[2])\n",
    "    total_seconds = days * 24 * 3600 + hours * 3600 + minutes * 60 + seconds\n",
    "    return total_seconds"
   ],
   "metadata": {
    "collapsed": false,
    "ExecuteTime": {
     "end_time": "2023-12-21T13:17:51.882900700Z",
     "start_time": "2023-12-21T13:17:51.872795600Z"
    }
   }
  },
  {
   "cell_type": "code",
   "execution_count": 4,
   "outputs": [],
   "source": [
    "def filter_out_completed_jobs(dat):\n",
    "    dat = dat[dat.State == 'COMPLETED']\n",
    "    dat.JobName = dat.JobName.replace('batch', method='ffill')\n",
    "    return dat.dropna(subset=['ConsumedEnergy'])\n",
    "\n",
    "\n",
    "def extract_params_from_local_file_name(dat):\n",
    "    dat[['Workflow', 'mode', 'ncores', 'node', 'trial']] = dat.JobName.str.extract(\n",
    "        r'(\\w+)-(\\w+)-nc(\\d+)_(gl\\d+)-(\\d+).cfg')\n",
    "    dat.ncores = dat.ncores.astype(int)\n",
    "    dat.trial = dat.trial.astype(int)\n",
    "    return dat\n",
    "\n",
    "\n",
    "def append_job_data_columns(dat):\n",
    "    for column in ['ConsumedEnergy', 'AveRSS', 'AveDiskRead', 'AveDiskWrite', 'AveVMSize']:\n",
    "        dat[column] = dat[column].apply(convert_to_numeric)\n",
    "        dat[f\"{column}K\"] = dat[column] / 1000\n",
    "        dat[f\"{column}M\"] = dat[column] / 1_000_000\n",
    "        dat[f\"{column}G\"] = dat[column] / 1_000_000_000\n",
    "    dat['ElapsedSeconds'] = dat.Elapsed.apply(convert_elapsed_time)\n",
    "    dat['ElapsedMinutes'] = dat.ElapsedSeconds / 60\n",
    "    dat['ElapsedHours'] = dat.ElapsedMinutes / 60\n",
    "    return dat\n"
   ],
   "metadata": {
    "collapsed": false,
    "ExecuteTime": {
     "end_time": "2023-12-21T13:17:51.942739400Z",
     "start_time": "2023-12-21T13:17:51.890489300Z"
    }
   }
  },
  {
   "cell_type": "code",
   "execution_count": 5,
   "outputs": [
    {
     "name": "stderr",
     "output_type": "stream",
     "text": [
      "C:\\Users\\Dmitrijs\\AppData\\Local\\Temp\\ipykernel_36952\\3033834533.py:3: SettingWithCopyWarning: \n",
      "A value is trying to be set on a copy of a slice from a DataFrame.\n",
      "Try using .loc[row_indexer,col_indexer] = value instead\n",
      "\n",
      "See the caveats in the documentation: https://pandas.pydata.org/pandas-docs/stable/user_guide/indexing.html#returning-a-view-versus-a-copy\n",
      "  dat.JobName = dat.JobName.replace('batch', method='ffill')\n"
     ]
    },
    {
     "data": {
      "text/plain": "           JobID                    JobName  Cluster      NodeList      State  \\\n8    42826.batch    daa-local-nc4_gl2-5.cfg  gl2_gl4  GreenLab-STF  COMPLETED   \n9    42832.batch    daa-local-nc4_gl2-8.cfg  gl2_gl4  GreenLab-STF  COMPLETED   \n13   42853.batch    daa-local-nc4_gl2-6.cfg  gl2_gl4  GreenLab-STF  COMPLETED   \n16   42871.batch    daa-local-nc4_gl2-3.cfg  gl2_gl4  GreenLab-STF  COMPLETED   \n17   42874.batch    daa-local-nc4_gl2-1.cfg  gl2_gl4  GreenLab-STF  COMPLETED   \n..           ...                        ...      ...           ...        ...   \n113  43189.batch   dpp-local-nc32_gl6-9.cfg  gl2_gl4           gl6  COMPLETED   \n121  43213.batch   dpp-local-nc32_gl6-6.cfg  gl2_gl4           gl6  COMPLETED   \n128  43246.batch   dpp-local-nc32_gl6-3.cfg  gl2_gl4           gl6  COMPLETED   \n129  43249.batch  dpp-local-nc32_gl6-10.cfg  gl2_gl4           gl6  COMPLETED   \n140  43525.batch  dpp-local-nc32_gl6-11.cfg  gl2_gl4           gl6  COMPLETED   \n\n                   Start                  End  ConsumedEnergy        AveRSS  \\\n8    2023-11-30T22:09:05  2023-12-01T14:41:24       3040000.0  1.296320e+09   \n9    2023-12-01T14:46:26  2023-12-02T07:20:32       3040000.0  1.192524e+09   \n13   2023-12-02T15:29:44  2023-12-03T07:57:43       3030000.0  1.181660e+09   \n16   2023-12-03T10:13:21  2023-12-04T02:39:18       3030000.0  1.164340e+09   \n17   2023-12-04T02:44:22  2023-12-04T19:10:36       3030000.0  1.185192e+09   \n..                   ...                  ...             ...           ...   \n113  2023-12-11T18:55:52  2023-12-11T19:16:50        196530.0  3.991680e+09   \n121  2023-12-14T01:06:26  2023-12-14T01:27:28        198010.0  3.969780e+09   \n128  2023-12-15T10:02:14  2023-12-15T10:24:18        201530.0  3.897232e+09   \n129  2023-12-15T10:29:23  2023-12-15T10:51:43        203400.0  3.964100e+09   \n140  2023-12-18T02:25:23  2023-12-18T02:47:29        203270.0  3.874200e+09   \n\n      AveDiskRead  ...  AveDiskReadG  AveDiskWriteK AveDiskWriteM  \\\n8    8.838186e+10  ...      88.38186     12728740.0      12728.74   \n9    8.838420e+10  ...      88.38420     12731990.0      12731.99   \n13   8.838194e+10  ...      88.38194     12728740.0      12728.74   \n16   8.838404e+10  ...      88.38404     12731830.0      12731.83   \n17   8.838194e+10  ...      88.38194     12728740.0      12728.74   \n..            ...  ...           ...            ...           ...   \n113  5.343420e+09  ...       5.34342       804960.0        804.96   \n121  5.341880e+09  ...       5.34188       804460.0        804.46   \n128  5.342720e+09  ...       5.34272       804960.0        804.96   \n129  5.341960e+09  ...       5.34196       804890.0        804.89   \n140  5.345240e+09  ...       5.34524       805050.0        805.05   \n\n     AveDiskWriteG   AveVMSizeK  AveVMSizeM  AveVMSizeG ElapsedSeconds  \\\n8         12.72874   19389280.0   19389.280   19.389280          59539   \n9         12.73199   19387324.0   19387.324   19.387324          59646   \n13        12.72874   19389224.0   19389.224   19.389224          59279   \n16        12.73183   19388960.0   19388.960   19.388960          59157   \n17        12.72874   19388384.0   19388.384   19.388384          59174   \n..             ...          ...         ...         ...            ...   \n113        0.80496  193691408.0  193691.408  193.691408           1258   \n121        0.80446  193689624.0  193689.624  193.689624           1262   \n128        0.80496  193723732.0  193723.732  193.723732           1324   \n129        0.80489  193718664.0  193718.664  193.718664           1340   \n140        0.80505  193711116.0  193711.116  193.711116           1326   \n\n     ElapsedMinutes  ElapsedHours  \n8        992.316667     16.538611  \n9        994.100000     16.568333  \n13       987.983333     16.466389  \n16       985.950000     16.432500  \n17       986.233333     16.437222  \n..              ...           ...  \n113       20.966667      0.349444  \n121       21.033333      0.350556  \n128       22.066667      0.367778  \n129       22.333333      0.372222  \n140       22.100000      0.368333  \n\n[143 rows x 37 columns]",
      "text/html": "<div>\n<style scoped>\n    .dataframe tbody tr th:only-of-type {\n        vertical-align: middle;\n    }\n\n    .dataframe tbody tr th {\n        vertical-align: top;\n    }\n\n    .dataframe thead th {\n        text-align: right;\n    }\n</style>\n<table border=\"1\" class=\"dataframe\">\n  <thead>\n    <tr style=\"text-align: right;\">\n      <th></th>\n      <th>JobID</th>\n      <th>JobName</th>\n      <th>Cluster</th>\n      <th>NodeList</th>\n      <th>State</th>\n      <th>Start</th>\n      <th>End</th>\n      <th>ConsumedEnergy</th>\n      <th>AveRSS</th>\n      <th>AveDiskRead</th>\n      <th>...</th>\n      <th>AveDiskReadG</th>\n      <th>AveDiskWriteK</th>\n      <th>AveDiskWriteM</th>\n      <th>AveDiskWriteG</th>\n      <th>AveVMSizeK</th>\n      <th>AveVMSizeM</th>\n      <th>AveVMSizeG</th>\n      <th>ElapsedSeconds</th>\n      <th>ElapsedMinutes</th>\n      <th>ElapsedHours</th>\n    </tr>\n  </thead>\n  <tbody>\n    <tr>\n      <th>8</th>\n      <td>42826.batch</td>\n      <td>daa-local-nc4_gl2-5.cfg</td>\n      <td>gl2_gl4</td>\n      <td>GreenLab-STF</td>\n      <td>COMPLETED</td>\n      <td>2023-11-30T22:09:05</td>\n      <td>2023-12-01T14:41:24</td>\n      <td>3040000.0</td>\n      <td>1.296320e+09</td>\n      <td>8.838186e+10</td>\n      <td>...</td>\n      <td>88.38186</td>\n      <td>12728740.0</td>\n      <td>12728.74</td>\n      <td>12.72874</td>\n      <td>19389280.0</td>\n      <td>19389.280</td>\n      <td>19.389280</td>\n      <td>59539</td>\n      <td>992.316667</td>\n      <td>16.538611</td>\n    </tr>\n    <tr>\n      <th>9</th>\n      <td>42832.batch</td>\n      <td>daa-local-nc4_gl2-8.cfg</td>\n      <td>gl2_gl4</td>\n      <td>GreenLab-STF</td>\n      <td>COMPLETED</td>\n      <td>2023-12-01T14:46:26</td>\n      <td>2023-12-02T07:20:32</td>\n      <td>3040000.0</td>\n      <td>1.192524e+09</td>\n      <td>8.838420e+10</td>\n      <td>...</td>\n      <td>88.38420</td>\n      <td>12731990.0</td>\n      <td>12731.99</td>\n      <td>12.73199</td>\n      <td>19387324.0</td>\n      <td>19387.324</td>\n      <td>19.387324</td>\n      <td>59646</td>\n      <td>994.100000</td>\n      <td>16.568333</td>\n    </tr>\n    <tr>\n      <th>13</th>\n      <td>42853.batch</td>\n      <td>daa-local-nc4_gl2-6.cfg</td>\n      <td>gl2_gl4</td>\n      <td>GreenLab-STF</td>\n      <td>COMPLETED</td>\n      <td>2023-12-02T15:29:44</td>\n      <td>2023-12-03T07:57:43</td>\n      <td>3030000.0</td>\n      <td>1.181660e+09</td>\n      <td>8.838194e+10</td>\n      <td>...</td>\n      <td>88.38194</td>\n      <td>12728740.0</td>\n      <td>12728.74</td>\n      <td>12.72874</td>\n      <td>19389224.0</td>\n      <td>19389.224</td>\n      <td>19.389224</td>\n      <td>59279</td>\n      <td>987.983333</td>\n      <td>16.466389</td>\n    </tr>\n    <tr>\n      <th>16</th>\n      <td>42871.batch</td>\n      <td>daa-local-nc4_gl2-3.cfg</td>\n      <td>gl2_gl4</td>\n      <td>GreenLab-STF</td>\n      <td>COMPLETED</td>\n      <td>2023-12-03T10:13:21</td>\n      <td>2023-12-04T02:39:18</td>\n      <td>3030000.0</td>\n      <td>1.164340e+09</td>\n      <td>8.838404e+10</td>\n      <td>...</td>\n      <td>88.38404</td>\n      <td>12731830.0</td>\n      <td>12731.83</td>\n      <td>12.73183</td>\n      <td>19388960.0</td>\n      <td>19388.960</td>\n      <td>19.388960</td>\n      <td>59157</td>\n      <td>985.950000</td>\n      <td>16.432500</td>\n    </tr>\n    <tr>\n      <th>17</th>\n      <td>42874.batch</td>\n      <td>daa-local-nc4_gl2-1.cfg</td>\n      <td>gl2_gl4</td>\n      <td>GreenLab-STF</td>\n      <td>COMPLETED</td>\n      <td>2023-12-04T02:44:22</td>\n      <td>2023-12-04T19:10:36</td>\n      <td>3030000.0</td>\n      <td>1.185192e+09</td>\n      <td>8.838194e+10</td>\n      <td>...</td>\n      <td>88.38194</td>\n      <td>12728740.0</td>\n      <td>12728.74</td>\n      <td>12.72874</td>\n      <td>19388384.0</td>\n      <td>19388.384</td>\n      <td>19.388384</td>\n      <td>59174</td>\n      <td>986.233333</td>\n      <td>16.437222</td>\n    </tr>\n    <tr>\n      <th>...</th>\n      <td>...</td>\n      <td>...</td>\n      <td>...</td>\n      <td>...</td>\n      <td>...</td>\n      <td>...</td>\n      <td>...</td>\n      <td>...</td>\n      <td>...</td>\n      <td>...</td>\n      <td>...</td>\n      <td>...</td>\n      <td>...</td>\n      <td>...</td>\n      <td>...</td>\n      <td>...</td>\n      <td>...</td>\n      <td>...</td>\n      <td>...</td>\n      <td>...</td>\n      <td>...</td>\n    </tr>\n    <tr>\n      <th>113</th>\n      <td>43189.batch</td>\n      <td>dpp-local-nc32_gl6-9.cfg</td>\n      <td>gl2_gl4</td>\n      <td>gl6</td>\n      <td>COMPLETED</td>\n      <td>2023-12-11T18:55:52</td>\n      <td>2023-12-11T19:16:50</td>\n      <td>196530.0</td>\n      <td>3.991680e+09</td>\n      <td>5.343420e+09</td>\n      <td>...</td>\n      <td>5.34342</td>\n      <td>804960.0</td>\n      <td>804.96</td>\n      <td>0.80496</td>\n      <td>193691408.0</td>\n      <td>193691.408</td>\n      <td>193.691408</td>\n      <td>1258</td>\n      <td>20.966667</td>\n      <td>0.349444</td>\n    </tr>\n    <tr>\n      <th>121</th>\n      <td>43213.batch</td>\n      <td>dpp-local-nc32_gl6-6.cfg</td>\n      <td>gl2_gl4</td>\n      <td>gl6</td>\n      <td>COMPLETED</td>\n      <td>2023-12-14T01:06:26</td>\n      <td>2023-12-14T01:27:28</td>\n      <td>198010.0</td>\n      <td>3.969780e+09</td>\n      <td>5.341880e+09</td>\n      <td>...</td>\n      <td>5.34188</td>\n      <td>804460.0</td>\n      <td>804.46</td>\n      <td>0.80446</td>\n      <td>193689624.0</td>\n      <td>193689.624</td>\n      <td>193.689624</td>\n      <td>1262</td>\n      <td>21.033333</td>\n      <td>0.350556</td>\n    </tr>\n    <tr>\n      <th>128</th>\n      <td>43246.batch</td>\n      <td>dpp-local-nc32_gl6-3.cfg</td>\n      <td>gl2_gl4</td>\n      <td>gl6</td>\n      <td>COMPLETED</td>\n      <td>2023-12-15T10:02:14</td>\n      <td>2023-12-15T10:24:18</td>\n      <td>201530.0</td>\n      <td>3.897232e+09</td>\n      <td>5.342720e+09</td>\n      <td>...</td>\n      <td>5.34272</td>\n      <td>804960.0</td>\n      <td>804.96</td>\n      <td>0.80496</td>\n      <td>193723732.0</td>\n      <td>193723.732</td>\n      <td>193.723732</td>\n      <td>1324</td>\n      <td>22.066667</td>\n      <td>0.367778</td>\n    </tr>\n    <tr>\n      <th>129</th>\n      <td>43249.batch</td>\n      <td>dpp-local-nc32_gl6-10.cfg</td>\n      <td>gl2_gl4</td>\n      <td>gl6</td>\n      <td>COMPLETED</td>\n      <td>2023-12-15T10:29:23</td>\n      <td>2023-12-15T10:51:43</td>\n      <td>203400.0</td>\n      <td>3.964100e+09</td>\n      <td>5.341960e+09</td>\n      <td>...</td>\n      <td>5.34196</td>\n      <td>804890.0</td>\n      <td>804.89</td>\n      <td>0.80489</td>\n      <td>193718664.0</td>\n      <td>193718.664</td>\n      <td>193.718664</td>\n      <td>1340</td>\n      <td>22.333333</td>\n      <td>0.372222</td>\n    </tr>\n    <tr>\n      <th>140</th>\n      <td>43525.batch</td>\n      <td>dpp-local-nc32_gl6-11.cfg</td>\n      <td>gl2_gl4</td>\n      <td>gl6</td>\n      <td>COMPLETED</td>\n      <td>2023-12-18T02:25:23</td>\n      <td>2023-12-18T02:47:29</td>\n      <td>203270.0</td>\n      <td>3.874200e+09</td>\n      <td>5.345240e+09</td>\n      <td>...</td>\n      <td>5.34524</td>\n      <td>805050.0</td>\n      <td>805.05</td>\n      <td>0.80505</td>\n      <td>193711116.0</td>\n      <td>193711.116</td>\n      <td>193.711116</td>\n      <td>1326</td>\n      <td>22.100000</td>\n      <td>0.368333</td>\n    </tr>\n  </tbody>\n</table>\n<p>143 rows × 37 columns</p>\n</div>"
     },
     "metadata": {},
     "output_type": "display_data"
    },
    {
     "data": {
      "text/plain": "    JobID                    JobName  Cluster  NodeList    State    Start  \\\n0   43837   dpp-local-nc8_gl5-14.cfg  gl2_gl4  assigned  PENDING  Unknown   \n1   43840   daa-local-nc8_gl5-13.cfg  gl2_gl4  assigned  PENDING  Unknown   \n2   43843   daa-local-nc4_gl5-15.cfg  gl2_gl4  assigned  PENDING  Unknown   \n3   43846   daa-local-nc4_gl5-17.cfg  gl2_gl4  assigned  PENDING  Unknown   \n4   43849   dpp-local-nc4_gl5-14.cfg  gl2_gl4  assigned  PENDING  Unknown   \n5   43852   daa-local-nc8_gl5-14.cfg  gl2_gl4  assigned  PENDING  Unknown   \n6   43855   daa-local-nc4_gl5-14.cfg  gl2_gl4  assigned  PENDING  Unknown   \n7   43858  daa-local-nc16_gl5-16.cfg  gl2_gl4  assigned  PENDING  Unknown   \n8   43861   dpp-local-nc8_gl5-16.cfg  gl2_gl4  assigned  PENDING  Unknown   \n9   43864  daa-local-nc32_gl5-16.cfg  gl2_gl4  assigned  PENDING  Unknown   \n10  43867  dpp-local-nc16_gl5-11.cfg  gl2_gl4  assigned  PENDING  Unknown   \n11  43870  dpp-local-nc16_gl5-10.cfg  gl2_gl4  assigned  PENDING  Unknown   \n12  43873  dpp-local-nc16_gl5-12.cfg  gl2_gl4  assigned  PENDING  Unknown   \n13  43876   dpp-local-nc4_gl5-13.cfg  gl2_gl4  assigned  PENDING  Unknown   \n14  43879  daa-local-nc32_gl5-14.cfg  gl2_gl4  assigned  PENDING  Unknown   \n15  43882  dpp-local-nc16_gl5-13.cfg  gl2_gl4  assigned  PENDING  Unknown   \n16  43885   daa-local-nc4_gl5-11.cfg  gl2_gl4  assigned  PENDING  Unknown   \n17  43888   dpp-local-nc4_gl5-15.cfg  gl2_gl4  assigned  PENDING  Unknown   \n18  43891  dpp-local-nc32_gl5-14.cfg  gl2_gl4  assigned  PENDING  Unknown   \n19  43894  dpp-local-nc32_gl5-13.cfg  gl2_gl4  assigned  PENDING  Unknown   \n20  43897  dpp-local-nc16_gl5-16.cfg  gl2_gl4  assigned  PENDING  Unknown   \n21  43900  daa-local-nc32_gl5-12.cfg  gl2_gl4  assigned  PENDING  Unknown   \n22  43903  dpp-local-nc32_gl5-11.cfg  gl2_gl4  assigned  PENDING  Unknown   \n23  43906  dpp-local-nc32_gl5-15.cfg  gl2_gl4  assigned  PENDING  Unknown   \n24  43909  daa-local-nc16_gl5-14.cfg  gl2_gl4  assigned  PENDING  Unknown   \n25  43912  dpp-local-nc16_gl5-15.cfg  gl2_gl4  assigned  PENDING  Unknown   \n26  43915   dpp-local-nc4_gl5-10.cfg  gl2_gl4  assigned  PENDING  Unknown   \n27  43918  daa-local-nc32_gl5-13.cfg  gl2_gl4  assigned  PENDING  Unknown   \n28  43921  daa-local-nc16_gl5-11.cfg  gl2_gl4  assigned  PENDING  Unknown   \n29  43924  daa-local-nc16_gl5-15.cfg  gl2_gl4  assigned  PENDING  Unknown   \n30  43927   daa-local-nc8_gl5-10.cfg  gl2_gl4  assigned  PENDING  Unknown   \n31  43930  dpp-local-nc32_gl5-12.cfg  gl2_gl4  assigned  PENDING  Unknown   \n32  43933  dpp-local-nc32_gl5-10.cfg  gl2_gl4  assigned  PENDING  Unknown   \n33  43936  daa-local-nc16_gl5-17.cfg  gl2_gl4  assigned  PENDING  Unknown   \n34  43939  daa-local-nc16_gl5-12.cfg  gl2_gl4  assigned  PENDING  Unknown   \n35  43942   daa-local-nc8_gl5-11.cfg  gl2_gl4  assigned  PENDING  Unknown   \n36  43945   dpp-local-nc8_gl5-10.cfg  gl2_gl4  assigned  PENDING  Unknown   \n37  43948  dpp-local-nc16_gl5-14.cfg  gl2_gl4  assigned  PENDING  Unknown   \n38  43951   dpp-local-nc8_gl5-13.cfg  gl2_gl4  assigned  PENDING  Unknown   \n39  43954  dpp-local-nc16_gl5-18.cfg  gl2_gl4  assigned  PENDING  Unknown   \n40  43957  daa-local-nc16_gl5-13.cfg  gl2_gl4  assigned  PENDING  Unknown   \n41  43960   dpp-local-nc4_gl5-11.cfg  gl2_gl4  assigned  PENDING  Unknown   \n42  43963   dpp-local-nc8_gl5-11.cfg  gl2_gl4  assigned  PENDING  Unknown   \n43  43966  daa-local-nc16_gl5-10.cfg  gl2_gl4  assigned  PENDING  Unknown   \n44  43969   daa-local-nc4_gl5-12.cfg  gl2_gl4  assigned  PENDING  Unknown   \n45  43972   daa-local-nc4_gl5-16.cfg  gl2_gl4  assigned  PENDING  Unknown   \n46  43975  daa-local-nc32_gl5-11.cfg  gl2_gl4  assigned  PENDING  Unknown   \n47  43978   dpp-local-nc4_gl5-12.cfg  gl2_gl4  assigned  PENDING  Unknown   \n48  43981   dpp-local-nc8_gl5-15.cfg  gl2_gl4  assigned  PENDING  Unknown   \n49  43984  dpp-local-nc16_gl5-17.cfg  gl2_gl4  assigned  PENDING  Unknown   \n50  43987  daa-local-nc32_gl5-17.cfg  gl2_gl4  assigned  PENDING  Unknown   \n51  43990   daa-local-nc4_gl5-13.cfg  gl2_gl4  assigned  PENDING  Unknown   \n52  43993   daa-local-nc8_gl5-12.cfg  gl2_gl4  assigned  PENDING  Unknown   \n53  43996  daa-local-nc32_gl5-15.cfg  gl2_gl4  assigned  PENDING  Unknown   \n54  43999  daa-local-nc32_gl5-18.cfg  gl2_gl4  assigned  PENDING  Unknown   \n\n        End ConsumedEnergy AveRSS AveDiskRead AveDiskWrite AveVMSize  \\\n0   Unknown              0    NaN         NaN          NaN       NaN   \n1   Unknown              0    NaN         NaN          NaN       NaN   \n2   Unknown              0    NaN         NaN          NaN       NaN   \n3   Unknown              0    NaN         NaN          NaN       NaN   \n4   Unknown              0    NaN         NaN          NaN       NaN   \n5   Unknown              0    NaN         NaN          NaN       NaN   \n6   Unknown              0    NaN         NaN          NaN       NaN   \n7   Unknown              0    NaN         NaN          NaN       NaN   \n8   Unknown              0    NaN         NaN          NaN       NaN   \n9   Unknown              0    NaN         NaN          NaN       NaN   \n10  Unknown              0    NaN         NaN          NaN       NaN   \n11  Unknown              0    NaN         NaN          NaN       NaN   \n12  Unknown              0    NaN         NaN          NaN       NaN   \n13  Unknown              0    NaN         NaN          NaN       NaN   \n14  Unknown              0    NaN         NaN          NaN       NaN   \n15  Unknown              0    NaN         NaN          NaN       NaN   \n16  Unknown              0    NaN         NaN          NaN       NaN   \n17  Unknown              0    NaN         NaN          NaN       NaN   \n18  Unknown              0    NaN         NaN          NaN       NaN   \n19  Unknown              0    NaN         NaN          NaN       NaN   \n20  Unknown              0    NaN         NaN          NaN       NaN   \n21  Unknown              0    NaN         NaN          NaN       NaN   \n22  Unknown              0    NaN         NaN          NaN       NaN   \n23  Unknown              0    NaN         NaN          NaN       NaN   \n24  Unknown              0    NaN         NaN          NaN       NaN   \n25  Unknown              0    NaN         NaN          NaN       NaN   \n26  Unknown              0    NaN         NaN          NaN       NaN   \n27  Unknown              0    NaN         NaN          NaN       NaN   \n28  Unknown              0    NaN         NaN          NaN       NaN   \n29  Unknown              0    NaN         NaN          NaN       NaN   \n30  Unknown              0    NaN         NaN          NaN       NaN   \n31  Unknown              0    NaN         NaN          NaN       NaN   \n32  Unknown              0    NaN         NaN          NaN       NaN   \n33  Unknown              0    NaN         NaN          NaN       NaN   \n34  Unknown              0    NaN         NaN          NaN       NaN   \n35  Unknown              0    NaN         NaN          NaN       NaN   \n36  Unknown              0    NaN         NaN          NaN       NaN   \n37  Unknown              0    NaN         NaN          NaN       NaN   \n38  Unknown              0    NaN         NaN          NaN       NaN   \n39  Unknown              0    NaN         NaN          NaN       NaN   \n40  Unknown              0    NaN         NaN          NaN       NaN   \n41  Unknown              0    NaN         NaN          NaN       NaN   \n42  Unknown              0    NaN         NaN          NaN       NaN   \n43  Unknown              0    NaN         NaN          NaN       NaN   \n44  Unknown              0    NaN         NaN          NaN       NaN   \n45  Unknown              0    NaN         NaN          NaN       NaN   \n46  Unknown              0    NaN         NaN          NaN       NaN   \n47  Unknown              0    NaN         NaN          NaN       NaN   \n48  Unknown              0    NaN         NaN          NaN       NaN   \n49  Unknown              0    NaN         NaN          NaN       NaN   \n50  Unknown              0    NaN         NaN          NaN       NaN   \n51  Unknown              0    NaN         NaN          NaN       NaN   \n52  Unknown              0    NaN         NaN          NaN       NaN   \n53  Unknown              0    NaN         NaN          NaN       NaN   \n54  Unknown              0    NaN         NaN          NaN       NaN   \n\n     Elapsed  NCPUS Workflow   mode  ncores node  trial  \n0   00:00:00      8      dpp  local       8  gl5     14  \n1   00:00:00      8      daa  local       8  gl5     13  \n2   00:00:00      4      daa  local       4  gl5     15  \n3   00:00:00      4      daa  local       4  gl5     17  \n4   00:00:00      4      dpp  local       4  gl5     14  \n5   00:00:00      8      daa  local       8  gl5     14  \n6   00:00:00      4      daa  local       4  gl5     14  \n7   00:00:00     16      daa  local      16  gl5     16  \n8   00:00:00      8      dpp  local       8  gl5     16  \n9   00:00:00     32      daa  local      32  gl5     16  \n10  00:00:00     16      dpp  local      16  gl5     11  \n11  00:00:00     16      dpp  local      16  gl5     10  \n12  00:00:00     16      dpp  local      16  gl5     12  \n13  00:00:00      4      dpp  local       4  gl5     13  \n14  00:00:00     32      daa  local      32  gl5     14  \n15  00:00:00     16      dpp  local      16  gl5     13  \n16  00:00:00      4      daa  local       4  gl5     11  \n17  00:00:00      4      dpp  local       4  gl5     15  \n18  00:00:00     32      dpp  local      32  gl5     14  \n19  00:00:00     32      dpp  local      32  gl5     13  \n20  00:00:00     16      dpp  local      16  gl5     16  \n21  00:00:00     32      daa  local      32  gl5     12  \n22  00:00:00     32      dpp  local      32  gl5     11  \n23  00:00:00     32      dpp  local      32  gl5     15  \n24  00:00:00     16      daa  local      16  gl5     14  \n25  00:00:00     16      dpp  local      16  gl5     15  \n26  00:00:00      4      dpp  local       4  gl5     10  \n27  00:00:00     32      daa  local      32  gl5     13  \n28  00:00:00     16      daa  local      16  gl5     11  \n29  00:00:00     16      daa  local      16  gl5     15  \n30  00:00:00      8      daa  local       8  gl5     10  \n31  00:00:00     32      dpp  local      32  gl5     12  \n32  00:00:00     32      dpp  local      32  gl5     10  \n33  00:00:00     16      daa  local      16  gl5     17  \n34  00:00:00     16      daa  local      16  gl5     12  \n35  00:00:00      8      daa  local       8  gl5     11  \n36  00:00:00      8      dpp  local       8  gl5     10  \n37  00:00:00     16      dpp  local      16  gl5     14  \n38  00:00:00      8      dpp  local       8  gl5     13  \n39  00:00:00     16      dpp  local      16  gl5     18  \n40  00:00:00     16      daa  local      16  gl5     13  \n41  00:00:00      4      dpp  local       4  gl5     11  \n42  00:00:00      8      dpp  local       8  gl5     11  \n43  00:00:00     16      daa  local      16  gl5     10  \n44  00:00:00      4      daa  local       4  gl5     12  \n45  00:00:00      4      daa  local       4  gl5     16  \n46  00:00:00     32      daa  local      32  gl5     11  \n47  00:00:00      4      dpp  local       4  gl5     12  \n48  00:00:00      8      dpp  local       8  gl5     15  \n49  00:00:00     16      dpp  local      16  gl5     17  \n50  00:00:00     32      daa  local      32  gl5     17  \n51  00:00:00      4      daa  local       4  gl5     13  \n52  00:00:00      8      daa  local       8  gl5     12  \n53  00:00:00     32      daa  local      32  gl5     15  \n54  00:00:00     32      daa  local      32  gl5     18  ",
      "text/html": "<div>\n<style scoped>\n    .dataframe tbody tr th:only-of-type {\n        vertical-align: middle;\n    }\n\n    .dataframe tbody tr th {\n        vertical-align: top;\n    }\n\n    .dataframe thead th {\n        text-align: right;\n    }\n</style>\n<table border=\"1\" class=\"dataframe\">\n  <thead>\n    <tr style=\"text-align: right;\">\n      <th></th>\n      <th>JobID</th>\n      <th>JobName</th>\n      <th>Cluster</th>\n      <th>NodeList</th>\n      <th>State</th>\n      <th>Start</th>\n      <th>End</th>\n      <th>ConsumedEnergy</th>\n      <th>AveRSS</th>\n      <th>AveDiskRead</th>\n      <th>AveDiskWrite</th>\n      <th>AveVMSize</th>\n      <th>Elapsed</th>\n      <th>NCPUS</th>\n      <th>Workflow</th>\n      <th>mode</th>\n      <th>ncores</th>\n      <th>node</th>\n      <th>trial</th>\n    </tr>\n  </thead>\n  <tbody>\n    <tr>\n      <th>0</th>\n      <td>43837</td>\n      <td>dpp-local-nc8_gl5-14.cfg</td>\n      <td>gl2_gl4</td>\n      <td>assigned</td>\n      <td>PENDING</td>\n      <td>Unknown</td>\n      <td>Unknown</td>\n      <td>0</td>\n      <td>NaN</td>\n      <td>NaN</td>\n      <td>NaN</td>\n      <td>NaN</td>\n      <td>00:00:00</td>\n      <td>8</td>\n      <td>dpp</td>\n      <td>local</td>\n      <td>8</td>\n      <td>gl5</td>\n      <td>14</td>\n    </tr>\n    <tr>\n      <th>1</th>\n      <td>43840</td>\n      <td>daa-local-nc8_gl5-13.cfg</td>\n      <td>gl2_gl4</td>\n      <td>assigned</td>\n      <td>PENDING</td>\n      <td>Unknown</td>\n      <td>Unknown</td>\n      <td>0</td>\n      <td>NaN</td>\n      <td>NaN</td>\n      <td>NaN</td>\n      <td>NaN</td>\n      <td>00:00:00</td>\n      <td>8</td>\n      <td>daa</td>\n      <td>local</td>\n      <td>8</td>\n      <td>gl5</td>\n      <td>13</td>\n    </tr>\n    <tr>\n      <th>2</th>\n      <td>43843</td>\n      <td>daa-local-nc4_gl5-15.cfg</td>\n      <td>gl2_gl4</td>\n      <td>assigned</td>\n      <td>PENDING</td>\n      <td>Unknown</td>\n      <td>Unknown</td>\n      <td>0</td>\n      <td>NaN</td>\n      <td>NaN</td>\n      <td>NaN</td>\n      <td>NaN</td>\n      <td>00:00:00</td>\n      <td>4</td>\n      <td>daa</td>\n      <td>local</td>\n      <td>4</td>\n      <td>gl5</td>\n      <td>15</td>\n    </tr>\n    <tr>\n      <th>3</th>\n      <td>43846</td>\n      <td>daa-local-nc4_gl5-17.cfg</td>\n      <td>gl2_gl4</td>\n      <td>assigned</td>\n      <td>PENDING</td>\n      <td>Unknown</td>\n      <td>Unknown</td>\n      <td>0</td>\n      <td>NaN</td>\n      <td>NaN</td>\n      <td>NaN</td>\n      <td>NaN</td>\n      <td>00:00:00</td>\n      <td>4</td>\n      <td>daa</td>\n      <td>local</td>\n      <td>4</td>\n      <td>gl5</td>\n      <td>17</td>\n    </tr>\n    <tr>\n      <th>4</th>\n      <td>43849</td>\n      <td>dpp-local-nc4_gl5-14.cfg</td>\n      <td>gl2_gl4</td>\n      <td>assigned</td>\n      <td>PENDING</td>\n      <td>Unknown</td>\n      <td>Unknown</td>\n      <td>0</td>\n      <td>NaN</td>\n      <td>NaN</td>\n      <td>NaN</td>\n      <td>NaN</td>\n      <td>00:00:00</td>\n      <td>4</td>\n      <td>dpp</td>\n      <td>local</td>\n      <td>4</td>\n      <td>gl5</td>\n      <td>14</td>\n    </tr>\n    <tr>\n      <th>5</th>\n      <td>43852</td>\n      <td>daa-local-nc8_gl5-14.cfg</td>\n      <td>gl2_gl4</td>\n      <td>assigned</td>\n      <td>PENDING</td>\n      <td>Unknown</td>\n      <td>Unknown</td>\n      <td>0</td>\n      <td>NaN</td>\n      <td>NaN</td>\n      <td>NaN</td>\n      <td>NaN</td>\n      <td>00:00:00</td>\n      <td>8</td>\n      <td>daa</td>\n      <td>local</td>\n      <td>8</td>\n      <td>gl5</td>\n      <td>14</td>\n    </tr>\n    <tr>\n      <th>6</th>\n      <td>43855</td>\n      <td>daa-local-nc4_gl5-14.cfg</td>\n      <td>gl2_gl4</td>\n      <td>assigned</td>\n      <td>PENDING</td>\n      <td>Unknown</td>\n      <td>Unknown</td>\n      <td>0</td>\n      <td>NaN</td>\n      <td>NaN</td>\n      <td>NaN</td>\n      <td>NaN</td>\n      <td>00:00:00</td>\n      <td>4</td>\n      <td>daa</td>\n      <td>local</td>\n      <td>4</td>\n      <td>gl5</td>\n      <td>14</td>\n    </tr>\n    <tr>\n      <th>7</th>\n      <td>43858</td>\n      <td>daa-local-nc16_gl5-16.cfg</td>\n      <td>gl2_gl4</td>\n      <td>assigned</td>\n      <td>PENDING</td>\n      <td>Unknown</td>\n      <td>Unknown</td>\n      <td>0</td>\n      <td>NaN</td>\n      <td>NaN</td>\n      <td>NaN</td>\n      <td>NaN</td>\n      <td>00:00:00</td>\n      <td>16</td>\n      <td>daa</td>\n      <td>local</td>\n      <td>16</td>\n      <td>gl5</td>\n      <td>16</td>\n    </tr>\n    <tr>\n      <th>8</th>\n      <td>43861</td>\n      <td>dpp-local-nc8_gl5-16.cfg</td>\n      <td>gl2_gl4</td>\n      <td>assigned</td>\n      <td>PENDING</td>\n      <td>Unknown</td>\n      <td>Unknown</td>\n      <td>0</td>\n      <td>NaN</td>\n      <td>NaN</td>\n      <td>NaN</td>\n      <td>NaN</td>\n      <td>00:00:00</td>\n      <td>8</td>\n      <td>dpp</td>\n      <td>local</td>\n      <td>8</td>\n      <td>gl5</td>\n      <td>16</td>\n    </tr>\n    <tr>\n      <th>9</th>\n      <td>43864</td>\n      <td>daa-local-nc32_gl5-16.cfg</td>\n      <td>gl2_gl4</td>\n      <td>assigned</td>\n      <td>PENDING</td>\n      <td>Unknown</td>\n      <td>Unknown</td>\n      <td>0</td>\n      <td>NaN</td>\n      <td>NaN</td>\n      <td>NaN</td>\n      <td>NaN</td>\n      <td>00:00:00</td>\n      <td>32</td>\n      <td>daa</td>\n      <td>local</td>\n      <td>32</td>\n      <td>gl5</td>\n      <td>16</td>\n    </tr>\n    <tr>\n      <th>10</th>\n      <td>43867</td>\n      <td>dpp-local-nc16_gl5-11.cfg</td>\n      <td>gl2_gl4</td>\n      <td>assigned</td>\n      <td>PENDING</td>\n      <td>Unknown</td>\n      <td>Unknown</td>\n      <td>0</td>\n      <td>NaN</td>\n      <td>NaN</td>\n      <td>NaN</td>\n      <td>NaN</td>\n      <td>00:00:00</td>\n      <td>16</td>\n      <td>dpp</td>\n      <td>local</td>\n      <td>16</td>\n      <td>gl5</td>\n      <td>11</td>\n    </tr>\n    <tr>\n      <th>11</th>\n      <td>43870</td>\n      <td>dpp-local-nc16_gl5-10.cfg</td>\n      <td>gl2_gl4</td>\n      <td>assigned</td>\n      <td>PENDING</td>\n      <td>Unknown</td>\n      <td>Unknown</td>\n      <td>0</td>\n      <td>NaN</td>\n      <td>NaN</td>\n      <td>NaN</td>\n      <td>NaN</td>\n      <td>00:00:00</td>\n      <td>16</td>\n      <td>dpp</td>\n      <td>local</td>\n      <td>16</td>\n      <td>gl5</td>\n      <td>10</td>\n    </tr>\n    <tr>\n      <th>12</th>\n      <td>43873</td>\n      <td>dpp-local-nc16_gl5-12.cfg</td>\n      <td>gl2_gl4</td>\n      <td>assigned</td>\n      <td>PENDING</td>\n      <td>Unknown</td>\n      <td>Unknown</td>\n      <td>0</td>\n      <td>NaN</td>\n      <td>NaN</td>\n      <td>NaN</td>\n      <td>NaN</td>\n      <td>00:00:00</td>\n      <td>16</td>\n      <td>dpp</td>\n      <td>local</td>\n      <td>16</td>\n      <td>gl5</td>\n      <td>12</td>\n    </tr>\n    <tr>\n      <th>13</th>\n      <td>43876</td>\n      <td>dpp-local-nc4_gl5-13.cfg</td>\n      <td>gl2_gl4</td>\n      <td>assigned</td>\n      <td>PENDING</td>\n      <td>Unknown</td>\n      <td>Unknown</td>\n      <td>0</td>\n      <td>NaN</td>\n      <td>NaN</td>\n      <td>NaN</td>\n      <td>NaN</td>\n      <td>00:00:00</td>\n      <td>4</td>\n      <td>dpp</td>\n      <td>local</td>\n      <td>4</td>\n      <td>gl5</td>\n      <td>13</td>\n    </tr>\n    <tr>\n      <th>14</th>\n      <td>43879</td>\n      <td>daa-local-nc32_gl5-14.cfg</td>\n      <td>gl2_gl4</td>\n      <td>assigned</td>\n      <td>PENDING</td>\n      <td>Unknown</td>\n      <td>Unknown</td>\n      <td>0</td>\n      <td>NaN</td>\n      <td>NaN</td>\n      <td>NaN</td>\n      <td>NaN</td>\n      <td>00:00:00</td>\n      <td>32</td>\n      <td>daa</td>\n      <td>local</td>\n      <td>32</td>\n      <td>gl5</td>\n      <td>14</td>\n    </tr>\n    <tr>\n      <th>15</th>\n      <td>43882</td>\n      <td>dpp-local-nc16_gl5-13.cfg</td>\n      <td>gl2_gl4</td>\n      <td>assigned</td>\n      <td>PENDING</td>\n      <td>Unknown</td>\n      <td>Unknown</td>\n      <td>0</td>\n      <td>NaN</td>\n      <td>NaN</td>\n      <td>NaN</td>\n      <td>NaN</td>\n      <td>00:00:00</td>\n      <td>16</td>\n      <td>dpp</td>\n      <td>local</td>\n      <td>16</td>\n      <td>gl5</td>\n      <td>13</td>\n    </tr>\n    <tr>\n      <th>16</th>\n      <td>43885</td>\n      <td>daa-local-nc4_gl5-11.cfg</td>\n      <td>gl2_gl4</td>\n      <td>assigned</td>\n      <td>PENDING</td>\n      <td>Unknown</td>\n      <td>Unknown</td>\n      <td>0</td>\n      <td>NaN</td>\n      <td>NaN</td>\n      <td>NaN</td>\n      <td>NaN</td>\n      <td>00:00:00</td>\n      <td>4</td>\n      <td>daa</td>\n      <td>local</td>\n      <td>4</td>\n      <td>gl5</td>\n      <td>11</td>\n    </tr>\n    <tr>\n      <th>17</th>\n      <td>43888</td>\n      <td>dpp-local-nc4_gl5-15.cfg</td>\n      <td>gl2_gl4</td>\n      <td>assigned</td>\n      <td>PENDING</td>\n      <td>Unknown</td>\n      <td>Unknown</td>\n      <td>0</td>\n      <td>NaN</td>\n      <td>NaN</td>\n      <td>NaN</td>\n      <td>NaN</td>\n      <td>00:00:00</td>\n      <td>4</td>\n      <td>dpp</td>\n      <td>local</td>\n      <td>4</td>\n      <td>gl5</td>\n      <td>15</td>\n    </tr>\n    <tr>\n      <th>18</th>\n      <td>43891</td>\n      <td>dpp-local-nc32_gl5-14.cfg</td>\n      <td>gl2_gl4</td>\n      <td>assigned</td>\n      <td>PENDING</td>\n      <td>Unknown</td>\n      <td>Unknown</td>\n      <td>0</td>\n      <td>NaN</td>\n      <td>NaN</td>\n      <td>NaN</td>\n      <td>NaN</td>\n      <td>00:00:00</td>\n      <td>32</td>\n      <td>dpp</td>\n      <td>local</td>\n      <td>32</td>\n      <td>gl5</td>\n      <td>14</td>\n    </tr>\n    <tr>\n      <th>19</th>\n      <td>43894</td>\n      <td>dpp-local-nc32_gl5-13.cfg</td>\n      <td>gl2_gl4</td>\n      <td>assigned</td>\n      <td>PENDING</td>\n      <td>Unknown</td>\n      <td>Unknown</td>\n      <td>0</td>\n      <td>NaN</td>\n      <td>NaN</td>\n      <td>NaN</td>\n      <td>NaN</td>\n      <td>00:00:00</td>\n      <td>32</td>\n      <td>dpp</td>\n      <td>local</td>\n      <td>32</td>\n      <td>gl5</td>\n      <td>13</td>\n    </tr>\n    <tr>\n      <th>20</th>\n      <td>43897</td>\n      <td>dpp-local-nc16_gl5-16.cfg</td>\n      <td>gl2_gl4</td>\n      <td>assigned</td>\n      <td>PENDING</td>\n      <td>Unknown</td>\n      <td>Unknown</td>\n      <td>0</td>\n      <td>NaN</td>\n      <td>NaN</td>\n      <td>NaN</td>\n      <td>NaN</td>\n      <td>00:00:00</td>\n      <td>16</td>\n      <td>dpp</td>\n      <td>local</td>\n      <td>16</td>\n      <td>gl5</td>\n      <td>16</td>\n    </tr>\n    <tr>\n      <th>21</th>\n      <td>43900</td>\n      <td>daa-local-nc32_gl5-12.cfg</td>\n      <td>gl2_gl4</td>\n      <td>assigned</td>\n      <td>PENDING</td>\n      <td>Unknown</td>\n      <td>Unknown</td>\n      <td>0</td>\n      <td>NaN</td>\n      <td>NaN</td>\n      <td>NaN</td>\n      <td>NaN</td>\n      <td>00:00:00</td>\n      <td>32</td>\n      <td>daa</td>\n      <td>local</td>\n      <td>32</td>\n      <td>gl5</td>\n      <td>12</td>\n    </tr>\n    <tr>\n      <th>22</th>\n      <td>43903</td>\n      <td>dpp-local-nc32_gl5-11.cfg</td>\n      <td>gl2_gl4</td>\n      <td>assigned</td>\n      <td>PENDING</td>\n      <td>Unknown</td>\n      <td>Unknown</td>\n      <td>0</td>\n      <td>NaN</td>\n      <td>NaN</td>\n      <td>NaN</td>\n      <td>NaN</td>\n      <td>00:00:00</td>\n      <td>32</td>\n      <td>dpp</td>\n      <td>local</td>\n      <td>32</td>\n      <td>gl5</td>\n      <td>11</td>\n    </tr>\n    <tr>\n      <th>23</th>\n      <td>43906</td>\n      <td>dpp-local-nc32_gl5-15.cfg</td>\n      <td>gl2_gl4</td>\n      <td>assigned</td>\n      <td>PENDING</td>\n      <td>Unknown</td>\n      <td>Unknown</td>\n      <td>0</td>\n      <td>NaN</td>\n      <td>NaN</td>\n      <td>NaN</td>\n      <td>NaN</td>\n      <td>00:00:00</td>\n      <td>32</td>\n      <td>dpp</td>\n      <td>local</td>\n      <td>32</td>\n      <td>gl5</td>\n      <td>15</td>\n    </tr>\n    <tr>\n      <th>24</th>\n      <td>43909</td>\n      <td>daa-local-nc16_gl5-14.cfg</td>\n      <td>gl2_gl4</td>\n      <td>assigned</td>\n      <td>PENDING</td>\n      <td>Unknown</td>\n      <td>Unknown</td>\n      <td>0</td>\n      <td>NaN</td>\n      <td>NaN</td>\n      <td>NaN</td>\n      <td>NaN</td>\n      <td>00:00:00</td>\n      <td>16</td>\n      <td>daa</td>\n      <td>local</td>\n      <td>16</td>\n      <td>gl5</td>\n      <td>14</td>\n    </tr>\n    <tr>\n      <th>25</th>\n      <td>43912</td>\n      <td>dpp-local-nc16_gl5-15.cfg</td>\n      <td>gl2_gl4</td>\n      <td>assigned</td>\n      <td>PENDING</td>\n      <td>Unknown</td>\n      <td>Unknown</td>\n      <td>0</td>\n      <td>NaN</td>\n      <td>NaN</td>\n      <td>NaN</td>\n      <td>NaN</td>\n      <td>00:00:00</td>\n      <td>16</td>\n      <td>dpp</td>\n      <td>local</td>\n      <td>16</td>\n      <td>gl5</td>\n      <td>15</td>\n    </tr>\n    <tr>\n      <th>26</th>\n      <td>43915</td>\n      <td>dpp-local-nc4_gl5-10.cfg</td>\n      <td>gl2_gl4</td>\n      <td>assigned</td>\n      <td>PENDING</td>\n      <td>Unknown</td>\n      <td>Unknown</td>\n      <td>0</td>\n      <td>NaN</td>\n      <td>NaN</td>\n      <td>NaN</td>\n      <td>NaN</td>\n      <td>00:00:00</td>\n      <td>4</td>\n      <td>dpp</td>\n      <td>local</td>\n      <td>4</td>\n      <td>gl5</td>\n      <td>10</td>\n    </tr>\n    <tr>\n      <th>27</th>\n      <td>43918</td>\n      <td>daa-local-nc32_gl5-13.cfg</td>\n      <td>gl2_gl4</td>\n      <td>assigned</td>\n      <td>PENDING</td>\n      <td>Unknown</td>\n      <td>Unknown</td>\n      <td>0</td>\n      <td>NaN</td>\n      <td>NaN</td>\n      <td>NaN</td>\n      <td>NaN</td>\n      <td>00:00:00</td>\n      <td>32</td>\n      <td>daa</td>\n      <td>local</td>\n      <td>32</td>\n      <td>gl5</td>\n      <td>13</td>\n    </tr>\n    <tr>\n      <th>28</th>\n      <td>43921</td>\n      <td>daa-local-nc16_gl5-11.cfg</td>\n      <td>gl2_gl4</td>\n      <td>assigned</td>\n      <td>PENDING</td>\n      <td>Unknown</td>\n      <td>Unknown</td>\n      <td>0</td>\n      <td>NaN</td>\n      <td>NaN</td>\n      <td>NaN</td>\n      <td>NaN</td>\n      <td>00:00:00</td>\n      <td>16</td>\n      <td>daa</td>\n      <td>local</td>\n      <td>16</td>\n      <td>gl5</td>\n      <td>11</td>\n    </tr>\n    <tr>\n      <th>29</th>\n      <td>43924</td>\n      <td>daa-local-nc16_gl5-15.cfg</td>\n      <td>gl2_gl4</td>\n      <td>assigned</td>\n      <td>PENDING</td>\n      <td>Unknown</td>\n      <td>Unknown</td>\n      <td>0</td>\n      <td>NaN</td>\n      <td>NaN</td>\n      <td>NaN</td>\n      <td>NaN</td>\n      <td>00:00:00</td>\n      <td>16</td>\n      <td>daa</td>\n      <td>local</td>\n      <td>16</td>\n      <td>gl5</td>\n      <td>15</td>\n    </tr>\n    <tr>\n      <th>30</th>\n      <td>43927</td>\n      <td>daa-local-nc8_gl5-10.cfg</td>\n      <td>gl2_gl4</td>\n      <td>assigned</td>\n      <td>PENDING</td>\n      <td>Unknown</td>\n      <td>Unknown</td>\n      <td>0</td>\n      <td>NaN</td>\n      <td>NaN</td>\n      <td>NaN</td>\n      <td>NaN</td>\n      <td>00:00:00</td>\n      <td>8</td>\n      <td>daa</td>\n      <td>local</td>\n      <td>8</td>\n      <td>gl5</td>\n      <td>10</td>\n    </tr>\n    <tr>\n      <th>31</th>\n      <td>43930</td>\n      <td>dpp-local-nc32_gl5-12.cfg</td>\n      <td>gl2_gl4</td>\n      <td>assigned</td>\n      <td>PENDING</td>\n      <td>Unknown</td>\n      <td>Unknown</td>\n      <td>0</td>\n      <td>NaN</td>\n      <td>NaN</td>\n      <td>NaN</td>\n      <td>NaN</td>\n      <td>00:00:00</td>\n      <td>32</td>\n      <td>dpp</td>\n      <td>local</td>\n      <td>32</td>\n      <td>gl5</td>\n      <td>12</td>\n    </tr>\n    <tr>\n      <th>32</th>\n      <td>43933</td>\n      <td>dpp-local-nc32_gl5-10.cfg</td>\n      <td>gl2_gl4</td>\n      <td>assigned</td>\n      <td>PENDING</td>\n      <td>Unknown</td>\n      <td>Unknown</td>\n      <td>0</td>\n      <td>NaN</td>\n      <td>NaN</td>\n      <td>NaN</td>\n      <td>NaN</td>\n      <td>00:00:00</td>\n      <td>32</td>\n      <td>dpp</td>\n      <td>local</td>\n      <td>32</td>\n      <td>gl5</td>\n      <td>10</td>\n    </tr>\n    <tr>\n      <th>33</th>\n      <td>43936</td>\n      <td>daa-local-nc16_gl5-17.cfg</td>\n      <td>gl2_gl4</td>\n      <td>assigned</td>\n      <td>PENDING</td>\n      <td>Unknown</td>\n      <td>Unknown</td>\n      <td>0</td>\n      <td>NaN</td>\n      <td>NaN</td>\n      <td>NaN</td>\n      <td>NaN</td>\n      <td>00:00:00</td>\n      <td>16</td>\n      <td>daa</td>\n      <td>local</td>\n      <td>16</td>\n      <td>gl5</td>\n      <td>17</td>\n    </tr>\n    <tr>\n      <th>34</th>\n      <td>43939</td>\n      <td>daa-local-nc16_gl5-12.cfg</td>\n      <td>gl2_gl4</td>\n      <td>assigned</td>\n      <td>PENDING</td>\n      <td>Unknown</td>\n      <td>Unknown</td>\n      <td>0</td>\n      <td>NaN</td>\n      <td>NaN</td>\n      <td>NaN</td>\n      <td>NaN</td>\n      <td>00:00:00</td>\n      <td>16</td>\n      <td>daa</td>\n      <td>local</td>\n      <td>16</td>\n      <td>gl5</td>\n      <td>12</td>\n    </tr>\n    <tr>\n      <th>35</th>\n      <td>43942</td>\n      <td>daa-local-nc8_gl5-11.cfg</td>\n      <td>gl2_gl4</td>\n      <td>assigned</td>\n      <td>PENDING</td>\n      <td>Unknown</td>\n      <td>Unknown</td>\n      <td>0</td>\n      <td>NaN</td>\n      <td>NaN</td>\n      <td>NaN</td>\n      <td>NaN</td>\n      <td>00:00:00</td>\n      <td>8</td>\n      <td>daa</td>\n      <td>local</td>\n      <td>8</td>\n      <td>gl5</td>\n      <td>11</td>\n    </tr>\n    <tr>\n      <th>36</th>\n      <td>43945</td>\n      <td>dpp-local-nc8_gl5-10.cfg</td>\n      <td>gl2_gl4</td>\n      <td>assigned</td>\n      <td>PENDING</td>\n      <td>Unknown</td>\n      <td>Unknown</td>\n      <td>0</td>\n      <td>NaN</td>\n      <td>NaN</td>\n      <td>NaN</td>\n      <td>NaN</td>\n      <td>00:00:00</td>\n      <td>8</td>\n      <td>dpp</td>\n      <td>local</td>\n      <td>8</td>\n      <td>gl5</td>\n      <td>10</td>\n    </tr>\n    <tr>\n      <th>37</th>\n      <td>43948</td>\n      <td>dpp-local-nc16_gl5-14.cfg</td>\n      <td>gl2_gl4</td>\n      <td>assigned</td>\n      <td>PENDING</td>\n      <td>Unknown</td>\n      <td>Unknown</td>\n      <td>0</td>\n      <td>NaN</td>\n      <td>NaN</td>\n      <td>NaN</td>\n      <td>NaN</td>\n      <td>00:00:00</td>\n      <td>16</td>\n      <td>dpp</td>\n      <td>local</td>\n      <td>16</td>\n      <td>gl5</td>\n      <td>14</td>\n    </tr>\n    <tr>\n      <th>38</th>\n      <td>43951</td>\n      <td>dpp-local-nc8_gl5-13.cfg</td>\n      <td>gl2_gl4</td>\n      <td>assigned</td>\n      <td>PENDING</td>\n      <td>Unknown</td>\n      <td>Unknown</td>\n      <td>0</td>\n      <td>NaN</td>\n      <td>NaN</td>\n      <td>NaN</td>\n      <td>NaN</td>\n      <td>00:00:00</td>\n      <td>8</td>\n      <td>dpp</td>\n      <td>local</td>\n      <td>8</td>\n      <td>gl5</td>\n      <td>13</td>\n    </tr>\n    <tr>\n      <th>39</th>\n      <td>43954</td>\n      <td>dpp-local-nc16_gl5-18.cfg</td>\n      <td>gl2_gl4</td>\n      <td>assigned</td>\n      <td>PENDING</td>\n      <td>Unknown</td>\n      <td>Unknown</td>\n      <td>0</td>\n      <td>NaN</td>\n      <td>NaN</td>\n      <td>NaN</td>\n      <td>NaN</td>\n      <td>00:00:00</td>\n      <td>16</td>\n      <td>dpp</td>\n      <td>local</td>\n      <td>16</td>\n      <td>gl5</td>\n      <td>18</td>\n    </tr>\n    <tr>\n      <th>40</th>\n      <td>43957</td>\n      <td>daa-local-nc16_gl5-13.cfg</td>\n      <td>gl2_gl4</td>\n      <td>assigned</td>\n      <td>PENDING</td>\n      <td>Unknown</td>\n      <td>Unknown</td>\n      <td>0</td>\n      <td>NaN</td>\n      <td>NaN</td>\n      <td>NaN</td>\n      <td>NaN</td>\n      <td>00:00:00</td>\n      <td>16</td>\n      <td>daa</td>\n      <td>local</td>\n      <td>16</td>\n      <td>gl5</td>\n      <td>13</td>\n    </tr>\n    <tr>\n      <th>41</th>\n      <td>43960</td>\n      <td>dpp-local-nc4_gl5-11.cfg</td>\n      <td>gl2_gl4</td>\n      <td>assigned</td>\n      <td>PENDING</td>\n      <td>Unknown</td>\n      <td>Unknown</td>\n      <td>0</td>\n      <td>NaN</td>\n      <td>NaN</td>\n      <td>NaN</td>\n      <td>NaN</td>\n      <td>00:00:00</td>\n      <td>4</td>\n      <td>dpp</td>\n      <td>local</td>\n      <td>4</td>\n      <td>gl5</td>\n      <td>11</td>\n    </tr>\n    <tr>\n      <th>42</th>\n      <td>43963</td>\n      <td>dpp-local-nc8_gl5-11.cfg</td>\n      <td>gl2_gl4</td>\n      <td>assigned</td>\n      <td>PENDING</td>\n      <td>Unknown</td>\n      <td>Unknown</td>\n      <td>0</td>\n      <td>NaN</td>\n      <td>NaN</td>\n      <td>NaN</td>\n      <td>NaN</td>\n      <td>00:00:00</td>\n      <td>8</td>\n      <td>dpp</td>\n      <td>local</td>\n      <td>8</td>\n      <td>gl5</td>\n      <td>11</td>\n    </tr>\n    <tr>\n      <th>43</th>\n      <td>43966</td>\n      <td>daa-local-nc16_gl5-10.cfg</td>\n      <td>gl2_gl4</td>\n      <td>assigned</td>\n      <td>PENDING</td>\n      <td>Unknown</td>\n      <td>Unknown</td>\n      <td>0</td>\n      <td>NaN</td>\n      <td>NaN</td>\n      <td>NaN</td>\n      <td>NaN</td>\n      <td>00:00:00</td>\n      <td>16</td>\n      <td>daa</td>\n      <td>local</td>\n      <td>16</td>\n      <td>gl5</td>\n      <td>10</td>\n    </tr>\n    <tr>\n      <th>44</th>\n      <td>43969</td>\n      <td>daa-local-nc4_gl5-12.cfg</td>\n      <td>gl2_gl4</td>\n      <td>assigned</td>\n      <td>PENDING</td>\n      <td>Unknown</td>\n      <td>Unknown</td>\n      <td>0</td>\n      <td>NaN</td>\n      <td>NaN</td>\n      <td>NaN</td>\n      <td>NaN</td>\n      <td>00:00:00</td>\n      <td>4</td>\n      <td>daa</td>\n      <td>local</td>\n      <td>4</td>\n      <td>gl5</td>\n      <td>12</td>\n    </tr>\n    <tr>\n      <th>45</th>\n      <td>43972</td>\n      <td>daa-local-nc4_gl5-16.cfg</td>\n      <td>gl2_gl4</td>\n      <td>assigned</td>\n      <td>PENDING</td>\n      <td>Unknown</td>\n      <td>Unknown</td>\n      <td>0</td>\n      <td>NaN</td>\n      <td>NaN</td>\n      <td>NaN</td>\n      <td>NaN</td>\n      <td>00:00:00</td>\n      <td>4</td>\n      <td>daa</td>\n      <td>local</td>\n      <td>4</td>\n      <td>gl5</td>\n      <td>16</td>\n    </tr>\n    <tr>\n      <th>46</th>\n      <td>43975</td>\n      <td>daa-local-nc32_gl5-11.cfg</td>\n      <td>gl2_gl4</td>\n      <td>assigned</td>\n      <td>PENDING</td>\n      <td>Unknown</td>\n      <td>Unknown</td>\n      <td>0</td>\n      <td>NaN</td>\n      <td>NaN</td>\n      <td>NaN</td>\n      <td>NaN</td>\n      <td>00:00:00</td>\n      <td>32</td>\n      <td>daa</td>\n      <td>local</td>\n      <td>32</td>\n      <td>gl5</td>\n      <td>11</td>\n    </tr>\n    <tr>\n      <th>47</th>\n      <td>43978</td>\n      <td>dpp-local-nc4_gl5-12.cfg</td>\n      <td>gl2_gl4</td>\n      <td>assigned</td>\n      <td>PENDING</td>\n      <td>Unknown</td>\n      <td>Unknown</td>\n      <td>0</td>\n      <td>NaN</td>\n      <td>NaN</td>\n      <td>NaN</td>\n      <td>NaN</td>\n      <td>00:00:00</td>\n      <td>4</td>\n      <td>dpp</td>\n      <td>local</td>\n      <td>4</td>\n      <td>gl5</td>\n      <td>12</td>\n    </tr>\n    <tr>\n      <th>48</th>\n      <td>43981</td>\n      <td>dpp-local-nc8_gl5-15.cfg</td>\n      <td>gl2_gl4</td>\n      <td>assigned</td>\n      <td>PENDING</td>\n      <td>Unknown</td>\n      <td>Unknown</td>\n      <td>0</td>\n      <td>NaN</td>\n      <td>NaN</td>\n      <td>NaN</td>\n      <td>NaN</td>\n      <td>00:00:00</td>\n      <td>8</td>\n      <td>dpp</td>\n      <td>local</td>\n      <td>8</td>\n      <td>gl5</td>\n      <td>15</td>\n    </tr>\n    <tr>\n      <th>49</th>\n      <td>43984</td>\n      <td>dpp-local-nc16_gl5-17.cfg</td>\n      <td>gl2_gl4</td>\n      <td>assigned</td>\n      <td>PENDING</td>\n      <td>Unknown</td>\n      <td>Unknown</td>\n      <td>0</td>\n      <td>NaN</td>\n      <td>NaN</td>\n      <td>NaN</td>\n      <td>NaN</td>\n      <td>00:00:00</td>\n      <td>16</td>\n      <td>dpp</td>\n      <td>local</td>\n      <td>16</td>\n      <td>gl5</td>\n      <td>17</td>\n    </tr>\n    <tr>\n      <th>50</th>\n      <td>43987</td>\n      <td>daa-local-nc32_gl5-17.cfg</td>\n      <td>gl2_gl4</td>\n      <td>assigned</td>\n      <td>PENDING</td>\n      <td>Unknown</td>\n      <td>Unknown</td>\n      <td>0</td>\n      <td>NaN</td>\n      <td>NaN</td>\n      <td>NaN</td>\n      <td>NaN</td>\n      <td>00:00:00</td>\n      <td>32</td>\n      <td>daa</td>\n      <td>local</td>\n      <td>32</td>\n      <td>gl5</td>\n      <td>17</td>\n    </tr>\n    <tr>\n      <th>51</th>\n      <td>43990</td>\n      <td>daa-local-nc4_gl5-13.cfg</td>\n      <td>gl2_gl4</td>\n      <td>assigned</td>\n      <td>PENDING</td>\n      <td>Unknown</td>\n      <td>Unknown</td>\n      <td>0</td>\n      <td>NaN</td>\n      <td>NaN</td>\n      <td>NaN</td>\n      <td>NaN</td>\n      <td>00:00:00</td>\n      <td>4</td>\n      <td>daa</td>\n      <td>local</td>\n      <td>4</td>\n      <td>gl5</td>\n      <td>13</td>\n    </tr>\n    <tr>\n      <th>52</th>\n      <td>43993</td>\n      <td>daa-local-nc8_gl5-12.cfg</td>\n      <td>gl2_gl4</td>\n      <td>assigned</td>\n      <td>PENDING</td>\n      <td>Unknown</td>\n      <td>Unknown</td>\n      <td>0</td>\n      <td>NaN</td>\n      <td>NaN</td>\n      <td>NaN</td>\n      <td>NaN</td>\n      <td>00:00:00</td>\n      <td>8</td>\n      <td>daa</td>\n      <td>local</td>\n      <td>8</td>\n      <td>gl5</td>\n      <td>12</td>\n    </tr>\n    <tr>\n      <th>53</th>\n      <td>43996</td>\n      <td>daa-local-nc32_gl5-15.cfg</td>\n      <td>gl2_gl4</td>\n      <td>assigned</td>\n      <td>PENDING</td>\n      <td>Unknown</td>\n      <td>Unknown</td>\n      <td>0</td>\n      <td>NaN</td>\n      <td>NaN</td>\n      <td>NaN</td>\n      <td>NaN</td>\n      <td>00:00:00</td>\n      <td>32</td>\n      <td>daa</td>\n      <td>local</td>\n      <td>32</td>\n      <td>gl5</td>\n      <td>15</td>\n    </tr>\n    <tr>\n      <th>54</th>\n      <td>43999</td>\n      <td>daa-local-nc32_gl5-18.cfg</td>\n      <td>gl2_gl4</td>\n      <td>assigned</td>\n      <td>PENDING</td>\n      <td>Unknown</td>\n      <td>Unknown</td>\n      <td>0</td>\n      <td>NaN</td>\n      <td>NaN</td>\n      <td>NaN</td>\n      <td>NaN</td>\n      <td>00:00:00</td>\n      <td>32</td>\n      <td>daa</td>\n      <td>local</td>\n      <td>32</td>\n      <td>gl5</td>\n      <td>18</td>\n    </tr>\n  </tbody>\n</table>\n</div>"
     },
     "metadata": {},
     "output_type": "display_data"
    },
    {
     "data": {
      "text/plain": "           JobID                    JobName  Cluster      NodeList      State  \\\n0    42790.batch    dpp-local-nc4_gl2-9.cfg  gl2_gl4  GreenLab-STF  COMPLETED   \n1    42793.batch    dpp-local-nc4_gl2-3.cfg  gl2_gl4  GreenLab-STF  COMPLETED   \n2    42802.batch    dpp-local-nc4_gl2-2.cfg  gl2_gl4  GreenLab-STF  COMPLETED   \n3    42805.batch    dpp-local-nc8_gl2-4.cfg  gl2_gl4  GreenLab-STF  COMPLETED   \n4    42808.batch   dpp-local-nc4_gl2-10.cfg  gl2_gl4  GreenLab-STF  COMPLETED   \n..           ...                        ...      ...           ...        ...   \n193        43987  daa-local-nc32_gl5-17.cfg  gl2_gl4      assigned    PENDING   \n194        43990   daa-local-nc4_gl5-13.cfg  gl2_gl4      assigned    PENDING   \n195        43993   daa-local-nc8_gl5-12.cfg  gl2_gl4      assigned    PENDING   \n196        43996  daa-local-nc32_gl5-15.cfg  gl2_gl4      assigned    PENDING   \n197        43999  daa-local-nc32_gl5-18.cfg  gl2_gl4      assigned    PENDING   \n\n                   Start                  End ConsumedEnergy    AveRSS  \\\n0    2023-11-27T16:12:08  2023-11-27T17:18:50        195.42K   627208K   \n1    2023-11-27T17:23:51  2023-11-27T18:31:05        196.13K   630284K   \n2    2023-11-29T13:24:15  2023-11-29T14:33:08        197.03K   629740K   \n3    2023-11-29T14:38:13  2023-11-29T15:32:28        185.84K  1126708K   \n4    2023-11-29T15:37:32  2023-11-29T16:46:21        196.80K   627348K   \n..                   ...                  ...            ...       ...   \n193              Unknown              Unknown              0       NaN   \n194              Unknown              Unknown              0       NaN   \n195              Unknown              Unknown              0       NaN   \n196              Unknown              Unknown              0       NaN   \n197              Unknown              Unknown              0       NaN   \n\n    AveDiskRead AveDiskWrite  AveVMSize   Elapsed  NCPUS Workflow   mode  \\\n0      5345.30M      802.22M  18555572K  01:06:42      4      dpp  local   \n1      5345.30M      802.23M  18611692K  01:07:14      4      dpp  local   \n2      5345.30M      802.60M  18558724K  01:08:53      4      dpp  local   \n3      5345.41M      802.71M  36357232K  00:54:15      8      dpp  local   \n4      5345.42M      802.72M  18555848K  01:08:49      4      dpp  local   \n..          ...          ...        ...       ...    ...      ...    ...   \n193         NaN          NaN        NaN  00:00:00     32      daa  local   \n194         NaN          NaN        NaN  00:00:00      4      daa  local   \n195         NaN          NaN        NaN  00:00:00      8      daa  local   \n196         NaN          NaN        NaN  00:00:00     32      daa  local   \n197         NaN          NaN        NaN  00:00:00     32      daa  local   \n\n     ncores node  trial  \n0         4  gl2      9  \n1         4  gl2      3  \n2         4  gl2      2  \n3         8  gl2      4  \n4         4  gl2     10  \n..      ...  ...    ...  \n193      32  gl5     17  \n194       4  gl5     13  \n195       8  gl5     12  \n196      32  gl5     15  \n197      32  gl5     18  \n\n[198 rows x 19 columns]",
      "text/html": "<div>\n<style scoped>\n    .dataframe tbody tr th:only-of-type {\n        vertical-align: middle;\n    }\n\n    .dataframe tbody tr th {\n        vertical-align: top;\n    }\n\n    .dataframe thead th {\n        text-align: right;\n    }\n</style>\n<table border=\"1\" class=\"dataframe\">\n  <thead>\n    <tr style=\"text-align: right;\">\n      <th></th>\n      <th>JobID</th>\n      <th>JobName</th>\n      <th>Cluster</th>\n      <th>NodeList</th>\n      <th>State</th>\n      <th>Start</th>\n      <th>End</th>\n      <th>ConsumedEnergy</th>\n      <th>AveRSS</th>\n      <th>AveDiskRead</th>\n      <th>AveDiskWrite</th>\n      <th>AveVMSize</th>\n      <th>Elapsed</th>\n      <th>NCPUS</th>\n      <th>Workflow</th>\n      <th>mode</th>\n      <th>ncores</th>\n      <th>node</th>\n      <th>trial</th>\n    </tr>\n  </thead>\n  <tbody>\n    <tr>\n      <th>0</th>\n      <td>42790.batch</td>\n      <td>dpp-local-nc4_gl2-9.cfg</td>\n      <td>gl2_gl4</td>\n      <td>GreenLab-STF</td>\n      <td>COMPLETED</td>\n      <td>2023-11-27T16:12:08</td>\n      <td>2023-11-27T17:18:50</td>\n      <td>195.42K</td>\n      <td>627208K</td>\n      <td>5345.30M</td>\n      <td>802.22M</td>\n      <td>18555572K</td>\n      <td>01:06:42</td>\n      <td>4</td>\n      <td>dpp</td>\n      <td>local</td>\n      <td>4</td>\n      <td>gl2</td>\n      <td>9</td>\n    </tr>\n    <tr>\n      <th>1</th>\n      <td>42793.batch</td>\n      <td>dpp-local-nc4_gl2-3.cfg</td>\n      <td>gl2_gl4</td>\n      <td>GreenLab-STF</td>\n      <td>COMPLETED</td>\n      <td>2023-11-27T17:23:51</td>\n      <td>2023-11-27T18:31:05</td>\n      <td>196.13K</td>\n      <td>630284K</td>\n      <td>5345.30M</td>\n      <td>802.23M</td>\n      <td>18611692K</td>\n      <td>01:07:14</td>\n      <td>4</td>\n      <td>dpp</td>\n      <td>local</td>\n      <td>4</td>\n      <td>gl2</td>\n      <td>3</td>\n    </tr>\n    <tr>\n      <th>2</th>\n      <td>42802.batch</td>\n      <td>dpp-local-nc4_gl2-2.cfg</td>\n      <td>gl2_gl4</td>\n      <td>GreenLab-STF</td>\n      <td>COMPLETED</td>\n      <td>2023-11-29T13:24:15</td>\n      <td>2023-11-29T14:33:08</td>\n      <td>197.03K</td>\n      <td>629740K</td>\n      <td>5345.30M</td>\n      <td>802.60M</td>\n      <td>18558724K</td>\n      <td>01:08:53</td>\n      <td>4</td>\n      <td>dpp</td>\n      <td>local</td>\n      <td>4</td>\n      <td>gl2</td>\n      <td>2</td>\n    </tr>\n    <tr>\n      <th>3</th>\n      <td>42805.batch</td>\n      <td>dpp-local-nc8_gl2-4.cfg</td>\n      <td>gl2_gl4</td>\n      <td>GreenLab-STF</td>\n      <td>COMPLETED</td>\n      <td>2023-11-29T14:38:13</td>\n      <td>2023-11-29T15:32:28</td>\n      <td>185.84K</td>\n      <td>1126708K</td>\n      <td>5345.41M</td>\n      <td>802.71M</td>\n      <td>36357232K</td>\n      <td>00:54:15</td>\n      <td>8</td>\n      <td>dpp</td>\n      <td>local</td>\n      <td>8</td>\n      <td>gl2</td>\n      <td>4</td>\n    </tr>\n    <tr>\n      <th>4</th>\n      <td>42808.batch</td>\n      <td>dpp-local-nc4_gl2-10.cfg</td>\n      <td>gl2_gl4</td>\n      <td>GreenLab-STF</td>\n      <td>COMPLETED</td>\n      <td>2023-11-29T15:37:32</td>\n      <td>2023-11-29T16:46:21</td>\n      <td>196.80K</td>\n      <td>627348K</td>\n      <td>5345.42M</td>\n      <td>802.72M</td>\n      <td>18555848K</td>\n      <td>01:08:49</td>\n      <td>4</td>\n      <td>dpp</td>\n      <td>local</td>\n      <td>4</td>\n      <td>gl2</td>\n      <td>10</td>\n    </tr>\n    <tr>\n      <th>...</th>\n      <td>...</td>\n      <td>...</td>\n      <td>...</td>\n      <td>...</td>\n      <td>...</td>\n      <td>...</td>\n      <td>...</td>\n      <td>...</td>\n      <td>...</td>\n      <td>...</td>\n      <td>...</td>\n      <td>...</td>\n      <td>...</td>\n      <td>...</td>\n      <td>...</td>\n      <td>...</td>\n      <td>...</td>\n      <td>...</td>\n      <td>...</td>\n    </tr>\n    <tr>\n      <th>193</th>\n      <td>43987</td>\n      <td>daa-local-nc32_gl5-17.cfg</td>\n      <td>gl2_gl4</td>\n      <td>assigned</td>\n      <td>PENDING</td>\n      <td>Unknown</td>\n      <td>Unknown</td>\n      <td>0</td>\n      <td>NaN</td>\n      <td>NaN</td>\n      <td>NaN</td>\n      <td>NaN</td>\n      <td>00:00:00</td>\n      <td>32</td>\n      <td>daa</td>\n      <td>local</td>\n      <td>32</td>\n      <td>gl5</td>\n      <td>17</td>\n    </tr>\n    <tr>\n      <th>194</th>\n      <td>43990</td>\n      <td>daa-local-nc4_gl5-13.cfg</td>\n      <td>gl2_gl4</td>\n      <td>assigned</td>\n      <td>PENDING</td>\n      <td>Unknown</td>\n      <td>Unknown</td>\n      <td>0</td>\n      <td>NaN</td>\n      <td>NaN</td>\n      <td>NaN</td>\n      <td>NaN</td>\n      <td>00:00:00</td>\n      <td>4</td>\n      <td>daa</td>\n      <td>local</td>\n      <td>4</td>\n      <td>gl5</td>\n      <td>13</td>\n    </tr>\n    <tr>\n      <th>195</th>\n      <td>43993</td>\n      <td>daa-local-nc8_gl5-12.cfg</td>\n      <td>gl2_gl4</td>\n      <td>assigned</td>\n      <td>PENDING</td>\n      <td>Unknown</td>\n      <td>Unknown</td>\n      <td>0</td>\n      <td>NaN</td>\n      <td>NaN</td>\n      <td>NaN</td>\n      <td>NaN</td>\n      <td>00:00:00</td>\n      <td>8</td>\n      <td>daa</td>\n      <td>local</td>\n      <td>8</td>\n      <td>gl5</td>\n      <td>12</td>\n    </tr>\n    <tr>\n      <th>196</th>\n      <td>43996</td>\n      <td>daa-local-nc32_gl5-15.cfg</td>\n      <td>gl2_gl4</td>\n      <td>assigned</td>\n      <td>PENDING</td>\n      <td>Unknown</td>\n      <td>Unknown</td>\n      <td>0</td>\n      <td>NaN</td>\n      <td>NaN</td>\n      <td>NaN</td>\n      <td>NaN</td>\n      <td>00:00:00</td>\n      <td>32</td>\n      <td>daa</td>\n      <td>local</td>\n      <td>32</td>\n      <td>gl5</td>\n      <td>15</td>\n    </tr>\n    <tr>\n      <th>197</th>\n      <td>43999</td>\n      <td>daa-local-nc32_gl5-18.cfg</td>\n      <td>gl2_gl4</td>\n      <td>assigned</td>\n      <td>PENDING</td>\n      <td>Unknown</td>\n      <td>Unknown</td>\n      <td>0</td>\n      <td>NaN</td>\n      <td>NaN</td>\n      <td>NaN</td>\n      <td>NaN</td>\n      <td>00:00:00</td>\n      <td>32</td>\n      <td>daa</td>\n      <td>local</td>\n      <td>32</td>\n      <td>gl5</td>\n      <td>18</td>\n    </tr>\n  </tbody>\n</table>\n<p>198 rows × 19 columns</p>\n</div>"
     },
     "metadata": {},
     "output_type": "display_data"
    }
   ],
   "source": [
    "data = data.loc[:, ~data.columns.str.contains('Unnamed')]\n",
    "\n",
    "data_completed = filter_out_completed_jobs(data)\n",
    "data_completed = data_completed[~data_completed.JobName.str.contains(\"nc2\")].reset_index(drop=True)\n",
    "\n",
    "data_pending = data[data.State == \"PENDING\"]\n",
    "data_pending = data_pending[~data_pending.JobName.str.contains(\"nc2\")].reset_index(drop=True)\n",
    "\n",
    "data = pd.concat([data_completed, data_pending], axis=0, ignore_index=True)\n",
    "data = data[~data.JobName.str.contains(\"nc2\")].reset_index(drop=True)\n",
    "\n",
    "# data = data[~data.JobName.str.contains(\"nc2\")].reset_index(drop=True)\n",
    "data = extract_params_from_local_file_name(data)\n",
    "data_completed = extract_params_from_local_file_name(data_completed)\n",
    "data_pending = extract_params_from_local_file_name(data_pending)\n",
    "\n",
    "data_completed = append_job_data_columns(data_completed)\n",
    "data_completed = data_completed.sort_values(by=['ncores', 'Workflow'])\n",
    "\n",
    "display(data_completed, data_pending, data)"
   ],
   "metadata": {
    "collapsed": false,
    "ExecuteTime": {
     "end_time": "2023-12-21T13:17:52.169481700Z",
     "start_time": "2023-12-21T13:17:51.910153900Z"
    }
   }
  },
  {
   "cell_type": "code",
   "execution_count": 6,
   "outputs": [
    {
     "data": {
      "text/plain": "''"
     },
     "execution_count": 6,
     "metadata": {},
     "output_type": "execute_result"
    }
   ],
   "source": [
    "jobs_to_eliminate = data[data.ncores == 2]\n",
    "\" \".join(map(str, list(jobs_to_eliminate.JobID.to_list())))"
   ],
   "metadata": {
    "collapsed": false,
    "ExecuteTime": {
     "end_time": "2023-12-21T13:17:52.332480700Z",
     "start_time": "2023-12-21T13:17:52.153433100Z"
    }
   }
  },
  {
   "cell_type": "code",
   "execution_count": 7,
   "outputs": [
    {
     "data": {
      "text/plain": "   Workflow   mode ncores node ConsumedEnergy                              \\\n                                        count          mean           std   \n0       daa  local      4  gl2           10.0  3.038000e+06   7888.106377   \n1       daa  local      4  gl5            3.0  6.653333e+06  35118.845843   \n2       daa  local      4  gl6           10.0  7.558000e+06  42373.996219   \n3       daa  local      8  gl2           10.0  2.740000e+06   4714.045208   \n4       daa  local      8  gl5            4.0  4.135000e+06  28867.513459   \n5       daa  local      8  gl6           11.0  4.762727e+06  54606.026973   \n6       daa  local     16  gl5            2.0  2.805000e+06  21213.203436   \n7       daa  local     16  gl6           10.0  3.192000e+06  33928.028400   \n8       daa  local     32  gl5            1.0  2.450000e+06           NaN   \n9       daa  local     32  gl6           10.0  2.707000e+06  22135.943621   \n10      dpp  local      4  gl2           10.0  1.965890e+05    586.296285   \n11      dpp  local      4  gl5            4.0  4.421150e+05   1384.497502   \n12      dpp  local      4  gl6           10.0  5.146150e+05   4816.700692   \n13      dpp  local      8  gl2           10.0  1.862380e+05    509.047040   \n14      dpp  local      8  gl5            3.0  2.808533e+05   2623.401100   \n15      dpp  local      8  gl6           10.0  3.236480e+05   3644.685019   \n16      dpp  local     16  gl5            1.0  2.011000e+05           NaN   \n17      dpp  local     16  gl6           10.0  2.263680e+05   3723.185016   \n18      dpp  local     32  gl5            4.0  1.755925e+05   2247.552372   \n19      dpp  local     32  gl6           10.0  1.987640e+05   2881.990824   \n\n                                     ... ElapsedMinutes               \\\n          min        25%        50%  ...            75%          max   \n0   3030000.0  3030000.0  3040000.0  ...     995.995833  1001.033333   \n1   6620000.0  6635000.0  6650000.0  ...    1076.283333  1080.816667   \n2   7510000.0  7532500.0  7550000.0  ...    1037.833333  1048.600000   \n3   2730000.0  2740000.0  2740000.0  ...     783.654167   786.683333   \n4   4110000.0  4110000.0  4135000.0  ...     615.508333   616.583333   \n5   4700000.0  4715000.0  4780000.0  ...     600.575000   609.550000   \n6   2790000.0  2797500.0  2805000.0  ...     365.862500   366.466667   \n7   3150000.0  3172500.0  3185000.0  ...     355.425000   364.316667   \n8   2450000.0  2450000.0  2450000.0  ...     287.766667   287.766667   \n9   2690000.0  2692500.0  2700000.0  ...     279.412500   287.250000   \n10   195420.0   196280.0   196835.0  ...      68.504167    68.883333   \n11   440500.0   441422.5   442070.0  ...      74.829167    74.966667   \n12   509860.0   511537.5   512630.0  ...      73.604167    76.033333   \n13   185290.0   185912.5   186355.0  ...      54.441667    54.866667   \n14   277870.0   279880.0   281890.0  ...      43.250000    43.250000   \n15   320560.0   321190.0   321865.0  ...      42.020833    43.183333   \n16   201100.0   201100.0   201100.0  ...      28.350000    28.350000   \n17   222130.0   224287.5   225440.0  ...      27.466667    27.983333   \n18   173450.0   173982.5   175255.0  ...      22.325000    22.950000   \n19   195400.0   196862.5   197685.0  ...      22.000000    22.333333   \n\n   ElapsedHours                                                        \\\n          count       mean       std        min        25%        50%   \n0          10.0  16.535639  0.104931  16.375000  16.444514  16.553472   \n1           3.0  17.879074  0.127063  17.761111  17.811806  17.862500   \n2          10.0  17.266889  0.096293  17.164722  17.215000  17.242083   \n3          10.0  13.037944  0.046180  12.959444  13.012083  13.042500   \n4           4.0  10.122778  0.164418   9.964722   9.989306  10.125000   \n5          11.0   9.921616  0.145312   9.739167   9.805833   9.958056   \n6           2.0   6.087639  0.028481   6.067500   6.077569   6.087639   \n7          10.0   5.908861  0.082972   5.832778   5.850833   5.880139   \n8           1.0   4.796111       NaN   4.796111   4.796111   4.796111   \n9          10.0   4.646694  0.065511   4.579444   4.607431   4.632500   \n10         10.0   1.132500  0.012449   1.111667   1.123472   1.133611   \n11          4.0   1.241806  0.007316   1.233889   1.236597   1.241944   \n12         10.0   1.218667  0.020588   1.199167   1.206250   1.209722   \n13         10.0   0.902167  0.008904   0.888333   0.895417   0.904444   \n14          3.0   0.714630  0.010745   0.702222   0.711528   0.720833   \n15         10.0   0.695611  0.010945   0.686111   0.687917   0.691944   \n16          1.0   0.472500       NaN   0.472500   0.472500   0.472500   \n17         10.0   0.445556  0.014224   0.428889   0.434444   0.438750   \n18          4.0   0.363542  0.014997   0.350833   0.351875   0.360417   \n19         10.0   0.358028  0.009067   0.347778   0.350556   0.355139   \n\n                          \n          75%        max  \n0   16.599931  16.683889  \n1   17.938056  18.013611  \n2   17.297222  17.476667  \n3   13.060903  13.111389  \n4   10.258472  10.276389  \n5   10.009583  10.159167  \n6    6.097708   6.107778  \n7    5.923750   6.071944  \n8    4.796111   4.796111  \n9    4.656875   4.787500  \n10   1.141736   1.148056  \n11   1.247153   1.249444  \n12   1.226736   1.267222  \n13   0.907361   0.914444  \n14   0.720833   0.720833  \n15   0.700347   0.719722  \n16   0.472500   0.472500  \n17   0.457778   0.466389  \n18   0.372083   0.382500  \n19   0.366667   0.372222  \n\n[20 rows x 204 columns]",
      "text/html": "<div>\n<style scoped>\n    .dataframe tbody tr th:only-of-type {\n        vertical-align: middle;\n    }\n\n    .dataframe tbody tr th {\n        vertical-align: top;\n    }\n\n    .dataframe thead tr th {\n        text-align: left;\n    }\n</style>\n<table border=\"1\" class=\"dataframe\">\n  <thead>\n    <tr>\n      <th></th>\n      <th>Workflow</th>\n      <th>mode</th>\n      <th>ncores</th>\n      <th>node</th>\n      <th colspan=\"6\" halign=\"left\">ConsumedEnergy</th>\n      <th>...</th>\n      <th colspan=\"2\" halign=\"left\">ElapsedMinutes</th>\n      <th colspan=\"8\" halign=\"left\">ElapsedHours</th>\n    </tr>\n    <tr>\n      <th></th>\n      <th></th>\n      <th></th>\n      <th></th>\n      <th></th>\n      <th>count</th>\n      <th>mean</th>\n      <th>std</th>\n      <th>min</th>\n      <th>25%</th>\n      <th>50%</th>\n      <th>...</th>\n      <th>75%</th>\n      <th>max</th>\n      <th>count</th>\n      <th>mean</th>\n      <th>std</th>\n      <th>min</th>\n      <th>25%</th>\n      <th>50%</th>\n      <th>75%</th>\n      <th>max</th>\n    </tr>\n  </thead>\n  <tbody>\n    <tr>\n      <th>0</th>\n      <td>daa</td>\n      <td>local</td>\n      <td>4</td>\n      <td>gl2</td>\n      <td>10.0</td>\n      <td>3.038000e+06</td>\n      <td>7888.106377</td>\n      <td>3030000.0</td>\n      <td>3030000.0</td>\n      <td>3040000.0</td>\n      <td>...</td>\n      <td>995.995833</td>\n      <td>1001.033333</td>\n      <td>10.0</td>\n      <td>16.535639</td>\n      <td>0.104931</td>\n      <td>16.375000</td>\n      <td>16.444514</td>\n      <td>16.553472</td>\n      <td>16.599931</td>\n      <td>16.683889</td>\n    </tr>\n    <tr>\n      <th>1</th>\n      <td>daa</td>\n      <td>local</td>\n      <td>4</td>\n      <td>gl5</td>\n      <td>3.0</td>\n      <td>6.653333e+06</td>\n      <td>35118.845843</td>\n      <td>6620000.0</td>\n      <td>6635000.0</td>\n      <td>6650000.0</td>\n      <td>...</td>\n      <td>1076.283333</td>\n      <td>1080.816667</td>\n      <td>3.0</td>\n      <td>17.879074</td>\n      <td>0.127063</td>\n      <td>17.761111</td>\n      <td>17.811806</td>\n      <td>17.862500</td>\n      <td>17.938056</td>\n      <td>18.013611</td>\n    </tr>\n    <tr>\n      <th>2</th>\n      <td>daa</td>\n      <td>local</td>\n      <td>4</td>\n      <td>gl6</td>\n      <td>10.0</td>\n      <td>7.558000e+06</td>\n      <td>42373.996219</td>\n      <td>7510000.0</td>\n      <td>7532500.0</td>\n      <td>7550000.0</td>\n      <td>...</td>\n      <td>1037.833333</td>\n      <td>1048.600000</td>\n      <td>10.0</td>\n      <td>17.266889</td>\n      <td>0.096293</td>\n      <td>17.164722</td>\n      <td>17.215000</td>\n      <td>17.242083</td>\n      <td>17.297222</td>\n      <td>17.476667</td>\n    </tr>\n    <tr>\n      <th>3</th>\n      <td>daa</td>\n      <td>local</td>\n      <td>8</td>\n      <td>gl2</td>\n      <td>10.0</td>\n      <td>2.740000e+06</td>\n      <td>4714.045208</td>\n      <td>2730000.0</td>\n      <td>2740000.0</td>\n      <td>2740000.0</td>\n      <td>...</td>\n      <td>783.654167</td>\n      <td>786.683333</td>\n      <td>10.0</td>\n      <td>13.037944</td>\n      <td>0.046180</td>\n      <td>12.959444</td>\n      <td>13.012083</td>\n      <td>13.042500</td>\n      <td>13.060903</td>\n      <td>13.111389</td>\n    </tr>\n    <tr>\n      <th>4</th>\n      <td>daa</td>\n      <td>local</td>\n      <td>8</td>\n      <td>gl5</td>\n      <td>4.0</td>\n      <td>4.135000e+06</td>\n      <td>28867.513459</td>\n      <td>4110000.0</td>\n      <td>4110000.0</td>\n      <td>4135000.0</td>\n      <td>...</td>\n      <td>615.508333</td>\n      <td>616.583333</td>\n      <td>4.0</td>\n      <td>10.122778</td>\n      <td>0.164418</td>\n      <td>9.964722</td>\n      <td>9.989306</td>\n      <td>10.125000</td>\n      <td>10.258472</td>\n      <td>10.276389</td>\n    </tr>\n    <tr>\n      <th>5</th>\n      <td>daa</td>\n      <td>local</td>\n      <td>8</td>\n      <td>gl6</td>\n      <td>11.0</td>\n      <td>4.762727e+06</td>\n      <td>54606.026973</td>\n      <td>4700000.0</td>\n      <td>4715000.0</td>\n      <td>4780000.0</td>\n      <td>...</td>\n      <td>600.575000</td>\n      <td>609.550000</td>\n      <td>11.0</td>\n      <td>9.921616</td>\n      <td>0.145312</td>\n      <td>9.739167</td>\n      <td>9.805833</td>\n      <td>9.958056</td>\n      <td>10.009583</td>\n      <td>10.159167</td>\n    </tr>\n    <tr>\n      <th>6</th>\n      <td>daa</td>\n      <td>local</td>\n      <td>16</td>\n      <td>gl5</td>\n      <td>2.0</td>\n      <td>2.805000e+06</td>\n      <td>21213.203436</td>\n      <td>2790000.0</td>\n      <td>2797500.0</td>\n      <td>2805000.0</td>\n      <td>...</td>\n      <td>365.862500</td>\n      <td>366.466667</td>\n      <td>2.0</td>\n      <td>6.087639</td>\n      <td>0.028481</td>\n      <td>6.067500</td>\n      <td>6.077569</td>\n      <td>6.087639</td>\n      <td>6.097708</td>\n      <td>6.107778</td>\n    </tr>\n    <tr>\n      <th>7</th>\n      <td>daa</td>\n      <td>local</td>\n      <td>16</td>\n      <td>gl6</td>\n      <td>10.0</td>\n      <td>3.192000e+06</td>\n      <td>33928.028400</td>\n      <td>3150000.0</td>\n      <td>3172500.0</td>\n      <td>3185000.0</td>\n      <td>...</td>\n      <td>355.425000</td>\n      <td>364.316667</td>\n      <td>10.0</td>\n      <td>5.908861</td>\n      <td>0.082972</td>\n      <td>5.832778</td>\n      <td>5.850833</td>\n      <td>5.880139</td>\n      <td>5.923750</td>\n      <td>6.071944</td>\n    </tr>\n    <tr>\n      <th>8</th>\n      <td>daa</td>\n      <td>local</td>\n      <td>32</td>\n      <td>gl5</td>\n      <td>1.0</td>\n      <td>2.450000e+06</td>\n      <td>NaN</td>\n      <td>2450000.0</td>\n      <td>2450000.0</td>\n      <td>2450000.0</td>\n      <td>...</td>\n      <td>287.766667</td>\n      <td>287.766667</td>\n      <td>1.0</td>\n      <td>4.796111</td>\n      <td>NaN</td>\n      <td>4.796111</td>\n      <td>4.796111</td>\n      <td>4.796111</td>\n      <td>4.796111</td>\n      <td>4.796111</td>\n    </tr>\n    <tr>\n      <th>9</th>\n      <td>daa</td>\n      <td>local</td>\n      <td>32</td>\n      <td>gl6</td>\n      <td>10.0</td>\n      <td>2.707000e+06</td>\n      <td>22135.943621</td>\n      <td>2690000.0</td>\n      <td>2692500.0</td>\n      <td>2700000.0</td>\n      <td>...</td>\n      <td>279.412500</td>\n      <td>287.250000</td>\n      <td>10.0</td>\n      <td>4.646694</td>\n      <td>0.065511</td>\n      <td>4.579444</td>\n      <td>4.607431</td>\n      <td>4.632500</td>\n      <td>4.656875</td>\n      <td>4.787500</td>\n    </tr>\n    <tr>\n      <th>10</th>\n      <td>dpp</td>\n      <td>local</td>\n      <td>4</td>\n      <td>gl2</td>\n      <td>10.0</td>\n      <td>1.965890e+05</td>\n      <td>586.296285</td>\n      <td>195420.0</td>\n      <td>196280.0</td>\n      <td>196835.0</td>\n      <td>...</td>\n      <td>68.504167</td>\n      <td>68.883333</td>\n      <td>10.0</td>\n      <td>1.132500</td>\n      <td>0.012449</td>\n      <td>1.111667</td>\n      <td>1.123472</td>\n      <td>1.133611</td>\n      <td>1.141736</td>\n      <td>1.148056</td>\n    </tr>\n    <tr>\n      <th>11</th>\n      <td>dpp</td>\n      <td>local</td>\n      <td>4</td>\n      <td>gl5</td>\n      <td>4.0</td>\n      <td>4.421150e+05</td>\n      <td>1384.497502</td>\n      <td>440500.0</td>\n      <td>441422.5</td>\n      <td>442070.0</td>\n      <td>...</td>\n      <td>74.829167</td>\n      <td>74.966667</td>\n      <td>4.0</td>\n      <td>1.241806</td>\n      <td>0.007316</td>\n      <td>1.233889</td>\n      <td>1.236597</td>\n      <td>1.241944</td>\n      <td>1.247153</td>\n      <td>1.249444</td>\n    </tr>\n    <tr>\n      <th>12</th>\n      <td>dpp</td>\n      <td>local</td>\n      <td>4</td>\n      <td>gl6</td>\n      <td>10.0</td>\n      <td>5.146150e+05</td>\n      <td>4816.700692</td>\n      <td>509860.0</td>\n      <td>511537.5</td>\n      <td>512630.0</td>\n      <td>...</td>\n      <td>73.604167</td>\n      <td>76.033333</td>\n      <td>10.0</td>\n      <td>1.218667</td>\n      <td>0.020588</td>\n      <td>1.199167</td>\n      <td>1.206250</td>\n      <td>1.209722</td>\n      <td>1.226736</td>\n      <td>1.267222</td>\n    </tr>\n    <tr>\n      <th>13</th>\n      <td>dpp</td>\n      <td>local</td>\n      <td>8</td>\n      <td>gl2</td>\n      <td>10.0</td>\n      <td>1.862380e+05</td>\n      <td>509.047040</td>\n      <td>185290.0</td>\n      <td>185912.5</td>\n      <td>186355.0</td>\n      <td>...</td>\n      <td>54.441667</td>\n      <td>54.866667</td>\n      <td>10.0</td>\n      <td>0.902167</td>\n      <td>0.008904</td>\n      <td>0.888333</td>\n      <td>0.895417</td>\n      <td>0.904444</td>\n      <td>0.907361</td>\n      <td>0.914444</td>\n    </tr>\n    <tr>\n      <th>14</th>\n      <td>dpp</td>\n      <td>local</td>\n      <td>8</td>\n      <td>gl5</td>\n      <td>3.0</td>\n      <td>2.808533e+05</td>\n      <td>2623.401100</td>\n      <td>277870.0</td>\n      <td>279880.0</td>\n      <td>281890.0</td>\n      <td>...</td>\n      <td>43.250000</td>\n      <td>43.250000</td>\n      <td>3.0</td>\n      <td>0.714630</td>\n      <td>0.010745</td>\n      <td>0.702222</td>\n      <td>0.711528</td>\n      <td>0.720833</td>\n      <td>0.720833</td>\n      <td>0.720833</td>\n    </tr>\n    <tr>\n      <th>15</th>\n      <td>dpp</td>\n      <td>local</td>\n      <td>8</td>\n      <td>gl6</td>\n      <td>10.0</td>\n      <td>3.236480e+05</td>\n      <td>3644.685019</td>\n      <td>320560.0</td>\n      <td>321190.0</td>\n      <td>321865.0</td>\n      <td>...</td>\n      <td>42.020833</td>\n      <td>43.183333</td>\n      <td>10.0</td>\n      <td>0.695611</td>\n      <td>0.010945</td>\n      <td>0.686111</td>\n      <td>0.687917</td>\n      <td>0.691944</td>\n      <td>0.700347</td>\n      <td>0.719722</td>\n    </tr>\n    <tr>\n      <th>16</th>\n      <td>dpp</td>\n      <td>local</td>\n      <td>16</td>\n      <td>gl5</td>\n      <td>1.0</td>\n      <td>2.011000e+05</td>\n      <td>NaN</td>\n      <td>201100.0</td>\n      <td>201100.0</td>\n      <td>201100.0</td>\n      <td>...</td>\n      <td>28.350000</td>\n      <td>28.350000</td>\n      <td>1.0</td>\n      <td>0.472500</td>\n      <td>NaN</td>\n      <td>0.472500</td>\n      <td>0.472500</td>\n      <td>0.472500</td>\n      <td>0.472500</td>\n      <td>0.472500</td>\n    </tr>\n    <tr>\n      <th>17</th>\n      <td>dpp</td>\n      <td>local</td>\n      <td>16</td>\n      <td>gl6</td>\n      <td>10.0</td>\n      <td>2.263680e+05</td>\n      <td>3723.185016</td>\n      <td>222130.0</td>\n      <td>224287.5</td>\n      <td>225440.0</td>\n      <td>...</td>\n      <td>27.466667</td>\n      <td>27.983333</td>\n      <td>10.0</td>\n      <td>0.445556</td>\n      <td>0.014224</td>\n      <td>0.428889</td>\n      <td>0.434444</td>\n      <td>0.438750</td>\n      <td>0.457778</td>\n      <td>0.466389</td>\n    </tr>\n    <tr>\n      <th>18</th>\n      <td>dpp</td>\n      <td>local</td>\n      <td>32</td>\n      <td>gl5</td>\n      <td>4.0</td>\n      <td>1.755925e+05</td>\n      <td>2247.552372</td>\n      <td>173450.0</td>\n      <td>173982.5</td>\n      <td>175255.0</td>\n      <td>...</td>\n      <td>22.325000</td>\n      <td>22.950000</td>\n      <td>4.0</td>\n      <td>0.363542</td>\n      <td>0.014997</td>\n      <td>0.350833</td>\n      <td>0.351875</td>\n      <td>0.360417</td>\n      <td>0.372083</td>\n      <td>0.382500</td>\n    </tr>\n    <tr>\n      <th>19</th>\n      <td>dpp</td>\n      <td>local</td>\n      <td>32</td>\n      <td>gl6</td>\n      <td>10.0</td>\n      <td>1.987640e+05</td>\n      <td>2881.990824</td>\n      <td>195400.0</td>\n      <td>196862.5</td>\n      <td>197685.0</td>\n      <td>...</td>\n      <td>22.000000</td>\n      <td>22.333333</td>\n      <td>10.0</td>\n      <td>0.358028</td>\n      <td>0.009067</td>\n      <td>0.347778</td>\n      <td>0.350556</td>\n      <td>0.355139</td>\n      <td>0.366667</td>\n      <td>0.372222</td>\n    </tr>\n  </tbody>\n</table>\n<p>20 rows × 204 columns</p>\n</div>"
     },
     "execution_count": 7,
     "metadata": {},
     "output_type": "execute_result"
    }
   ],
   "source": [
    "collected_data_stats = data_completed.groupby(['Workflow', 'mode', 'ncores', 'node']).describe().reset_index()\n",
    "collected_data_stats.to_csv(\n",
    "    'local_exp_overview_stats.csv', header=True)\n",
    "collected_data_stats"
   ],
   "metadata": {
    "collapsed": false,
    "ExecuteTime": {
     "end_time": "2023-12-21T13:17:54.210532800Z",
     "start_time": "2023-12-21T13:17:52.213230Z"
    }
   }
  },
  {
   "cell_type": "code",
   "execution_count": 8,
   "outputs": [
    {
     "data": {
      "text/plain": "   Workflow   mode  ncores node  n_trials  \\\n0       daa  local       4  gl2        10   \n1       daa  local       4  gl5         3   \n2       daa  local       4  gl6        10   \n3       daa  local       8  gl2        10   \n4       daa  local       8  gl5         4   \n5       daa  local       8  gl6        11   \n6       daa  local      16  gl5         2   \n7       daa  local      16  gl6        10   \n8       daa  local      32  gl5         1   \n9       daa  local      32  gl6        10   \n10      dpp  local       4  gl2        10   \n11      dpp  local       4  gl5         4   \n12      dpp  local       4  gl6        10   \n13      dpp  local       8  gl2        10   \n14      dpp  local       8  gl5         3   \n15      dpp  local       8  gl6        10   \n16      dpp  local      16  gl5         1   \n17      dpp  local      16  gl6        10   \n18      dpp  local      32  gl5         4   \n19      dpp  local      32  gl6        10   \n\n                              trials_list  \n0      [5, 8, 6, 3, 1, 2, 11, 13, 12, 14]  \n1                            [12, 11, 10]  \n2        [5, 10, 2, 7, 1, 8, 9, 6, 3, 20]  \n3       [2, 3, 4, 10, 9, 5, 7, 8, 11, 20]  \n4                        [12, 15, 14, 11]  \n5   [8, 2, 9, 4, 1, 7, 5, 11, 12, 13, 14]  \n6                                [11, 12]  \n7         [3, 10, 7, 1, 4, 6, 5, 8, 2, 9]  \n8                                    [11]  \n9         [9, 6, 7, 8, 2, 10, 3, 4, 1, 5]  \n10        [9, 3, 2, 10, 8, 5, 7, 6, 4, 1]  \n11                       [11, 12, 13, 16]  \n12      [6, 10, 7, 4, 2, 3, 1, 8, 12, 20]  \n13    [4, 10, 9, 1, 7, 2, 13, 12, 14, 20]  \n14                           [13, 11, 12]  \n15      [8, 3, 6, 5, 9, 4, 7, 10, 12, 11]  \n16                                   [11]  \n17       [10, 7, 1, 6, 3, 9, 5, 2, 4, 11]  \n18                       [12, 14, 13, 11]  \n19       [7, 5, 8, 4, 2, 9, 6, 3, 10, 11]  ",
      "text/html": "<div>\n<style scoped>\n    .dataframe tbody tr th:only-of-type {\n        vertical-align: middle;\n    }\n\n    .dataframe tbody tr th {\n        vertical-align: top;\n    }\n\n    .dataframe thead th {\n        text-align: right;\n    }\n</style>\n<table border=\"1\" class=\"dataframe\">\n  <thead>\n    <tr style=\"text-align: right;\">\n      <th></th>\n      <th>Workflow</th>\n      <th>mode</th>\n      <th>ncores</th>\n      <th>node</th>\n      <th>n_trials</th>\n      <th>trials_list</th>\n    </tr>\n  </thead>\n  <tbody>\n    <tr>\n      <th>0</th>\n      <td>daa</td>\n      <td>local</td>\n      <td>4</td>\n      <td>gl2</td>\n      <td>10</td>\n      <td>[5, 8, 6, 3, 1, 2, 11, 13, 12, 14]</td>\n    </tr>\n    <tr>\n      <th>1</th>\n      <td>daa</td>\n      <td>local</td>\n      <td>4</td>\n      <td>gl5</td>\n      <td>3</td>\n      <td>[12, 11, 10]</td>\n    </tr>\n    <tr>\n      <th>2</th>\n      <td>daa</td>\n      <td>local</td>\n      <td>4</td>\n      <td>gl6</td>\n      <td>10</td>\n      <td>[5, 10, 2, 7, 1, 8, 9, 6, 3, 20]</td>\n    </tr>\n    <tr>\n      <th>3</th>\n      <td>daa</td>\n      <td>local</td>\n      <td>8</td>\n      <td>gl2</td>\n      <td>10</td>\n      <td>[2, 3, 4, 10, 9, 5, 7, 8, 11, 20]</td>\n    </tr>\n    <tr>\n      <th>4</th>\n      <td>daa</td>\n      <td>local</td>\n      <td>8</td>\n      <td>gl5</td>\n      <td>4</td>\n      <td>[12, 15, 14, 11]</td>\n    </tr>\n    <tr>\n      <th>5</th>\n      <td>daa</td>\n      <td>local</td>\n      <td>8</td>\n      <td>gl6</td>\n      <td>11</td>\n      <td>[8, 2, 9, 4, 1, 7, 5, 11, 12, 13, 14]</td>\n    </tr>\n    <tr>\n      <th>6</th>\n      <td>daa</td>\n      <td>local</td>\n      <td>16</td>\n      <td>gl5</td>\n      <td>2</td>\n      <td>[11, 12]</td>\n    </tr>\n    <tr>\n      <th>7</th>\n      <td>daa</td>\n      <td>local</td>\n      <td>16</td>\n      <td>gl6</td>\n      <td>10</td>\n      <td>[3, 10, 7, 1, 4, 6, 5, 8, 2, 9]</td>\n    </tr>\n    <tr>\n      <th>8</th>\n      <td>daa</td>\n      <td>local</td>\n      <td>32</td>\n      <td>gl5</td>\n      <td>1</td>\n      <td>[11]</td>\n    </tr>\n    <tr>\n      <th>9</th>\n      <td>daa</td>\n      <td>local</td>\n      <td>32</td>\n      <td>gl6</td>\n      <td>10</td>\n      <td>[9, 6, 7, 8, 2, 10, 3, 4, 1, 5]</td>\n    </tr>\n    <tr>\n      <th>10</th>\n      <td>dpp</td>\n      <td>local</td>\n      <td>4</td>\n      <td>gl2</td>\n      <td>10</td>\n      <td>[9, 3, 2, 10, 8, 5, 7, 6, 4, 1]</td>\n    </tr>\n    <tr>\n      <th>11</th>\n      <td>dpp</td>\n      <td>local</td>\n      <td>4</td>\n      <td>gl5</td>\n      <td>4</td>\n      <td>[11, 12, 13, 16]</td>\n    </tr>\n    <tr>\n      <th>12</th>\n      <td>dpp</td>\n      <td>local</td>\n      <td>4</td>\n      <td>gl6</td>\n      <td>10</td>\n      <td>[6, 10, 7, 4, 2, 3, 1, 8, 12, 20]</td>\n    </tr>\n    <tr>\n      <th>13</th>\n      <td>dpp</td>\n      <td>local</td>\n      <td>8</td>\n      <td>gl2</td>\n      <td>10</td>\n      <td>[4, 10, 9, 1, 7, 2, 13, 12, 14, 20]</td>\n    </tr>\n    <tr>\n      <th>14</th>\n      <td>dpp</td>\n      <td>local</td>\n      <td>8</td>\n      <td>gl5</td>\n      <td>3</td>\n      <td>[13, 11, 12]</td>\n    </tr>\n    <tr>\n      <th>15</th>\n      <td>dpp</td>\n      <td>local</td>\n      <td>8</td>\n      <td>gl6</td>\n      <td>10</td>\n      <td>[8, 3, 6, 5, 9, 4, 7, 10, 12, 11]</td>\n    </tr>\n    <tr>\n      <th>16</th>\n      <td>dpp</td>\n      <td>local</td>\n      <td>16</td>\n      <td>gl5</td>\n      <td>1</td>\n      <td>[11]</td>\n    </tr>\n    <tr>\n      <th>17</th>\n      <td>dpp</td>\n      <td>local</td>\n      <td>16</td>\n      <td>gl6</td>\n      <td>10</td>\n      <td>[10, 7, 1, 6, 3, 9, 5, 2, 4, 11]</td>\n    </tr>\n    <tr>\n      <th>18</th>\n      <td>dpp</td>\n      <td>local</td>\n      <td>32</td>\n      <td>gl5</td>\n      <td>4</td>\n      <td>[12, 14, 13, 11]</td>\n    </tr>\n    <tr>\n      <th>19</th>\n      <td>dpp</td>\n      <td>local</td>\n      <td>32</td>\n      <td>gl6</td>\n      <td>10</td>\n      <td>[7, 5, 8, 4, 2, 9, 6, 3, 10, 11]</td>\n    </tr>\n  </tbody>\n</table>\n</div>"
     },
     "execution_count": 8,
     "metadata": {},
     "output_type": "execute_result"
    }
   ],
   "source": [
    "# All collected data\n",
    "collected_data = data_completed.sort_values(\n",
    "    by=['Workflow', \"node\", \"ncores\"]).groupby(['Workflow', 'mode', 'ncores', 'node']).agg(\n",
    "    n_trials=('trial', 'count'), trials_list=('trial', lambda x: x.tolist())).reset_index()\n",
    "collected_data.to_csv('local_exp_overview.csv', index=False, header=True)\n",
    "collected_data"
   ],
   "metadata": {
    "collapsed": false,
    "ExecuteTime": {
     "end_time": "2023-12-21T13:17:54.348569900Z",
     "start_time": "2023-12-21T13:17:54.213542900Z"
    }
   }
  },
  {
   "cell_type": "code",
   "execution_count": 12,
   "outputs": [],
   "source": [
    "def to_local_config_class(workflow, node, trial, ncores, warmup=False):\n",
    "    warmup_arg = \", True\" if warmup else \"\"\n",
    "    return f'LocalConfig(\"{workflow}\", \"{node}\", {trial}, {ncores}{warmup_arg})'\n",
    "\n",
    "\n",
    "def to_configs_array(x, start_idx):\n",
    "    return f'[{to_local_config_class(x.Workflow, x.node, \"trial\", x.ncores)} for trial in range({start_idx}, {start_idx} + {x.trials_left_count})]'\n",
    "\n",
    "\n",
    "def max_ncores(node):\n",
    "    if node == 'gl2':\n",
    "        return 8\n",
    "    return 32\n",
    "\n",
    "\n",
    "def get_configs_code_for_new_experiment(node, target_total_n, start_idx):\n",
    "    exp_data = collected_data[(collected_data.node == node) & (\n",
    "            collected_data.n_trials < target_total_n)]\n",
    "    exp_data['trials_left_count'] = target_total_n - exp_data.n_trials\n",
    "    exp_data['code'] = exp_data.apply(to_configs_array, axis=1, start_idx=start_idx)\n",
    "    return \" + \".join(exp_data.code.to_list()), to_local_config_class('dpp', node, start_idx,\n",
    "                                                                      max_ncores(node), warmup=True)"
   ],
   "metadata": {
    "collapsed": false,
    "ExecuteTime": {
     "end_time": "2023-12-21T13:22:18.421419600Z",
     "start_time": "2023-12-21T13:22:18.401925400Z"
    }
   }
  },
  {
   "cell_type": "code",
   "execution_count": 13,
   "outputs": [],
   "source": [
    "TOTAL_EXPERIMENTS_PER_EPOCH = 10\n",
    "\n",
    "\n",
    "def get_class_name(node, epoch):\n",
    "    return f\"LocalExperiment{node.upper()}_{epoch}\"\n",
    "\n",
    "\n",
    "def generate_class(node, epoch, target_total_n):\n",
    "    configs, warmup_config = get_configs_code_for_new_experiment(node, target_total_n,\n",
    "                                                                 (epoch - 1) * TOTAL_EXPERIMENTS_PER_EPOCH)\n",
    "    class_definition = \\\n",
    "        f\"\"\"\n",
    "from typing import List\n",
    "\n",
    "from examples.domain import LocalExperiment\n",
    "from examples.domain.Config import Config\n",
    "from examples.domain.LocalConfig import LocalConfig\n",
    "\n",
    "\n",
    "class {get_class_name(node, epoch)}(LocalExperiment):\n",
    "    def create_configs(self) -> List[Config]:\n",
    "        return {configs}\n",
    "\n",
    "    def create_warmup_config(self) -> Config:\n",
    "        return {warmup_config}\n",
    "\"\"\"\n",
    "    return class_definition if configs else None"
   ],
   "metadata": {
    "collapsed": false,
    "ExecuteTime": {
     "end_time": "2023-12-21T13:22:18.954170400Z",
     "start_time": "2023-12-21T13:22:18.932007700Z"
    }
   }
  },
  {
   "cell_type": "code",
   "execution_count": 14,
   "outputs": [
    {
     "name": "stderr",
     "output_type": "stream",
     "text": [
      "C:\\Users\\Dmitrijs\\AppData\\Local\\Temp\\ipykernel_36952\\2293699696.py:19: SettingWithCopyWarning: \n",
      "A value is trying to be set on a copy of a slice from a DataFrame.\n",
      "Try using .loc[row_indexer,col_indexer] = value instead\n",
      "\n",
      "See the caveats in the documentation: https://pandas.pydata.org/pandas-docs/stable/user_guide/indexing.html#returning-a-view-versus-a-copy\n",
      "  exp_data['trials_left_count'] = target_total_n - exp_data.n_trials\n",
      "C:\\Users\\Dmitrijs\\AppData\\Local\\Temp\\ipykernel_36952\\2293699696.py:20: SettingWithCopyWarning: \n",
      "A value is trying to be set on a copy of a slice from a DataFrame.\n",
      "Try using .loc[row_indexer,col_indexer] = value instead\n",
      "\n",
      "See the caveats in the documentation: https://pandas.pydata.org/pandas-docs/stable/user_guide/indexing.html#returning-a-view-versus-a-copy\n",
      "  exp_data['code'] = exp_data.apply(to_configs_array, axis=1, start_idx=start_idx)\n"
     ]
    }
   ],
   "source": [
    "# new experiment epochs\n",
    "def generate_experiment_classes(exp_epochs):\n",
    "    for node, epoch in exp_epochs.items():\n",
    "        class_code = generate_class(node, epoch, TOTAL_EXPERIMENTS_PER_EPOCH)\n",
    "        if class_code is None:\n",
    "            continue\n",
    "\n",
    "        file_path = f\"../examples/domain/{get_class_name(node, epoch)}.py\"\n",
    "        with open(file_path, 'w') as file:\n",
    "            file.write(class_code)\n",
    "\n",
    "\n",
    "generate_experiment_classes({\n",
    "    \"gl2\": 3,\n",
    "    \"gl6\": 3,\n",
    "    \"gl5\": 2\n",
    "})"
   ],
   "metadata": {
    "collapsed": false,
    "ExecuteTime": {
     "end_time": "2023-12-21T13:22:22.315189400Z",
     "start_time": "2023-12-21T13:22:22.272809900Z"
    }
   }
  },
  {
   "cell_type": "code",
   "execution_count": null,
   "outputs": [],
   "source": [
    "data_completed['n_trials_completed'] = data_completed.sort_values(\n",
    "    by=['Workflow', \"node\", \"ncores\"]).groupby(['Workflow', 'mode', 'ncores', 'node']).Workflow.transform('count')\n",
    "data_completed['n_trials_threshold'] = data_completed['n_trials_completed'] >= 2\n",
    "data_completed"
   ],
   "metadata": {
    "collapsed": false
   }
  },
  {
   "cell_type": "code",
   "execution_count": null,
   "outputs": [],
   "source": [
    "import matplotlib.pyplot as plt"
   ],
   "metadata": {
    "collapsed": false
   }
  },
  {
   "cell_type": "code",
   "execution_count": null,
   "outputs": [],
   "source": [
    "data_for_analysis = data_completed[data_completed.n_trials_threshold].reset_index(drop=True)"
   ],
   "metadata": {
    "collapsed": false
   }
  },
  {
   "cell_type": "code",
   "execution_count": null,
   "outputs": [],
   "source": [
    "# draw one plot containing multiple boxplots with data distribution curve for each (workflow,ncores,node) agains EnergyConsumption\n",
    "fig, ax = plt.subplots(figsize=(15, 10))\n",
    "data_for_analysis.boxplot(column='ElapsedSeconds', by=['Workflow', 'ncores', 'node'], ax=ax)\n",
    "ax.set_xticklabels(ax.get_xticklabels(), rotation=-60)\n",
    "# save\n",
    "fig.savefig('boxplot.png')\n"
   ],
   "metadata": {
    "collapsed": false
   }
  },
  {
   "cell_type": "code",
   "execution_count": null,
   "outputs": [],
   "source": [
    "# draw two plots based on workflow containing multiple boxplots with data_for_analysis distribution curve for each (ncores,node) agains ConsumedEnergy, then 2 plots agains AveRSS, AveDiskRead, AveDiskWrite, AveVMSize. Add titles to plots with workflow name. Make sure that it is one big plot that contains all the subplots.\n",
    "fig, ax = plt.subplots(nrows=2, ncols=6, figsize=(26, 10))\n",
    "for j, workflow in enumerate(data_for_analysis.Workflow.unique()):\n",
    "    for i, column in enumerate(\n",
    "            ['ElapsedHours', 'ConsumedEnergyK', 'AveRSSM', 'AveDiskReadM', 'AveDiskWriteM', 'AveVMSizeM']):\n",
    "        data_for_analysis[data_for_analysis.Workflow == workflow].boxplot(column=column, by=['ncores', 'node'],\n",
    "                                                                          ax=ax[j, i])\n",
    "        ax[j, i].set_title(f\"{workflow}-{column}\")\n",
    "        ax[j, i].set_xticklabels(ax[j, i].get_xticklabels(), rotation=-60)\n",
    "        # next to every boxplot box show data_for_analysis distribution\n",
    "\n",
    "fig.subplots_adjust(hspace=0.5, wspace=0.25)\n",
    "\n",
    "fig.savefig('boxplot-overview-by-workflows.png')"
   ],
   "metadata": {
    "collapsed": false
   }
  },
  {
   "cell_type": "code",
   "execution_count": null,
   "outputs": [],
   "source": [
    "fig, ax = plt.subplots(nrows=2, ncols=3, figsize=(26, 10))\n",
    "for i, column in enumerate(\n",
    "        ['ElapsedHours', 'ConsumedEnergyK', 'AveRSSM', 'AveDiskReadM', 'AveDiskWriteM', 'AveVMSizeM']):\n",
    "    data_for_analysis.boxplot(column=column, by=['Workflow', 'ncores', 'node'], ax=ax[i // 3, i % 3])\n",
    "    ax[i // 3, i % 3].set_title(column)\n",
    "    ax[i // 3, i % 3].set_xticklabels(ax[i // 3, i % 3].get_xticklabels(), rotation=-60)\n",
    "\n",
    "fig.subplots_adjust(hspace=0.6)\n",
    "\n",
    "fig.savefig('boxplot-overview.png')"
   ],
   "metadata": {
    "collapsed": false
   }
  },
  {
   "cell_type": "code",
   "execution_count": null,
   "outputs": [],
   "source": [],
   "metadata": {
    "collapsed": false,
    "ExecuteTime": {
     "end_time": "2023-12-21T13:17:51.091826100Z",
     "start_time": "2023-12-21T13:17:51.085348400Z"
    }
   }
  }
 ],
 "metadata": {
  "kernelspec": {
   "display_name": "Python 3",
   "language": "python",
   "name": "python3"
  },
  "language_info": {
   "codemirror_mode": {
    "name": "ipython",
    "version": 2
   },
   "file_extension": ".py",
   "mimetype": "text/x-python",
   "name": "python",
   "nbconvert_exporter": "python",
   "pygments_lexer": "ipython2",
   "version": "2.7.6"
  }
 },
 "nbformat": 4,
 "nbformat_minor": 0
}
