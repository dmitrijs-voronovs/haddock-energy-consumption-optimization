{
 "cells": [
  {
   "cell_type": "code",
   "execution_count": null,
   "outputs": [],
   "source": [
    "import re\n",
    "import sys\n",
    "from pathlib import Path\n",
    "\n",
    "import pandas as pd\n",
    "from IPython.core.display_functions import display\n",
    "from matplotlib import pyplot as plt\n",
    "from matplotlib.image import AxesImage\n",
    "\n",
    "sys.path.append(str(Path.cwd().parent))\n",
    "sys.path.append(str(Path.cwd()))\n",
    "from data_analysis.CLI import ExperimentDir"
   ],
   "metadata": {
    "collapsed": false
   }
  },
  {
   "cell_type": "code",
   "execution_count": null,
   "outputs": [],
   "source": [
    "exp = ExperimentDir.LOCAL\n",
    "if len(sys.argv) > 1:\n",
    "    try:\n",
    "        exp = ExperimentDir.value_to_enum(sys.argv[1])\n",
    "    except ValueError as e:\n",
    "        print(f\"Experiment was set to {exp}\", e)\n",
    "\n",
    "exp_dir = Path(ExperimentDir.host_dir(exp)) / 'runs'\n",
    "pngs = list(exp_dir.glob('run.*.parsed/*png'))\n",
    "\n",
    "generic_config_regex = r\".+?\\.(.+?)-(.+?)(?:-(.+?))_(.+?)-(\\d+)\\.cfg.+\"\n",
    "local_config_regex = r\".+?\\.(.+?)-(.+?)-nc(\\d+)_(.+?)-(\\d+)\\.cfg.+\"\n",
    "extract_params_from_config = lambda cfg: re.match(local_config_regex,\n",
    "                                                  cfg).groups()\n",
    "extract_cfg_name = lambda cfg: re.match(r\"^.+?\\.(.+?)\\..+$\", cfg).group(1)\n",
    "\n",
    "configs = []\n",
    "for png in pngs:\n",
    "    workflow, mode, ncores, node, trial = extract_params_from_config(png.parent.name)\n",
    "    configs.append({\n",
    "        'cfg_name': extract_cfg_name(png.parent.name),\n",
    "        'path': png,\n",
    "        'workflow': workflow,\n",
    "        \"mode\": mode,\n",
    "        'ncores': int(ncores),\n",
    "        'node': node,\n",
    "        'trial': int(trial),\n",
    "        'image_name': png.name,\n",
    "    })\n",
    "\n",
    "df = pd.DataFrame(configs, columns=['cfg_name', 'path', 'workflow', 'mode', 'ncores', 'node', 'trial', 'image_name'])\n",
    "df"
   ],
   "metadata": {
    "collapsed": false
   }
  },
  {
   "cell_type": "code",
   "execution_count": null,
   "outputs": [],
   "source": [
    "data_gathered = df.groupby(['image_name', 'mode', 'workflow', 'ncores']).size().reset_index(name='count')\n",
    "data_gathered.to_csv('info.csv', index=False)\n",
    "data_gathered"
   ],
   "metadata": {
    "collapsed": false
   }
  },
  {
   "cell_type": "code",
   "execution_count": null,
   "outputs": [],
   "source": [
    "data_gathered_by_node = df.groupby(['image_name', 'mode', 'workflow', 'ncores', 'node']).size().reset_index(\n",
    "    name='count')\n",
    "data_gathered_by_node.to_csv('info.by_node.csv', index=False)\n",
    "data_gathered_by_node"
   ],
   "metadata": {
    "collapsed": false
   }
  },
  {
   "cell_type": "code",
   "execution_count": null,
   "outputs": [],
   "source": [
    "workflow = 'daa'\n",
    "image_name = 'run_avg_cpu_util_all.png'\n",
    "df_slice = df[(df.workflow == workflow) & (df.image_name == image_name)]\n",
    "df_slice"
   ],
   "metadata": {
    "collapsed": false
   }
  },
  {
   "cell_type": "code",
   "execution_count": null,
   "outputs": [],
   "source": [
    "df_count = df_slice.groupby(['node', 'ncores']).size().reset_index(name='count')\n",
    "df_max_count_per_ncores = df_count.groupby('ncores')['count'].max().reset_index(name='max_count')\n",
    "total_count = df_max_count_per_ncores['max_count'].sum()\n",
    "# df_max\n",
    "display(df_count, df_max_count_per_ncores, total_count)"
   ],
   "metadata": {
    "collapsed": false
   }
  },
  {
   "cell_type": "code",
   "execution_count": null,
   "outputs": [],
   "source": [
    "scale = 3\n",
    "\n",
    "# for unique workflogs\n",
    "for workflow in df.workflow.unique():\n",
    "    for image_name in df.image_name.unique():\n",
    "        img_name = f\"{workflow}_{image_name}\"\n",
    "        print(f\"Generating {img_name}\")\n",
    "\n",
    "        df_slice = df[(df.workflow == workflow) & (df.image_name == image_name)]\n",
    "        df_count = df_slice.groupby(['node', 'ncores']).size().reset_index(name='count')\n",
    "        df_max_count_per_ncores = df_count.groupby('ncores')['count'].max().reset_index(name='max_count')\n",
    "\n",
    "        x_len = len(df_slice.node.unique())\n",
    "        y_len = df_max_count_per_ncores['max_count'].sum()\n",
    "        fig, ax = plt.subplots(y_len, x_len, figsize=(x_len * 5 * scale, y_len * 2 * scale))\n",
    "\n",
    "        for col, node in enumerate(df_slice.node.unique()):\n",
    "            row_offset = 0\n",
    "            df_slice_node = df_slice[df_slice.node == node]\n",
    "            for ncore in df_max_count_per_ncores.ncores:\n",
    "                max_ncore_group_rows = \\\n",
    "                df_max_count_per_ncores[df_max_count_per_ncores.ncores == ncore].max_count.values[0]\n",
    "                for ncore_group_row, (_, cfg) in enumerate(df_slice_node[df_slice_node.ncores == ncore].iterrows()):\n",
    "                    row = row_offset + ncore_group_row\n",
    "                    ax[row, col].imshow(plt.imread(cfg.path))\n",
    "                    ax[row, col].axis('off')\n",
    "\n",
    "\n",
    "                    def adjust_style(axx):\n",
    "                        axx.axis('on')\n",
    "                        axx.set_xticks([])\n",
    "                        axx.set_yticks([])\n",
    "                        axx.spines[:].set_visible(False)\n",
    "\n",
    "\n",
    "                    if col == 0 or col == x_len - 1:\n",
    "                        adjust_style(ax[row, col])\n",
    "                        ax[row, col].set_ylabel(f\"{cfg.ncores} ncores\", fontsize=20)\n",
    "                    if col == x_len - 1:\n",
    "                        ax[row, col].yaxis.set_label_position('right')\n",
    "\n",
    "                    if row == 0 or row == y_len - 1:\n",
    "                        adjust_style(ax[row, col])\n",
    "                        ax[row, col].set_xlabel(f\"{node}\", fontsize=20)\n",
    "                    if row == 0:\n",
    "                        ax[row, col].xaxis.set_label_position('top')\n",
    "\n",
    "                    if ncore_group_row == 0 and row != 0:\n",
    "                        ax[row, col].spines['top'].set_visible(True)\n",
    "\n",
    "                row_offset += max_ncore_group_rows\n",
    "\n",
    "        for i in range(x_len):\n",
    "            for j in range(y_len):\n",
    "                children = ax[j, i].get_children()\n",
    "                if not any(isinstance(child, AxesImage) for child in children):\n",
    "                    ax[j, i].axis('off')\n",
    "                    ax[j, i].set_xticks([])\n",
    "                    ax[j, i].set_yticks([])\n",
    "\n",
    "        plt.tight_layout()\n",
    "        plt.savefig(img_name)\n",
    "        # plt.show()\n",
    "\n"
   ],
   "metadata": {
    "collapsed": false
   }
  },
  {
   "cell_type": "code",
   "execution_count": null,
   "outputs": [],
   "source": [],
   "metadata": {
    "collapsed": false
   }
  }
 ],
 "metadata": {
  "kernelspec": {
   "display_name": "Python 3",
   "language": "python",
   "name": "python3"
  },
  "language_info": {
   "codemirror_mode": {
    "name": "ipython",
    "version": 2
   },
   "file_extension": ".py",
   "mimetype": "text/x-python",
   "name": "python",
   "nbconvert_exporter": "python",
   "pygments_lexer": "ipython2",
   "version": "2.7.6"
  }
 },
 "nbformat": 4,
 "nbformat_minor": 0
}
