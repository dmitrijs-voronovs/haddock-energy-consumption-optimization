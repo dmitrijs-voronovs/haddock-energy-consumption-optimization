{
 "cells": [
  {
   "cell_type": "code",
   "execution_count": 39,
   "metadata": {
    "collapsed": true,
    "ExecuteTime": {
     "end_time": "2024-01-18T11:15:15.670822200Z",
     "start_time": "2024-01-18T11:15:15.630086Z"
    }
   },
   "outputs": [],
   "source": [
    "from pathlib import Path\n",
    "\n",
    "import pandas as pd\n",
    "import regex as re\n",
    "from IPython.core.display_functions import display"
   ]
  },
  {
   "cell_type": "code",
   "execution_count": 40,
   "outputs": [
    {
     "data": {
      "text/plain": "           JobID                    JobName  Cluster Unnamed: 3  NodeList  \\\n0          48897   dpp-local-nc4_gl6-35.cfg  gl2_gl4        NaN       gl6   \n1    48897.batch                      batch  gl2_gl4        NaN       gl6   \n2          48900   daa-local-nc4_gl6-33.cfg  gl2_gl4        NaN       gl6   \n3    48900.batch                      batch  gl2_gl4        NaN       gl6   \n4          48903   daa-local-nc4_gl6-32.cfg  gl2_gl4        NaN       gl6   \n..           ...                        ...      ...        ...       ...   \n109        49182   daa-local-nc2_gl6-35.cfg  gl2_gl4       None  assigned   \n110        49185  daa-local-nc16_gl6-32.cfg  gl2_gl4       None  assigned   \n111        49188   daa-local-nc4_gl6-37.cfg  gl2_gl4       None  assigned   \n112        49191   daa-local-nc2_gl6-37.cfg  gl2_gl4       None  assigned   \n113        49194   daa-local-nc8_gl6-36.cfg  gl2_gl4       None  assigned   \n\n          State                Start                  End ConsumedEnergy  \\\n0     COMPLETED  2024-01-15T15:44:01  2024-01-15T16:56:50            NaN   \n1     COMPLETED  2024-01-15T15:44:01  2024-01-15T16:56:50        516.68K   \n2     COMPLETED  2024-01-15T17:01:54  2024-01-16T10:17:38            NaN   \n3     COMPLETED  2024-01-15T17:01:54  2024-01-16T10:17:38          7.59M   \n4     COMPLETED  2024-01-16T10:22:42  2024-01-17T03:40:48            NaN   \n..          ...                  ...                  ...            ...   \n109  CANCELLED+                 None  2024-01-17T15:42:49              0   \n110     PENDING              Unknown              Unknown              0   \n111     PENDING              Unknown              Unknown              0   \n112  CANCELLED+                 None  2024-01-17T15:42:49              0   \n113     PENDING              Unknown              Unknown              0   \n\n       AveRSS  ...     UID        User WCKey WCKeyID  \\\n0         NaN  ...  1009.0  greenBeans   NaN     0.0   \n1     701608K  ...     NaN         NaN   NaN     NaN   \n2         NaN  ...  1009.0  greenBeans   NaN     0.0   \n3    1483588K  ...     NaN         NaN   NaN     NaN   \n4         NaN  ...  1009.0  greenBeans   NaN     0.0   \n..        ...  ...     ...         ...   ...     ...   \n109       NaN  ...  1009.0  greenBeans   NaN     0.0   \n110       NaN  ...  1009.0  greenBeans   NaN     0.0   \n111       NaN  ...  1009.0  greenBeans   NaN     0.0   \n112       NaN  ...  1009.0  greenBeans   NaN     0.0   \n113       NaN  ...  1009.0  greenBeans   NaN     0.0   \n\n                                        WorkDir               Submit  \\\n0    /mnt/nfs_share/greenBeansHaddock/exp-local  2024-01-15T15:12:56   \n1                                           NaN  2024-01-15T15:44:01   \n2    /mnt/nfs_share/greenBeansHaddock/exp-local  2024-01-15T15:12:56   \n3                                           NaN  2024-01-15T17:01:54   \n4    /mnt/nfs_share/greenBeansHaddock/exp-local  2024-01-15T15:12:56   \n..                                          ...                  ...   \n109  /mnt/nfs_share/greenBeansHaddock/exp-local  2024-01-15T15:13:00   \n110  /mnt/nfs_share/greenBeansHaddock/exp-local  2024-01-15T15:13:00   \n111  /mnt/nfs_share/greenBeansHaddock/exp-local  2024-01-15T15:13:00   \n112  /mnt/nfs_share/greenBeansHaddock/exp-local  2024-01-15T15:13:00   \n113  /mnt/nfs_share/greenBeansHaddock/exp-local  2024-01-15T15:13:00   \n\n                                          Unnamed: 112  \\\n0        sbatch --job-name=dpp-local-nc4_gl6-35.cfg -w   \n1                                                  NaN   \n2        sbatch --job-name=daa-local-nc4_gl6-33.cfg -w   \n3                                                  NaN   \n4        sbatch --job-name=daa-local-nc4_gl6-32.cfg -w   \n..                                                 ...   \n109      sbatch --job-name=daa-local-nc2_gl6-35.cfg -w   \n110  sbatch --job-name=daa-local-nc16_gl6-32.cfg -w...   \n111      sbatch --job-name=daa-local-nc4_gl6-37.cfg -w   \n112      sbatch --job-name=daa-local-nc2_gl6-37.cfg -w   \n113      sbatch --job-name=daa-local-nc8_gl6-36.cfg -w   \n\n                                          Unnamed: 113  \\\n0    gl6 -n 4 --dependency=afterany:48896 --wrap=(p...   \n1                                                  NaN   \n2    gl6 -n 4 --dependency=afterany:48899 --wrap=(p...   \n3                                                  NaN   \n4    gl6 -n 4 --dependency=afterany:48902 --wrap=(p...   \n..                                                 ...   \n109  gl6 -n 2 --dependency=afterany:49181 --wrap=(p...   \n110  -n 16 --dependency=afterany:49184 --wrap=(perf...   \n111  gl6 -n 4 --dependency=afterany:49187 --wrap=(p...   \n112  gl6 -n 2 --dependency=afterany:49190 --wrap=(p...   \n113  gl6 -n 8 --dependency=afterany:49193 --wrap=(p...   \n\n                                          Unnamed: 114  \\\n0    -e power/energy-pkg/,power/energy-ram/ haddock...   \n1                                                  NaN   \n2    -e power/energy-pkg/,power/energy-ram/ haddock...   \n3                                                  NaN   \n4    -e power/energy-pkg/,power/energy-ram/ haddock...   \n..                                                 ...   \n109  -e power/energy-pkg/,power/energy-ram/ haddock...   \n110  power/energy-pkg/,power/energy-ram/ haddock3 '...   \n111  -e power/energy-pkg/,power/energy-ram/ haddock...   \n112  -e power/energy-pkg/,power/energy-ram/ haddock...   \n113  -e power/energy-pkg/,power/energy-ram/ haddock...   \n\n                                            SubmitLine  \n0    > run.dpp-local-nc4_gl6-35.cfg.info/haddock.ou...  \n1                                                  NaN  \n2    > run.daa-local-nc4_gl6-33.cfg.info/haddock.ou...  \n3                                                  NaN  \n4    > run.daa-local-nc4_gl6-32.cfg.info/haddock.ou...  \n..                                                 ...  \n109  > run.daa-local-nc2_gl6-35.cfg.info/haddock.ou...  \n110  run.daa-local-nc16_gl6-32.cfg.info/haddock.out...  \n111  > run.daa-local-nc4_gl6-37.cfg.info/haddock.ou...  \n112  > run.daa-local-nc2_gl6-37.cfg.info/haddock.ou...  \n113  > run.daa-local-nc8_gl6-36.cfg.info/haddock.ou...  \n\n[114 rows x 116 columns]",
      "text/html": "<div>\n<style scoped>\n    .dataframe tbody tr th:only-of-type {\n        vertical-align: middle;\n    }\n\n    .dataframe tbody tr th {\n        vertical-align: top;\n    }\n\n    .dataframe thead th {\n        text-align: right;\n    }\n</style>\n<table border=\"1\" class=\"dataframe\">\n  <thead>\n    <tr style=\"text-align: right;\">\n      <th></th>\n      <th>JobID</th>\n      <th>JobName</th>\n      <th>Cluster</th>\n      <th>Unnamed: 3</th>\n      <th>NodeList</th>\n      <th>State</th>\n      <th>Start</th>\n      <th>End</th>\n      <th>ConsumedEnergy</th>\n      <th>AveRSS</th>\n      <th>...</th>\n      <th>UID</th>\n      <th>User</th>\n      <th>WCKey</th>\n      <th>WCKeyID</th>\n      <th>WorkDir</th>\n      <th>Submit</th>\n      <th>Unnamed: 112</th>\n      <th>Unnamed: 113</th>\n      <th>Unnamed: 114</th>\n      <th>SubmitLine</th>\n    </tr>\n  </thead>\n  <tbody>\n    <tr>\n      <th>0</th>\n      <td>48897</td>\n      <td>dpp-local-nc4_gl6-35.cfg</td>\n      <td>gl2_gl4</td>\n      <td>NaN</td>\n      <td>gl6</td>\n      <td>COMPLETED</td>\n      <td>2024-01-15T15:44:01</td>\n      <td>2024-01-15T16:56:50</td>\n      <td>NaN</td>\n      <td>NaN</td>\n      <td>...</td>\n      <td>1009.0</td>\n      <td>greenBeans</td>\n      <td>NaN</td>\n      <td>0.0</td>\n      <td>/mnt/nfs_share/greenBeansHaddock/exp-local</td>\n      <td>2024-01-15T15:12:56</td>\n      <td>sbatch --job-name=dpp-local-nc4_gl6-35.cfg -w</td>\n      <td>gl6 -n 4 --dependency=afterany:48896 --wrap=(p...</td>\n      <td>-e power/energy-pkg/,power/energy-ram/ haddock...</td>\n      <td>&gt; run.dpp-local-nc4_gl6-35.cfg.info/haddock.ou...</td>\n    </tr>\n    <tr>\n      <th>1</th>\n      <td>48897.batch</td>\n      <td>batch</td>\n      <td>gl2_gl4</td>\n      <td>NaN</td>\n      <td>gl6</td>\n      <td>COMPLETED</td>\n      <td>2024-01-15T15:44:01</td>\n      <td>2024-01-15T16:56:50</td>\n      <td>516.68K</td>\n      <td>701608K</td>\n      <td>...</td>\n      <td>NaN</td>\n      <td>NaN</td>\n      <td>NaN</td>\n      <td>NaN</td>\n      <td>NaN</td>\n      <td>2024-01-15T15:44:01</td>\n      <td>NaN</td>\n      <td>NaN</td>\n      <td>NaN</td>\n      <td>NaN</td>\n    </tr>\n    <tr>\n      <th>2</th>\n      <td>48900</td>\n      <td>daa-local-nc4_gl6-33.cfg</td>\n      <td>gl2_gl4</td>\n      <td>NaN</td>\n      <td>gl6</td>\n      <td>COMPLETED</td>\n      <td>2024-01-15T17:01:54</td>\n      <td>2024-01-16T10:17:38</td>\n      <td>NaN</td>\n      <td>NaN</td>\n      <td>...</td>\n      <td>1009.0</td>\n      <td>greenBeans</td>\n      <td>NaN</td>\n      <td>0.0</td>\n      <td>/mnt/nfs_share/greenBeansHaddock/exp-local</td>\n      <td>2024-01-15T15:12:56</td>\n      <td>sbatch --job-name=daa-local-nc4_gl6-33.cfg -w</td>\n      <td>gl6 -n 4 --dependency=afterany:48899 --wrap=(p...</td>\n      <td>-e power/energy-pkg/,power/energy-ram/ haddock...</td>\n      <td>&gt; run.daa-local-nc4_gl6-33.cfg.info/haddock.ou...</td>\n    </tr>\n    <tr>\n      <th>3</th>\n      <td>48900.batch</td>\n      <td>batch</td>\n      <td>gl2_gl4</td>\n      <td>NaN</td>\n      <td>gl6</td>\n      <td>COMPLETED</td>\n      <td>2024-01-15T17:01:54</td>\n      <td>2024-01-16T10:17:38</td>\n      <td>7.59M</td>\n      <td>1483588K</td>\n      <td>...</td>\n      <td>NaN</td>\n      <td>NaN</td>\n      <td>NaN</td>\n      <td>NaN</td>\n      <td>NaN</td>\n      <td>2024-01-15T17:01:54</td>\n      <td>NaN</td>\n      <td>NaN</td>\n      <td>NaN</td>\n      <td>NaN</td>\n    </tr>\n    <tr>\n      <th>4</th>\n      <td>48903</td>\n      <td>daa-local-nc4_gl6-32.cfg</td>\n      <td>gl2_gl4</td>\n      <td>NaN</td>\n      <td>gl6</td>\n      <td>COMPLETED</td>\n      <td>2024-01-16T10:22:42</td>\n      <td>2024-01-17T03:40:48</td>\n      <td>NaN</td>\n      <td>NaN</td>\n      <td>...</td>\n      <td>1009.0</td>\n      <td>greenBeans</td>\n      <td>NaN</td>\n      <td>0.0</td>\n      <td>/mnt/nfs_share/greenBeansHaddock/exp-local</td>\n      <td>2024-01-15T15:12:56</td>\n      <td>sbatch --job-name=daa-local-nc4_gl6-32.cfg -w</td>\n      <td>gl6 -n 4 --dependency=afterany:48902 --wrap=(p...</td>\n      <td>-e power/energy-pkg/,power/energy-ram/ haddock...</td>\n      <td>&gt; run.daa-local-nc4_gl6-32.cfg.info/haddock.ou...</td>\n    </tr>\n    <tr>\n      <th>...</th>\n      <td>...</td>\n      <td>...</td>\n      <td>...</td>\n      <td>...</td>\n      <td>...</td>\n      <td>...</td>\n      <td>...</td>\n      <td>...</td>\n      <td>...</td>\n      <td>...</td>\n      <td>...</td>\n      <td>...</td>\n      <td>...</td>\n      <td>...</td>\n      <td>...</td>\n      <td>...</td>\n      <td>...</td>\n      <td>...</td>\n      <td>...</td>\n      <td>...</td>\n      <td>...</td>\n    </tr>\n    <tr>\n      <th>109</th>\n      <td>49182</td>\n      <td>daa-local-nc2_gl6-35.cfg</td>\n      <td>gl2_gl4</td>\n      <td>None</td>\n      <td>assigned</td>\n      <td>CANCELLED+</td>\n      <td>None</td>\n      <td>2024-01-17T15:42:49</td>\n      <td>0</td>\n      <td>NaN</td>\n      <td>...</td>\n      <td>1009.0</td>\n      <td>greenBeans</td>\n      <td>NaN</td>\n      <td>0.0</td>\n      <td>/mnt/nfs_share/greenBeansHaddock/exp-local</td>\n      <td>2024-01-15T15:13:00</td>\n      <td>sbatch --job-name=daa-local-nc2_gl6-35.cfg -w</td>\n      <td>gl6 -n 2 --dependency=afterany:49181 --wrap=(p...</td>\n      <td>-e power/energy-pkg/,power/energy-ram/ haddock...</td>\n      <td>&gt; run.daa-local-nc2_gl6-35.cfg.info/haddock.ou...</td>\n    </tr>\n    <tr>\n      <th>110</th>\n      <td>49185</td>\n      <td>daa-local-nc16_gl6-32.cfg</td>\n      <td>gl2_gl4</td>\n      <td>None</td>\n      <td>assigned</td>\n      <td>PENDING</td>\n      <td>Unknown</td>\n      <td>Unknown</td>\n      <td>0</td>\n      <td>NaN</td>\n      <td>...</td>\n      <td>1009.0</td>\n      <td>greenBeans</td>\n      <td>NaN</td>\n      <td>0.0</td>\n      <td>/mnt/nfs_share/greenBeansHaddock/exp-local</td>\n      <td>2024-01-15T15:13:00</td>\n      <td>sbatch --job-name=daa-local-nc16_gl6-32.cfg -w...</td>\n      <td>-n 16 --dependency=afterany:49184 --wrap=(perf...</td>\n      <td>power/energy-pkg/,power/energy-ram/ haddock3 '...</td>\n      <td>run.daa-local-nc16_gl6-32.cfg.info/haddock.out...</td>\n    </tr>\n    <tr>\n      <th>111</th>\n      <td>49188</td>\n      <td>daa-local-nc4_gl6-37.cfg</td>\n      <td>gl2_gl4</td>\n      <td>None</td>\n      <td>assigned</td>\n      <td>PENDING</td>\n      <td>Unknown</td>\n      <td>Unknown</td>\n      <td>0</td>\n      <td>NaN</td>\n      <td>...</td>\n      <td>1009.0</td>\n      <td>greenBeans</td>\n      <td>NaN</td>\n      <td>0.0</td>\n      <td>/mnt/nfs_share/greenBeansHaddock/exp-local</td>\n      <td>2024-01-15T15:13:00</td>\n      <td>sbatch --job-name=daa-local-nc4_gl6-37.cfg -w</td>\n      <td>gl6 -n 4 --dependency=afterany:49187 --wrap=(p...</td>\n      <td>-e power/energy-pkg/,power/energy-ram/ haddock...</td>\n      <td>&gt; run.daa-local-nc4_gl6-37.cfg.info/haddock.ou...</td>\n    </tr>\n    <tr>\n      <th>112</th>\n      <td>49191</td>\n      <td>daa-local-nc2_gl6-37.cfg</td>\n      <td>gl2_gl4</td>\n      <td>None</td>\n      <td>assigned</td>\n      <td>CANCELLED+</td>\n      <td>None</td>\n      <td>2024-01-17T15:42:49</td>\n      <td>0</td>\n      <td>NaN</td>\n      <td>...</td>\n      <td>1009.0</td>\n      <td>greenBeans</td>\n      <td>NaN</td>\n      <td>0.0</td>\n      <td>/mnt/nfs_share/greenBeansHaddock/exp-local</td>\n      <td>2024-01-15T15:13:00</td>\n      <td>sbatch --job-name=daa-local-nc2_gl6-37.cfg -w</td>\n      <td>gl6 -n 2 --dependency=afterany:49190 --wrap=(p...</td>\n      <td>-e power/energy-pkg/,power/energy-ram/ haddock...</td>\n      <td>&gt; run.daa-local-nc2_gl6-37.cfg.info/haddock.ou...</td>\n    </tr>\n    <tr>\n      <th>113</th>\n      <td>49194</td>\n      <td>daa-local-nc8_gl6-36.cfg</td>\n      <td>gl2_gl4</td>\n      <td>None</td>\n      <td>assigned</td>\n      <td>PENDING</td>\n      <td>Unknown</td>\n      <td>Unknown</td>\n      <td>0</td>\n      <td>NaN</td>\n      <td>...</td>\n      <td>1009.0</td>\n      <td>greenBeans</td>\n      <td>NaN</td>\n      <td>0.0</td>\n      <td>/mnt/nfs_share/greenBeansHaddock/exp-local</td>\n      <td>2024-01-15T15:13:00</td>\n      <td>sbatch --job-name=daa-local-nc8_gl6-36.cfg -w</td>\n      <td>gl6 -n 8 --dependency=afterany:49193 --wrap=(p...</td>\n      <td>-e power/energy-pkg/,power/energy-ram/ haddock...</td>\n      <td>&gt; run.daa-local-nc8_gl6-36.cfg.info/haddock.ou...</td>\n    </tr>\n  </tbody>\n</table>\n<p>114 rows × 116 columns</p>\n</div>"
     },
     "execution_count": 40,
     "metadata": {},
     "output_type": "execute_result"
    }
   ],
   "source": [
    "data_dir = \"./exp-local/data\"\n",
    "\n",
    "\n",
    "def import_data(dir):\n",
    "    all_files = Path(dir).glob('data*.txt')\n",
    "    all_data = [pd.read_fwf(path, skiprows=[1], index_col=None) for path in all_files]\n",
    "    return pd.concat(all_data, axis=0, ignore_index=True)\n",
    "\n",
    "\n",
    "data = import_data(data_dir)\n",
    "data"
   ],
   "metadata": {
    "collapsed": false,
    "ExecuteTime": {
     "end_time": "2024-01-18T11:15:15.772462700Z",
     "start_time": "2024-01-18T11:15:15.652548700Z"
    }
   }
  },
  {
   "cell_type": "code",
   "execution_count": 41,
   "outputs": [],
   "source": [
    "def convert_to_numeric(value):\n",
    "    match = re.match(r'^([\\d.]+)([KkMm])$', value)\n",
    "    if match:\n",
    "        numeric_part = float(match.group(1))\n",
    "        multiplier = match.group(2).upper()\n",
    "\n",
    "        if multiplier == 'K':\n",
    "            return numeric_part * 1000\n",
    "        elif multiplier == 'M':\n",
    "            return numeric_part * 1000000\n",
    "\n",
    "    return value\n",
    "\n",
    "\n",
    "def convert_elapsed_time(elapsed_time):\n",
    "    parts = elapsed_time.split('-') if '-' in elapsed_time else [0, elapsed_time]\n",
    "    days = int(parts[0])\n",
    "    time_parts = parts[1].split(':')\n",
    "    hours = int(time_parts[0])\n",
    "    minutes = int(time_parts[1])\n",
    "    seconds = int(time_parts[2])\n",
    "    total_seconds = days * 24 * 3600 + hours * 3600 + minutes * 60 + seconds\n",
    "    return total_seconds"
   ],
   "metadata": {
    "collapsed": false,
    "ExecuteTime": {
     "end_time": "2024-01-18T11:15:15.796607Z",
     "start_time": "2024-01-18T11:15:15.776461100Z"
    }
   }
  },
  {
   "cell_type": "code",
   "execution_count": 42,
   "outputs": [],
   "source": [
    "def filter_out_completed_jobs(dat):\n",
    "    dat = dat[dat.State == 'COMPLETED']\n",
    "    dat.JobName = dat.JobName.replace('batch', method='ffill')\n",
    "    return dat.dropna(subset=['ConsumedEnergy'])\n",
    "\n",
    "\n",
    "def extract_params_from_local_file_name(dat):\n",
    "    dat[['Workflow', 'mode', 'ncores', 'node', 'trial']] = dat.JobName.str.extract(\n",
    "        r'(\\w+)-(\\w+)-nc(\\d+)_(gl\\d+)-(\\d+).cfg')\n",
    "    dat.ncores = dat.ncores.astype(int)\n",
    "    dat.trial = dat.trial.astype(int)\n",
    "    return dat\n",
    "\n",
    "\n",
    "def append_job_data_columns(dat):\n",
    "    for column in ['ConsumedEnergy', 'AveRSS', 'AveDiskRead', 'AveDiskWrite', 'AveVMSize']:\n",
    "        dat[column] = dat[column].apply(convert_to_numeric)\n",
    "        dat[f\"{column}K\"] = dat[column] / 1000\n",
    "        dat[f\"{column}M\"] = dat[column] / 1_000_000\n",
    "        dat[f\"{column}G\"] = dat[column] / 1_000_000_000\n",
    "    dat['ElapsedSeconds'] = dat.Elapsed.apply(convert_elapsed_time)\n",
    "    dat['ElapsedMinutes'] = dat.ElapsedSeconds / 60\n",
    "    dat['ElapsedHours'] = dat.ElapsedMinutes / 60\n",
    "    return dat\n"
   ],
   "metadata": {
    "collapsed": false,
    "ExecuteTime": {
     "end_time": "2024-01-18T11:15:15.867633900Z",
     "start_time": "2024-01-18T11:15:15.796607Z"
    }
   }
  },
  {
   "cell_type": "code",
   "execution_count": 43,
   "outputs": [
    {
     "name": "stderr",
     "output_type": "stream",
     "text": [
      "C:\\Users\\Dmitrijs\\AppData\\Local\\Temp\\ipykernel_34788\\3033834533.py:3: SettingWithCopyWarning: \n",
      "A value is trying to be set on a copy of a slice from a DataFrame.\n",
      "Try using .loc[row_indexer,col_indexer] = value instead\n",
      "\n",
      "See the caveats in the documentation: https://pandas.pydata.org/pandas-docs/stable/user_guide/indexing.html#returning-a-view-versus-a-copy\n",
      "  dat.JobName = dat.JobName.replace('batch', method='ffill')\n"
     ]
    },
    {
     "data": {
      "text/plain": "         JobID                    JobName  Cluster NodeList      State  \\\n1  48900.batch   daa-local-nc4_gl6-33.cfg  gl2_gl4      gl6  COMPLETED   \n2  48903.batch   daa-local-nc4_gl6-32.cfg  gl2_gl4      gl6  COMPLETED   \n0  48897.batch   dpp-local-nc4_gl6-35.cfg  gl2_gl4      gl6  COMPLETED   \n6  48927.batch   daa-local-nc8_gl6-32.cfg  gl2_gl4      gl6  COMPLETED   \n3  48909.batch   dpp-local-nc8_gl6-34.cfg  gl2_gl4      gl6  COMPLETED   \n5  48915.batch  dpp-local-nc16_gl6-40.cfg  gl2_gl4      gl6  COMPLETED   \n8  48933.batch  dpp-local-nc16_gl6-35.cfg  gl2_gl4      gl6  COMPLETED   \n9  48936.batch  dpp-local-nc16_gl6-32.cfg  gl2_gl4      gl6  COMPLETED   \n4  48912.batch  dpp-local-nc32_gl6-33.cfg  gl2_gl4      gl6  COMPLETED   \n7  48930.batch  dpp-local-nc32_gl6-37.cfg  gl2_gl4      gl6  COMPLETED   \n\n                 Start                  End  ConsumedEnergy        AveRSS  \\\n1  2024-01-15T17:01:54  2024-01-16T10:17:38       7590000.0  1.483588e+09   \n2  2024-01-16T10:22:42  2024-01-17T03:40:48       7580000.0  1.460128e+09   \n0  2024-01-15T15:44:01  2024-01-15T16:56:50        516680.0  7.016080e+08   \n6  2024-01-17T15:58:01  2024-01-18T01:50:16       4760000.0  2.628628e+09   \n3  2024-01-17T06:08:31  2024-01-17T06:49:57        323520.0  1.200996e+09   \n5  2024-01-17T07:21:09  2024-01-17T07:47:50        229280.0  2.223508e+09   \n8  2024-01-18T02:21:50  2024-01-18T02:48:16        230060.0  2.207268e+09   \n9  2024-01-18T02:53:18  2024-01-18T03:19:57        231150.0  2.220572e+09   \n4  2024-01-17T06:55:02  2024-01-17T07:16:05        197420.0  3.915788e+09   \n7  2024-01-18T01:55:20  2024-01-18T02:16:45        200240.0  3.919372e+09   \n\n    AveDiskRead  ...  AveDiskReadG  AveDiskWriteK AveDiskWriteM AveDiskWriteG  \\\n1  8.835671e+10  ...      88.35671     12752490.0      12752.49      12.75249   \n2  8.837871e+10  ...      88.37871     12753280.0      12753.28      12.75328   \n0  5.343470e+09  ...       5.34347       805040.0        805.04       0.80504   \n6  8.837871e+10  ...      88.37871     12752480.0      12752.48      12.75248   \n3  5.341970e+09  ...       5.34197       804920.0        804.92       0.80492   \n5  5.342780e+09  ...       5.34278       805050.0        805.05       0.80505   \n8  5.345290e+09  ...       5.34529       805130.0        805.13       0.80513   \n9  5.341970e+09  ...       5.34197       804930.0        804.93       0.80493   \n4  5.342080e+09  ...       5.34208       805040.0        805.04       0.80504   \n7  5.343480e+09  ...       5.34348       805050.0        805.05       0.80505   \n\n    AveVMSizeK  AveVMSizeM  AveVMSizeG  ElapsedSeconds  ElapsedMinutes  \\\n1   27547708.0   27547.708   27.547708           62144     1035.733333   \n2   27544800.0   27544.800   27.544800           62286     1038.100000   \n0   26546972.0   26546.972   26.546972            4369       72.816667   \n6   52596560.0   52596.560   52.596560           35535      592.250000   \n3   50582916.0   50582.916   50.582916            2486       41.433333   \n5   98676764.0   98676.764   98.676764            1601       26.683333   \n8   98670388.0   98670.388   98.670388            1586       26.433333   \n9   98728264.0   98728.264   98.728264            1599       26.650000   \n4  193736620.0  193736.620  193.736620            1263       21.050000   \n7  193742904.0  193742.904  193.742904            1285       21.416667   \n\n   ElapsedHours  \n1     17.262222  \n2     17.301667  \n0      1.213611  \n6      9.870833  \n3      0.690556  \n5      0.444722  \n8      0.440556  \n9      0.444167  \n4      0.350833  \n7      0.356944  \n\n[10 rows x 134 columns]",
      "text/html": "<div>\n<style scoped>\n    .dataframe tbody tr th:only-of-type {\n        vertical-align: middle;\n    }\n\n    .dataframe tbody tr th {\n        vertical-align: top;\n    }\n\n    .dataframe thead th {\n        text-align: right;\n    }\n</style>\n<table border=\"1\" class=\"dataframe\">\n  <thead>\n    <tr style=\"text-align: right;\">\n      <th></th>\n      <th>JobID</th>\n      <th>JobName</th>\n      <th>Cluster</th>\n      <th>NodeList</th>\n      <th>State</th>\n      <th>Start</th>\n      <th>End</th>\n      <th>ConsumedEnergy</th>\n      <th>AveRSS</th>\n      <th>AveDiskRead</th>\n      <th>...</th>\n      <th>AveDiskReadG</th>\n      <th>AveDiskWriteK</th>\n      <th>AveDiskWriteM</th>\n      <th>AveDiskWriteG</th>\n      <th>AveVMSizeK</th>\n      <th>AveVMSizeM</th>\n      <th>AveVMSizeG</th>\n      <th>ElapsedSeconds</th>\n      <th>ElapsedMinutes</th>\n      <th>ElapsedHours</th>\n    </tr>\n  </thead>\n  <tbody>\n    <tr>\n      <th>1</th>\n      <td>48900.batch</td>\n      <td>daa-local-nc4_gl6-33.cfg</td>\n      <td>gl2_gl4</td>\n      <td>gl6</td>\n      <td>COMPLETED</td>\n      <td>2024-01-15T17:01:54</td>\n      <td>2024-01-16T10:17:38</td>\n      <td>7590000.0</td>\n      <td>1.483588e+09</td>\n      <td>8.835671e+10</td>\n      <td>...</td>\n      <td>88.35671</td>\n      <td>12752490.0</td>\n      <td>12752.49</td>\n      <td>12.75249</td>\n      <td>27547708.0</td>\n      <td>27547.708</td>\n      <td>27.547708</td>\n      <td>62144</td>\n      <td>1035.733333</td>\n      <td>17.262222</td>\n    </tr>\n    <tr>\n      <th>2</th>\n      <td>48903.batch</td>\n      <td>daa-local-nc4_gl6-32.cfg</td>\n      <td>gl2_gl4</td>\n      <td>gl6</td>\n      <td>COMPLETED</td>\n      <td>2024-01-16T10:22:42</td>\n      <td>2024-01-17T03:40:48</td>\n      <td>7580000.0</td>\n      <td>1.460128e+09</td>\n      <td>8.837871e+10</td>\n      <td>...</td>\n      <td>88.37871</td>\n      <td>12753280.0</td>\n      <td>12753.28</td>\n      <td>12.75328</td>\n      <td>27544800.0</td>\n      <td>27544.800</td>\n      <td>27.544800</td>\n      <td>62286</td>\n      <td>1038.100000</td>\n      <td>17.301667</td>\n    </tr>\n    <tr>\n      <th>0</th>\n      <td>48897.batch</td>\n      <td>dpp-local-nc4_gl6-35.cfg</td>\n      <td>gl2_gl4</td>\n      <td>gl6</td>\n      <td>COMPLETED</td>\n      <td>2024-01-15T15:44:01</td>\n      <td>2024-01-15T16:56:50</td>\n      <td>516680.0</td>\n      <td>7.016080e+08</td>\n      <td>5.343470e+09</td>\n      <td>...</td>\n      <td>5.34347</td>\n      <td>805040.0</td>\n      <td>805.04</td>\n      <td>0.80504</td>\n      <td>26546972.0</td>\n      <td>26546.972</td>\n      <td>26.546972</td>\n      <td>4369</td>\n      <td>72.816667</td>\n      <td>1.213611</td>\n    </tr>\n    <tr>\n      <th>6</th>\n      <td>48927.batch</td>\n      <td>daa-local-nc8_gl6-32.cfg</td>\n      <td>gl2_gl4</td>\n      <td>gl6</td>\n      <td>COMPLETED</td>\n      <td>2024-01-17T15:58:01</td>\n      <td>2024-01-18T01:50:16</td>\n      <td>4760000.0</td>\n      <td>2.628628e+09</td>\n      <td>8.837871e+10</td>\n      <td>...</td>\n      <td>88.37871</td>\n      <td>12752480.0</td>\n      <td>12752.48</td>\n      <td>12.75248</td>\n      <td>52596560.0</td>\n      <td>52596.560</td>\n      <td>52.596560</td>\n      <td>35535</td>\n      <td>592.250000</td>\n      <td>9.870833</td>\n    </tr>\n    <tr>\n      <th>3</th>\n      <td>48909.batch</td>\n      <td>dpp-local-nc8_gl6-34.cfg</td>\n      <td>gl2_gl4</td>\n      <td>gl6</td>\n      <td>COMPLETED</td>\n      <td>2024-01-17T06:08:31</td>\n      <td>2024-01-17T06:49:57</td>\n      <td>323520.0</td>\n      <td>1.200996e+09</td>\n      <td>5.341970e+09</td>\n      <td>...</td>\n      <td>5.34197</td>\n      <td>804920.0</td>\n      <td>804.92</td>\n      <td>0.80492</td>\n      <td>50582916.0</td>\n      <td>50582.916</td>\n      <td>50.582916</td>\n      <td>2486</td>\n      <td>41.433333</td>\n      <td>0.690556</td>\n    </tr>\n    <tr>\n      <th>5</th>\n      <td>48915.batch</td>\n      <td>dpp-local-nc16_gl6-40.cfg</td>\n      <td>gl2_gl4</td>\n      <td>gl6</td>\n      <td>COMPLETED</td>\n      <td>2024-01-17T07:21:09</td>\n      <td>2024-01-17T07:47:50</td>\n      <td>229280.0</td>\n      <td>2.223508e+09</td>\n      <td>5.342780e+09</td>\n      <td>...</td>\n      <td>5.34278</td>\n      <td>805050.0</td>\n      <td>805.05</td>\n      <td>0.80505</td>\n      <td>98676764.0</td>\n      <td>98676.764</td>\n      <td>98.676764</td>\n      <td>1601</td>\n      <td>26.683333</td>\n      <td>0.444722</td>\n    </tr>\n    <tr>\n      <th>8</th>\n      <td>48933.batch</td>\n      <td>dpp-local-nc16_gl6-35.cfg</td>\n      <td>gl2_gl4</td>\n      <td>gl6</td>\n      <td>COMPLETED</td>\n      <td>2024-01-18T02:21:50</td>\n      <td>2024-01-18T02:48:16</td>\n      <td>230060.0</td>\n      <td>2.207268e+09</td>\n      <td>5.345290e+09</td>\n      <td>...</td>\n      <td>5.34529</td>\n      <td>805130.0</td>\n      <td>805.13</td>\n      <td>0.80513</td>\n      <td>98670388.0</td>\n      <td>98670.388</td>\n      <td>98.670388</td>\n      <td>1586</td>\n      <td>26.433333</td>\n      <td>0.440556</td>\n    </tr>\n    <tr>\n      <th>9</th>\n      <td>48936.batch</td>\n      <td>dpp-local-nc16_gl6-32.cfg</td>\n      <td>gl2_gl4</td>\n      <td>gl6</td>\n      <td>COMPLETED</td>\n      <td>2024-01-18T02:53:18</td>\n      <td>2024-01-18T03:19:57</td>\n      <td>231150.0</td>\n      <td>2.220572e+09</td>\n      <td>5.341970e+09</td>\n      <td>...</td>\n      <td>5.34197</td>\n      <td>804930.0</td>\n      <td>804.93</td>\n      <td>0.80493</td>\n      <td>98728264.0</td>\n      <td>98728.264</td>\n      <td>98.728264</td>\n      <td>1599</td>\n      <td>26.650000</td>\n      <td>0.444167</td>\n    </tr>\n    <tr>\n      <th>4</th>\n      <td>48912.batch</td>\n      <td>dpp-local-nc32_gl6-33.cfg</td>\n      <td>gl2_gl4</td>\n      <td>gl6</td>\n      <td>COMPLETED</td>\n      <td>2024-01-17T06:55:02</td>\n      <td>2024-01-17T07:16:05</td>\n      <td>197420.0</td>\n      <td>3.915788e+09</td>\n      <td>5.342080e+09</td>\n      <td>...</td>\n      <td>5.34208</td>\n      <td>805040.0</td>\n      <td>805.04</td>\n      <td>0.80504</td>\n      <td>193736620.0</td>\n      <td>193736.620</td>\n      <td>193.736620</td>\n      <td>1263</td>\n      <td>21.050000</td>\n      <td>0.350833</td>\n    </tr>\n    <tr>\n      <th>7</th>\n      <td>48930.batch</td>\n      <td>dpp-local-nc32_gl6-37.cfg</td>\n      <td>gl2_gl4</td>\n      <td>gl6</td>\n      <td>COMPLETED</td>\n      <td>2024-01-18T01:55:20</td>\n      <td>2024-01-18T02:16:45</td>\n      <td>200240.0</td>\n      <td>3.919372e+09</td>\n      <td>5.343480e+09</td>\n      <td>...</td>\n      <td>5.34348</td>\n      <td>805050.0</td>\n      <td>805.05</td>\n      <td>0.80505</td>\n      <td>193742904.0</td>\n      <td>193742.904</td>\n      <td>193.742904</td>\n      <td>1285</td>\n      <td>21.416667</td>\n      <td>0.356944</td>\n    </tr>\n  </tbody>\n</table>\n<p>10 rows × 134 columns</p>\n</div>"
     },
     "metadata": {},
     "output_type": "display_data"
    },
    {
     "data": {
      "text/plain": "    JobID                    JobName  Cluster  NodeList    State    Start  \\\n0   48942  dpp-local-nc16_gl6-36.cfg  gl2_gl4  assigned  PENDING  Unknown   \n1   48948  dpp-local-nc16_gl6-33.cfg  gl2_gl4  assigned  PENDING  Unknown   \n2   48951  dpp-local-nc32_gl6-39.cfg  gl2_gl4  assigned  PENDING  Unknown   \n3   48954   daa-local-nc8_gl6-31.cfg  gl2_gl4  assigned  PENDING  Unknown   \n4   48957  daa-local-nc16_gl6-34.cfg  gl2_gl4  assigned  PENDING  Unknown   \n..    ...                        ...      ...       ...      ...      ...   \n63  49176   daa-local-nc8_gl6-33.cfg  gl2_gl4  assigned  PENDING  Unknown   \n64  49179   daa-local-nc4_gl6-31.cfg  gl2_gl4  assigned  PENDING  Unknown   \n65  49185  daa-local-nc16_gl6-32.cfg  gl2_gl4  assigned  PENDING  Unknown   \n66  49188   daa-local-nc4_gl6-37.cfg  gl2_gl4  assigned  PENDING  Unknown   \n67  49194   daa-local-nc8_gl6-36.cfg  gl2_gl4  assigned  PENDING  Unknown   \n\n        End ConsumedEnergy AveRSS AveDiskRead  ... WCKey WCKeyID  \\\n0   Unknown              0    NaN         NaN  ...   NaN     0.0   \n1   Unknown              0    NaN         NaN  ...   NaN     0.0   \n2   Unknown              0    NaN         NaN  ...   NaN     0.0   \n3   Unknown              0    NaN         NaN  ...   NaN     0.0   \n4   Unknown              0    NaN         NaN  ...   NaN     0.0   \n..      ...            ...    ...         ...  ...   ...     ...   \n63  Unknown              0    NaN         NaN  ...   NaN     0.0   \n64  Unknown              0    NaN         NaN  ...   NaN     0.0   \n65  Unknown              0    NaN         NaN  ...   NaN     0.0   \n66  Unknown              0    NaN         NaN  ...   NaN     0.0   \n67  Unknown              0    NaN         NaN  ...   NaN     0.0   \n\n                                       WorkDir               Submit  \\\n0   /mnt/nfs_share/greenBeansHaddock/exp-local  2024-01-15T15:12:57   \n1   /mnt/nfs_share/greenBeansHaddock/exp-local  2024-01-15T15:12:57   \n2   /mnt/nfs_share/greenBeansHaddock/exp-local  2024-01-15T15:12:57   \n3   /mnt/nfs_share/greenBeansHaddock/exp-local  2024-01-15T15:12:57   \n4   /mnt/nfs_share/greenBeansHaddock/exp-local  2024-01-15T15:12:57   \n..                                         ...                  ...   \n63  /mnt/nfs_share/greenBeansHaddock/exp-local  2024-01-15T15:13:00   \n64  /mnt/nfs_share/greenBeansHaddock/exp-local  2024-01-15T15:13:00   \n65  /mnt/nfs_share/greenBeansHaddock/exp-local  2024-01-15T15:13:00   \n66  /mnt/nfs_share/greenBeansHaddock/exp-local  2024-01-15T15:13:00   \n67  /mnt/nfs_share/greenBeansHaddock/exp-local  2024-01-15T15:13:00   \n\n                                           SubmitLine Workflow   mode  ncores  \\\n0   run.dpp-local-nc16_gl6-36.cfg.info/haddock.out...      dpp  local      16   \n1   run.dpp-local-nc16_gl6-33.cfg.info/haddock.out...      dpp  local      16   \n2   run.dpp-local-nc32_gl6-39.cfg.info/haddock.out...      dpp  local      32   \n3   > run.daa-local-nc8_gl6-31.cfg.info/haddock.ou...      daa  local       8   \n4   run.daa-local-nc16_gl6-34.cfg.info/haddock.out...      daa  local      16   \n..                                                ...      ...    ...     ...   \n63  > run.daa-local-nc8_gl6-33.cfg.info/haddock.ou...      daa  local       8   \n64  > run.daa-local-nc4_gl6-31.cfg.info/haddock.ou...      daa  local       4   \n65  run.daa-local-nc16_gl6-32.cfg.info/haddock.out...      daa  local      16   \n66  > run.daa-local-nc4_gl6-37.cfg.info/haddock.ou...      daa  local       4   \n67  > run.daa-local-nc8_gl6-36.cfg.info/haddock.ou...      daa  local       8   \n\n    node  trial  \n0    gl6     36  \n1    gl6     33  \n2    gl6     39  \n3    gl6     31  \n4    gl6     34  \n..   ...    ...  \n63   gl6     33  \n64   gl6     31  \n65   gl6     32  \n66   gl6     37  \n67   gl6     36  \n\n[68 rows x 116 columns]",
      "text/html": "<div>\n<style scoped>\n    .dataframe tbody tr th:only-of-type {\n        vertical-align: middle;\n    }\n\n    .dataframe tbody tr th {\n        vertical-align: top;\n    }\n\n    .dataframe thead th {\n        text-align: right;\n    }\n</style>\n<table border=\"1\" class=\"dataframe\">\n  <thead>\n    <tr style=\"text-align: right;\">\n      <th></th>\n      <th>JobID</th>\n      <th>JobName</th>\n      <th>Cluster</th>\n      <th>NodeList</th>\n      <th>State</th>\n      <th>Start</th>\n      <th>End</th>\n      <th>ConsumedEnergy</th>\n      <th>AveRSS</th>\n      <th>AveDiskRead</th>\n      <th>...</th>\n      <th>WCKey</th>\n      <th>WCKeyID</th>\n      <th>WorkDir</th>\n      <th>Submit</th>\n      <th>SubmitLine</th>\n      <th>Workflow</th>\n      <th>mode</th>\n      <th>ncores</th>\n      <th>node</th>\n      <th>trial</th>\n    </tr>\n  </thead>\n  <tbody>\n    <tr>\n      <th>0</th>\n      <td>48942</td>\n      <td>dpp-local-nc16_gl6-36.cfg</td>\n      <td>gl2_gl4</td>\n      <td>assigned</td>\n      <td>PENDING</td>\n      <td>Unknown</td>\n      <td>Unknown</td>\n      <td>0</td>\n      <td>NaN</td>\n      <td>NaN</td>\n      <td>...</td>\n      <td>NaN</td>\n      <td>0.0</td>\n      <td>/mnt/nfs_share/greenBeansHaddock/exp-local</td>\n      <td>2024-01-15T15:12:57</td>\n      <td>run.dpp-local-nc16_gl6-36.cfg.info/haddock.out...</td>\n      <td>dpp</td>\n      <td>local</td>\n      <td>16</td>\n      <td>gl6</td>\n      <td>36</td>\n    </tr>\n    <tr>\n      <th>1</th>\n      <td>48948</td>\n      <td>dpp-local-nc16_gl6-33.cfg</td>\n      <td>gl2_gl4</td>\n      <td>assigned</td>\n      <td>PENDING</td>\n      <td>Unknown</td>\n      <td>Unknown</td>\n      <td>0</td>\n      <td>NaN</td>\n      <td>NaN</td>\n      <td>...</td>\n      <td>NaN</td>\n      <td>0.0</td>\n      <td>/mnt/nfs_share/greenBeansHaddock/exp-local</td>\n      <td>2024-01-15T15:12:57</td>\n      <td>run.dpp-local-nc16_gl6-33.cfg.info/haddock.out...</td>\n      <td>dpp</td>\n      <td>local</td>\n      <td>16</td>\n      <td>gl6</td>\n      <td>33</td>\n    </tr>\n    <tr>\n      <th>2</th>\n      <td>48951</td>\n      <td>dpp-local-nc32_gl6-39.cfg</td>\n      <td>gl2_gl4</td>\n      <td>assigned</td>\n      <td>PENDING</td>\n      <td>Unknown</td>\n      <td>Unknown</td>\n      <td>0</td>\n      <td>NaN</td>\n      <td>NaN</td>\n      <td>...</td>\n      <td>NaN</td>\n      <td>0.0</td>\n      <td>/mnt/nfs_share/greenBeansHaddock/exp-local</td>\n      <td>2024-01-15T15:12:57</td>\n      <td>run.dpp-local-nc32_gl6-39.cfg.info/haddock.out...</td>\n      <td>dpp</td>\n      <td>local</td>\n      <td>32</td>\n      <td>gl6</td>\n      <td>39</td>\n    </tr>\n    <tr>\n      <th>3</th>\n      <td>48954</td>\n      <td>daa-local-nc8_gl6-31.cfg</td>\n      <td>gl2_gl4</td>\n      <td>assigned</td>\n      <td>PENDING</td>\n      <td>Unknown</td>\n      <td>Unknown</td>\n      <td>0</td>\n      <td>NaN</td>\n      <td>NaN</td>\n      <td>...</td>\n      <td>NaN</td>\n      <td>0.0</td>\n      <td>/mnt/nfs_share/greenBeansHaddock/exp-local</td>\n      <td>2024-01-15T15:12:57</td>\n      <td>&gt; run.daa-local-nc8_gl6-31.cfg.info/haddock.ou...</td>\n      <td>daa</td>\n      <td>local</td>\n      <td>8</td>\n      <td>gl6</td>\n      <td>31</td>\n    </tr>\n    <tr>\n      <th>4</th>\n      <td>48957</td>\n      <td>daa-local-nc16_gl6-34.cfg</td>\n      <td>gl2_gl4</td>\n      <td>assigned</td>\n      <td>PENDING</td>\n      <td>Unknown</td>\n      <td>Unknown</td>\n      <td>0</td>\n      <td>NaN</td>\n      <td>NaN</td>\n      <td>...</td>\n      <td>NaN</td>\n      <td>0.0</td>\n      <td>/mnt/nfs_share/greenBeansHaddock/exp-local</td>\n      <td>2024-01-15T15:12:57</td>\n      <td>run.daa-local-nc16_gl6-34.cfg.info/haddock.out...</td>\n      <td>daa</td>\n      <td>local</td>\n      <td>16</td>\n      <td>gl6</td>\n      <td>34</td>\n    </tr>\n    <tr>\n      <th>...</th>\n      <td>...</td>\n      <td>...</td>\n      <td>...</td>\n      <td>...</td>\n      <td>...</td>\n      <td>...</td>\n      <td>...</td>\n      <td>...</td>\n      <td>...</td>\n      <td>...</td>\n      <td>...</td>\n      <td>...</td>\n      <td>...</td>\n      <td>...</td>\n      <td>...</td>\n      <td>...</td>\n      <td>...</td>\n      <td>...</td>\n      <td>...</td>\n      <td>...</td>\n      <td>...</td>\n    </tr>\n    <tr>\n      <th>63</th>\n      <td>49176</td>\n      <td>daa-local-nc8_gl6-33.cfg</td>\n      <td>gl2_gl4</td>\n      <td>assigned</td>\n      <td>PENDING</td>\n      <td>Unknown</td>\n      <td>Unknown</td>\n      <td>0</td>\n      <td>NaN</td>\n      <td>NaN</td>\n      <td>...</td>\n      <td>NaN</td>\n      <td>0.0</td>\n      <td>/mnt/nfs_share/greenBeansHaddock/exp-local</td>\n      <td>2024-01-15T15:13:00</td>\n      <td>&gt; run.daa-local-nc8_gl6-33.cfg.info/haddock.ou...</td>\n      <td>daa</td>\n      <td>local</td>\n      <td>8</td>\n      <td>gl6</td>\n      <td>33</td>\n    </tr>\n    <tr>\n      <th>64</th>\n      <td>49179</td>\n      <td>daa-local-nc4_gl6-31.cfg</td>\n      <td>gl2_gl4</td>\n      <td>assigned</td>\n      <td>PENDING</td>\n      <td>Unknown</td>\n      <td>Unknown</td>\n      <td>0</td>\n      <td>NaN</td>\n      <td>NaN</td>\n      <td>...</td>\n      <td>NaN</td>\n      <td>0.0</td>\n      <td>/mnt/nfs_share/greenBeansHaddock/exp-local</td>\n      <td>2024-01-15T15:13:00</td>\n      <td>&gt; run.daa-local-nc4_gl6-31.cfg.info/haddock.ou...</td>\n      <td>daa</td>\n      <td>local</td>\n      <td>4</td>\n      <td>gl6</td>\n      <td>31</td>\n    </tr>\n    <tr>\n      <th>65</th>\n      <td>49185</td>\n      <td>daa-local-nc16_gl6-32.cfg</td>\n      <td>gl2_gl4</td>\n      <td>assigned</td>\n      <td>PENDING</td>\n      <td>Unknown</td>\n      <td>Unknown</td>\n      <td>0</td>\n      <td>NaN</td>\n      <td>NaN</td>\n      <td>...</td>\n      <td>NaN</td>\n      <td>0.0</td>\n      <td>/mnt/nfs_share/greenBeansHaddock/exp-local</td>\n      <td>2024-01-15T15:13:00</td>\n      <td>run.daa-local-nc16_gl6-32.cfg.info/haddock.out...</td>\n      <td>daa</td>\n      <td>local</td>\n      <td>16</td>\n      <td>gl6</td>\n      <td>32</td>\n    </tr>\n    <tr>\n      <th>66</th>\n      <td>49188</td>\n      <td>daa-local-nc4_gl6-37.cfg</td>\n      <td>gl2_gl4</td>\n      <td>assigned</td>\n      <td>PENDING</td>\n      <td>Unknown</td>\n      <td>Unknown</td>\n      <td>0</td>\n      <td>NaN</td>\n      <td>NaN</td>\n      <td>...</td>\n      <td>NaN</td>\n      <td>0.0</td>\n      <td>/mnt/nfs_share/greenBeansHaddock/exp-local</td>\n      <td>2024-01-15T15:13:00</td>\n      <td>&gt; run.daa-local-nc4_gl6-37.cfg.info/haddock.ou...</td>\n      <td>daa</td>\n      <td>local</td>\n      <td>4</td>\n      <td>gl6</td>\n      <td>37</td>\n    </tr>\n    <tr>\n      <th>67</th>\n      <td>49194</td>\n      <td>daa-local-nc8_gl6-36.cfg</td>\n      <td>gl2_gl4</td>\n      <td>assigned</td>\n      <td>PENDING</td>\n      <td>Unknown</td>\n      <td>Unknown</td>\n      <td>0</td>\n      <td>NaN</td>\n      <td>NaN</td>\n      <td>...</td>\n      <td>NaN</td>\n      <td>0.0</td>\n      <td>/mnt/nfs_share/greenBeansHaddock/exp-local</td>\n      <td>2024-01-15T15:13:00</td>\n      <td>&gt; run.daa-local-nc8_gl6-36.cfg.info/haddock.ou...</td>\n      <td>daa</td>\n      <td>local</td>\n      <td>8</td>\n      <td>gl6</td>\n      <td>36</td>\n    </tr>\n  </tbody>\n</table>\n<p>68 rows × 116 columns</p>\n</div>"
     },
     "metadata": {},
     "output_type": "display_data"
    },
    {
     "data": {
      "text/plain": "          JobID                    JobName  Cluster  NodeList      State  \\\n0   48897.batch   dpp-local-nc4_gl6-35.cfg  gl2_gl4       gl6  COMPLETED   \n1   48900.batch   daa-local-nc4_gl6-33.cfg  gl2_gl4       gl6  COMPLETED   \n2   48903.batch   daa-local-nc4_gl6-32.cfg  gl2_gl4       gl6  COMPLETED   \n3   48909.batch   dpp-local-nc8_gl6-34.cfg  gl2_gl4       gl6  COMPLETED   \n4   48912.batch  dpp-local-nc32_gl6-33.cfg  gl2_gl4       gl6  COMPLETED   \n..          ...                        ...      ...       ...        ...   \n73        49176   daa-local-nc8_gl6-33.cfg  gl2_gl4  assigned    PENDING   \n74        49179   daa-local-nc4_gl6-31.cfg  gl2_gl4  assigned    PENDING   \n75        49185  daa-local-nc16_gl6-32.cfg  gl2_gl4  assigned    PENDING   \n76        49188   daa-local-nc4_gl6-37.cfg  gl2_gl4  assigned    PENDING   \n77        49194   daa-local-nc8_gl6-36.cfg  gl2_gl4  assigned    PENDING   \n\n                  Start                  End ConsumedEnergy    AveRSS  \\\n0   2024-01-15T15:44:01  2024-01-15T16:56:50        516.68K   701608K   \n1   2024-01-15T17:01:54  2024-01-16T10:17:38          7.59M  1483588K   \n2   2024-01-16T10:22:42  2024-01-17T03:40:48          7.58M  1460128K   \n3   2024-01-17T06:08:31  2024-01-17T06:49:57        323.52K  1200996K   \n4   2024-01-17T06:55:02  2024-01-17T07:16:05        197.42K  3915788K   \n..                  ...                  ...            ...       ...   \n73              Unknown              Unknown              0       NaN   \n74              Unknown              Unknown              0       NaN   \n75              Unknown              Unknown              0       NaN   \n76              Unknown              Unknown              0       NaN   \n77              Unknown              Unknown              0       NaN   \n\n   AveDiskRead  ... WCKey WCKeyID                                     WorkDir  \\\n0     5343.47M  ...   NaN     NaN                                         NaN   \n1    88356.71M  ...   NaN     NaN                                         NaN   \n2    88378.71M  ...   NaN     NaN                                         NaN   \n3     5341.97M  ...   NaN     NaN                                         NaN   \n4     5342.08M  ...   NaN     NaN                                         NaN   \n..         ...  ...   ...     ...                                         ...   \n73         NaN  ...   NaN     0.0  /mnt/nfs_share/greenBeansHaddock/exp-local   \n74         NaN  ...   NaN     0.0  /mnt/nfs_share/greenBeansHaddock/exp-local   \n75         NaN  ...   NaN     0.0  /mnt/nfs_share/greenBeansHaddock/exp-local   \n76         NaN  ...   NaN     0.0  /mnt/nfs_share/greenBeansHaddock/exp-local   \n77         NaN  ...   NaN     0.0  /mnt/nfs_share/greenBeansHaddock/exp-local   \n\n                 Submit                                         SubmitLine  \\\n0   2024-01-15T15:44:01                                                NaN   \n1   2024-01-15T17:01:54                                                NaN   \n2   2024-01-16T10:22:42                                                NaN   \n3   2024-01-17T06:08:31                                                NaN   \n4   2024-01-17T06:55:02                                                NaN   \n..                  ...                                                ...   \n73  2024-01-15T15:13:00  > run.daa-local-nc8_gl6-33.cfg.info/haddock.ou...   \n74  2024-01-15T15:13:00  > run.daa-local-nc4_gl6-31.cfg.info/haddock.ou...   \n75  2024-01-15T15:13:00  run.daa-local-nc16_gl6-32.cfg.info/haddock.out...   \n76  2024-01-15T15:13:00  > run.daa-local-nc4_gl6-37.cfg.info/haddock.ou...   \n77  2024-01-15T15:13:00  > run.daa-local-nc8_gl6-36.cfg.info/haddock.ou...   \n\n   Workflow   mode  ncores  node  trial  \n0       dpp  local       4   gl6     35  \n1       daa  local       4   gl6     33  \n2       daa  local       4   gl6     32  \n3       dpp  local       8   gl6     34  \n4       dpp  local      32   gl6     33  \n..      ...    ...     ...   ...    ...  \n73      daa  local       8   gl6     33  \n74      daa  local       4   gl6     31  \n75      daa  local      16   gl6     32  \n76      daa  local       4   gl6     37  \n77      daa  local       8   gl6     36  \n\n[78 rows x 116 columns]",
      "text/html": "<div>\n<style scoped>\n    .dataframe tbody tr th:only-of-type {\n        vertical-align: middle;\n    }\n\n    .dataframe tbody tr th {\n        vertical-align: top;\n    }\n\n    .dataframe thead th {\n        text-align: right;\n    }\n</style>\n<table border=\"1\" class=\"dataframe\">\n  <thead>\n    <tr style=\"text-align: right;\">\n      <th></th>\n      <th>JobID</th>\n      <th>JobName</th>\n      <th>Cluster</th>\n      <th>NodeList</th>\n      <th>State</th>\n      <th>Start</th>\n      <th>End</th>\n      <th>ConsumedEnergy</th>\n      <th>AveRSS</th>\n      <th>AveDiskRead</th>\n      <th>...</th>\n      <th>WCKey</th>\n      <th>WCKeyID</th>\n      <th>WorkDir</th>\n      <th>Submit</th>\n      <th>SubmitLine</th>\n      <th>Workflow</th>\n      <th>mode</th>\n      <th>ncores</th>\n      <th>node</th>\n      <th>trial</th>\n    </tr>\n  </thead>\n  <tbody>\n    <tr>\n      <th>0</th>\n      <td>48897.batch</td>\n      <td>dpp-local-nc4_gl6-35.cfg</td>\n      <td>gl2_gl4</td>\n      <td>gl6</td>\n      <td>COMPLETED</td>\n      <td>2024-01-15T15:44:01</td>\n      <td>2024-01-15T16:56:50</td>\n      <td>516.68K</td>\n      <td>701608K</td>\n      <td>5343.47M</td>\n      <td>...</td>\n      <td>NaN</td>\n      <td>NaN</td>\n      <td>NaN</td>\n      <td>2024-01-15T15:44:01</td>\n      <td>NaN</td>\n      <td>dpp</td>\n      <td>local</td>\n      <td>4</td>\n      <td>gl6</td>\n      <td>35</td>\n    </tr>\n    <tr>\n      <th>1</th>\n      <td>48900.batch</td>\n      <td>daa-local-nc4_gl6-33.cfg</td>\n      <td>gl2_gl4</td>\n      <td>gl6</td>\n      <td>COMPLETED</td>\n      <td>2024-01-15T17:01:54</td>\n      <td>2024-01-16T10:17:38</td>\n      <td>7.59M</td>\n      <td>1483588K</td>\n      <td>88356.71M</td>\n      <td>...</td>\n      <td>NaN</td>\n      <td>NaN</td>\n      <td>NaN</td>\n      <td>2024-01-15T17:01:54</td>\n      <td>NaN</td>\n      <td>daa</td>\n      <td>local</td>\n      <td>4</td>\n      <td>gl6</td>\n      <td>33</td>\n    </tr>\n    <tr>\n      <th>2</th>\n      <td>48903.batch</td>\n      <td>daa-local-nc4_gl6-32.cfg</td>\n      <td>gl2_gl4</td>\n      <td>gl6</td>\n      <td>COMPLETED</td>\n      <td>2024-01-16T10:22:42</td>\n      <td>2024-01-17T03:40:48</td>\n      <td>7.58M</td>\n      <td>1460128K</td>\n      <td>88378.71M</td>\n      <td>...</td>\n      <td>NaN</td>\n      <td>NaN</td>\n      <td>NaN</td>\n      <td>2024-01-16T10:22:42</td>\n      <td>NaN</td>\n      <td>daa</td>\n      <td>local</td>\n      <td>4</td>\n      <td>gl6</td>\n      <td>32</td>\n    </tr>\n    <tr>\n      <th>3</th>\n      <td>48909.batch</td>\n      <td>dpp-local-nc8_gl6-34.cfg</td>\n      <td>gl2_gl4</td>\n      <td>gl6</td>\n      <td>COMPLETED</td>\n      <td>2024-01-17T06:08:31</td>\n      <td>2024-01-17T06:49:57</td>\n      <td>323.52K</td>\n      <td>1200996K</td>\n      <td>5341.97M</td>\n      <td>...</td>\n      <td>NaN</td>\n      <td>NaN</td>\n      <td>NaN</td>\n      <td>2024-01-17T06:08:31</td>\n      <td>NaN</td>\n      <td>dpp</td>\n      <td>local</td>\n      <td>8</td>\n      <td>gl6</td>\n      <td>34</td>\n    </tr>\n    <tr>\n      <th>4</th>\n      <td>48912.batch</td>\n      <td>dpp-local-nc32_gl6-33.cfg</td>\n      <td>gl2_gl4</td>\n      <td>gl6</td>\n      <td>COMPLETED</td>\n      <td>2024-01-17T06:55:02</td>\n      <td>2024-01-17T07:16:05</td>\n      <td>197.42K</td>\n      <td>3915788K</td>\n      <td>5342.08M</td>\n      <td>...</td>\n      <td>NaN</td>\n      <td>NaN</td>\n      <td>NaN</td>\n      <td>2024-01-17T06:55:02</td>\n      <td>NaN</td>\n      <td>dpp</td>\n      <td>local</td>\n      <td>32</td>\n      <td>gl6</td>\n      <td>33</td>\n    </tr>\n    <tr>\n      <th>...</th>\n      <td>...</td>\n      <td>...</td>\n      <td>...</td>\n      <td>...</td>\n      <td>...</td>\n      <td>...</td>\n      <td>...</td>\n      <td>...</td>\n      <td>...</td>\n      <td>...</td>\n      <td>...</td>\n      <td>...</td>\n      <td>...</td>\n      <td>...</td>\n      <td>...</td>\n      <td>...</td>\n      <td>...</td>\n      <td>...</td>\n      <td>...</td>\n      <td>...</td>\n      <td>...</td>\n    </tr>\n    <tr>\n      <th>73</th>\n      <td>49176</td>\n      <td>daa-local-nc8_gl6-33.cfg</td>\n      <td>gl2_gl4</td>\n      <td>assigned</td>\n      <td>PENDING</td>\n      <td>Unknown</td>\n      <td>Unknown</td>\n      <td>0</td>\n      <td>NaN</td>\n      <td>NaN</td>\n      <td>...</td>\n      <td>NaN</td>\n      <td>0.0</td>\n      <td>/mnt/nfs_share/greenBeansHaddock/exp-local</td>\n      <td>2024-01-15T15:13:00</td>\n      <td>&gt; run.daa-local-nc8_gl6-33.cfg.info/haddock.ou...</td>\n      <td>daa</td>\n      <td>local</td>\n      <td>8</td>\n      <td>gl6</td>\n      <td>33</td>\n    </tr>\n    <tr>\n      <th>74</th>\n      <td>49179</td>\n      <td>daa-local-nc4_gl6-31.cfg</td>\n      <td>gl2_gl4</td>\n      <td>assigned</td>\n      <td>PENDING</td>\n      <td>Unknown</td>\n      <td>Unknown</td>\n      <td>0</td>\n      <td>NaN</td>\n      <td>NaN</td>\n      <td>...</td>\n      <td>NaN</td>\n      <td>0.0</td>\n      <td>/mnt/nfs_share/greenBeansHaddock/exp-local</td>\n      <td>2024-01-15T15:13:00</td>\n      <td>&gt; run.daa-local-nc4_gl6-31.cfg.info/haddock.ou...</td>\n      <td>daa</td>\n      <td>local</td>\n      <td>4</td>\n      <td>gl6</td>\n      <td>31</td>\n    </tr>\n    <tr>\n      <th>75</th>\n      <td>49185</td>\n      <td>daa-local-nc16_gl6-32.cfg</td>\n      <td>gl2_gl4</td>\n      <td>assigned</td>\n      <td>PENDING</td>\n      <td>Unknown</td>\n      <td>Unknown</td>\n      <td>0</td>\n      <td>NaN</td>\n      <td>NaN</td>\n      <td>...</td>\n      <td>NaN</td>\n      <td>0.0</td>\n      <td>/mnt/nfs_share/greenBeansHaddock/exp-local</td>\n      <td>2024-01-15T15:13:00</td>\n      <td>run.daa-local-nc16_gl6-32.cfg.info/haddock.out...</td>\n      <td>daa</td>\n      <td>local</td>\n      <td>16</td>\n      <td>gl6</td>\n      <td>32</td>\n    </tr>\n    <tr>\n      <th>76</th>\n      <td>49188</td>\n      <td>daa-local-nc4_gl6-37.cfg</td>\n      <td>gl2_gl4</td>\n      <td>assigned</td>\n      <td>PENDING</td>\n      <td>Unknown</td>\n      <td>Unknown</td>\n      <td>0</td>\n      <td>NaN</td>\n      <td>NaN</td>\n      <td>...</td>\n      <td>NaN</td>\n      <td>0.0</td>\n      <td>/mnt/nfs_share/greenBeansHaddock/exp-local</td>\n      <td>2024-01-15T15:13:00</td>\n      <td>&gt; run.daa-local-nc4_gl6-37.cfg.info/haddock.ou...</td>\n      <td>daa</td>\n      <td>local</td>\n      <td>4</td>\n      <td>gl6</td>\n      <td>37</td>\n    </tr>\n    <tr>\n      <th>77</th>\n      <td>49194</td>\n      <td>daa-local-nc8_gl6-36.cfg</td>\n      <td>gl2_gl4</td>\n      <td>assigned</td>\n      <td>PENDING</td>\n      <td>Unknown</td>\n      <td>Unknown</td>\n      <td>0</td>\n      <td>NaN</td>\n      <td>NaN</td>\n      <td>...</td>\n      <td>NaN</td>\n      <td>0.0</td>\n      <td>/mnt/nfs_share/greenBeansHaddock/exp-local</td>\n      <td>2024-01-15T15:13:00</td>\n      <td>&gt; run.daa-local-nc8_gl6-36.cfg.info/haddock.ou...</td>\n      <td>daa</td>\n      <td>local</td>\n      <td>8</td>\n      <td>gl6</td>\n      <td>36</td>\n    </tr>\n  </tbody>\n</table>\n<p>78 rows × 116 columns</p>\n</div>"
     },
     "metadata": {},
     "output_type": "display_data"
    }
   ],
   "source": [
    "data = data.loc[:, ~data.columns.str.contains('Unnamed')]\n",
    "\n",
    "data_completed = filter_out_completed_jobs(data)\n",
    "data_completed = data_completed[~data_completed.JobName.str.contains(\"nc2\")].reset_index(drop=True)\n",
    "\n",
    "data_pending = data[data.State == \"PENDING\"]\n",
    "data_pending = data_pending[~data_pending.JobName.str.contains(\"nc2\")].reset_index(drop=True)\n",
    "\n",
    "data = pd.concat([data_completed, data_pending], axis=0, ignore_index=True)\n",
    "data = data[~data.JobName.str.contains(\"nc2\")].reset_index(drop=True)\n",
    "\n",
    "# data = data[~data.JobName.str.contains(\"nc2\")].reset_index(drop=True)\n",
    "data = extract_params_from_local_file_name(data)\n",
    "data_completed = extract_params_from_local_file_name(data_completed)\n",
    "data_pending = extract_params_from_local_file_name(data_pending)\n",
    "\n",
    "data_completed = append_job_data_columns(data_completed)\n",
    "data_completed = data_completed.sort_values(by=['ncores', 'Workflow'])\n",
    "\n",
    "display(data_completed, data_pending, data)"
   ],
   "metadata": {
    "collapsed": false,
    "ExecuteTime": {
     "end_time": "2024-01-18T11:15:15.924174100Z",
     "start_time": "2024-01-18T11:15:15.807611500Z"
    }
   }
  },
  {
   "cell_type": "code",
   "execution_count": 46,
   "outputs": [
    {
     "name": "stdout",
     "output_type": "stream",
     "text": [
      "04:18:38\n",
      "2-14:59:09\n",
      "2-14:56:00\n",
      "04:42:16\n",
      "07:57:59\n",
      "05:33:07\n",
      "2-22:30:48\n",
      "07:55:31\n",
      "05:32:44\n",
      "05:32:56\n",
      "01:12:49\n",
      "17:15:44\n",
      "17:18:06\n",
      "00:41:26\n",
      "00:21:03\n",
      "00:26:41\n",
      "09:52:15\n",
      "00:21:25\n",
      "00:26:26\n",
      "00:26:39\n"
     ]
    },
    {
     "data": {
      "text/plain": "         JobID                    JobName  Cluster NodeList      State  \\\n0  48897.batch   dpp-local-nc4_gl6-35.cfg  gl2_gl4      gl6  COMPLETED   \n1  48900.batch   daa-local-nc4_gl6-33.cfg  gl2_gl4      gl6  COMPLETED   \n2  48903.batch   daa-local-nc4_gl6-32.cfg  gl2_gl4      gl6  COMPLETED   \n3  48909.batch   dpp-local-nc8_gl6-34.cfg  gl2_gl4      gl6  COMPLETED   \n4  48912.batch  dpp-local-nc32_gl6-33.cfg  gl2_gl4      gl6  COMPLETED   \n5  48915.batch  dpp-local-nc16_gl6-40.cfg  gl2_gl4      gl6  COMPLETED   \n6  48927.batch   daa-local-nc8_gl6-32.cfg  gl2_gl4      gl6  COMPLETED   \n7  48930.batch  dpp-local-nc32_gl6-37.cfg  gl2_gl4      gl6  COMPLETED   \n8  48933.batch  dpp-local-nc16_gl6-35.cfg  gl2_gl4      gl6  COMPLETED   \n9  48936.batch  dpp-local-nc16_gl6-32.cfg  gl2_gl4      gl6  COMPLETED   \n\n                 Start                  End ConsumedEnergy    AveRSS  \\\n0  2024-01-15T15:44:01  2024-01-15T16:56:50        516.68K   701608K   \n1  2024-01-15T17:01:54  2024-01-16T10:17:38          7.59M  1483588K   \n2  2024-01-16T10:22:42  2024-01-17T03:40:48          7.58M  1460128K   \n3  2024-01-17T06:08:31  2024-01-17T06:49:57        323.52K  1200996K   \n4  2024-01-17T06:55:02  2024-01-17T07:16:05        197.42K  3915788K   \n5  2024-01-17T07:21:09  2024-01-17T07:47:50        229.28K  2223508K   \n6  2024-01-17T15:58:01  2024-01-18T01:50:16          4.76M  2628628K   \n7  2024-01-18T01:55:20  2024-01-18T02:16:45        200.24K  3919372K   \n8  2024-01-18T02:21:50  2024-01-18T02:48:16        230.06K  2207268K   \n9  2024-01-18T02:53:18  2024-01-18T03:19:57        231.15K  2220572K   \n\n  AveDiskRead  ...               Submit SubmitLine Workflow   mode ncores  \\\n0    5343.47M  ...  2024-01-15T15:44:01        NaN      dpp  local      4   \n1   88356.71M  ...  2024-01-15T17:01:54        NaN      daa  local      4   \n2   88378.71M  ...  2024-01-16T10:22:42        NaN      daa  local      4   \n3    5341.97M  ...  2024-01-17T06:08:31        NaN      dpp  local      8   \n4    5342.08M  ...  2024-01-17T06:55:02        NaN      dpp  local     32   \n5    5342.78M  ...  2024-01-17T07:21:09        NaN      dpp  local     16   \n6   88378.71M  ...  2024-01-17T15:58:01        NaN      daa  local      8   \n7    5343.48M  ...  2024-01-18T01:55:20        NaN      dpp  local     32   \n8    5345.29M  ...  2024-01-18T02:21:50        NaN      dpp  local     16   \n9    5341.97M  ...  2024-01-18T02:53:18        NaN      dpp  local     16   \n\n  node  trial  n_ave_cpu  n_elapsed  cpu_utilization  \n0  gl6     35      15518       4369         3.551843  \n1  gl6     33     226749      62144         3.648767  \n2  gl6     32     226560      62286         3.637415  \n3  gl6     34      16936       2486         6.812550  \n4  gl6     33      28679       1263        22.707047  \n5  gl6     40      19987       1601        12.484072  \n6  gl6     32     253848      35535         7.143605  \n7  gl6     37      28531       1285        22.203113  \n8  gl6     35      19964       1586        12.587642  \n9  gl6     32      19976       1599        12.492808  \n\n[10 rows x 119 columns]",
      "text/html": "<div>\n<style scoped>\n    .dataframe tbody tr th:only-of-type {\n        vertical-align: middle;\n    }\n\n    .dataframe tbody tr th {\n        vertical-align: top;\n    }\n\n    .dataframe thead th {\n        text-align: right;\n    }\n</style>\n<table border=\"1\" class=\"dataframe\">\n  <thead>\n    <tr style=\"text-align: right;\">\n      <th></th>\n      <th>JobID</th>\n      <th>JobName</th>\n      <th>Cluster</th>\n      <th>NodeList</th>\n      <th>State</th>\n      <th>Start</th>\n      <th>End</th>\n      <th>ConsumedEnergy</th>\n      <th>AveRSS</th>\n      <th>AveDiskRead</th>\n      <th>...</th>\n      <th>Submit</th>\n      <th>SubmitLine</th>\n      <th>Workflow</th>\n      <th>mode</th>\n      <th>ncores</th>\n      <th>node</th>\n      <th>trial</th>\n      <th>n_ave_cpu</th>\n      <th>n_elapsed</th>\n      <th>cpu_utilization</th>\n    </tr>\n  </thead>\n  <tbody>\n    <tr>\n      <th>0</th>\n      <td>48897.batch</td>\n      <td>dpp-local-nc4_gl6-35.cfg</td>\n      <td>gl2_gl4</td>\n      <td>gl6</td>\n      <td>COMPLETED</td>\n      <td>2024-01-15T15:44:01</td>\n      <td>2024-01-15T16:56:50</td>\n      <td>516.68K</td>\n      <td>701608K</td>\n      <td>5343.47M</td>\n      <td>...</td>\n      <td>2024-01-15T15:44:01</td>\n      <td>NaN</td>\n      <td>dpp</td>\n      <td>local</td>\n      <td>4</td>\n      <td>gl6</td>\n      <td>35</td>\n      <td>15518</td>\n      <td>4369</td>\n      <td>3.551843</td>\n    </tr>\n    <tr>\n      <th>1</th>\n      <td>48900.batch</td>\n      <td>daa-local-nc4_gl6-33.cfg</td>\n      <td>gl2_gl4</td>\n      <td>gl6</td>\n      <td>COMPLETED</td>\n      <td>2024-01-15T17:01:54</td>\n      <td>2024-01-16T10:17:38</td>\n      <td>7.59M</td>\n      <td>1483588K</td>\n      <td>88356.71M</td>\n      <td>...</td>\n      <td>2024-01-15T17:01:54</td>\n      <td>NaN</td>\n      <td>daa</td>\n      <td>local</td>\n      <td>4</td>\n      <td>gl6</td>\n      <td>33</td>\n      <td>226749</td>\n      <td>62144</td>\n      <td>3.648767</td>\n    </tr>\n    <tr>\n      <th>2</th>\n      <td>48903.batch</td>\n      <td>daa-local-nc4_gl6-32.cfg</td>\n      <td>gl2_gl4</td>\n      <td>gl6</td>\n      <td>COMPLETED</td>\n      <td>2024-01-16T10:22:42</td>\n      <td>2024-01-17T03:40:48</td>\n      <td>7.58M</td>\n      <td>1460128K</td>\n      <td>88378.71M</td>\n      <td>...</td>\n      <td>2024-01-16T10:22:42</td>\n      <td>NaN</td>\n      <td>daa</td>\n      <td>local</td>\n      <td>4</td>\n      <td>gl6</td>\n      <td>32</td>\n      <td>226560</td>\n      <td>62286</td>\n      <td>3.637415</td>\n    </tr>\n    <tr>\n      <th>3</th>\n      <td>48909.batch</td>\n      <td>dpp-local-nc8_gl6-34.cfg</td>\n      <td>gl2_gl4</td>\n      <td>gl6</td>\n      <td>COMPLETED</td>\n      <td>2024-01-17T06:08:31</td>\n      <td>2024-01-17T06:49:57</td>\n      <td>323.52K</td>\n      <td>1200996K</td>\n      <td>5341.97M</td>\n      <td>...</td>\n      <td>2024-01-17T06:08:31</td>\n      <td>NaN</td>\n      <td>dpp</td>\n      <td>local</td>\n      <td>8</td>\n      <td>gl6</td>\n      <td>34</td>\n      <td>16936</td>\n      <td>2486</td>\n      <td>6.812550</td>\n    </tr>\n    <tr>\n      <th>4</th>\n      <td>48912.batch</td>\n      <td>dpp-local-nc32_gl6-33.cfg</td>\n      <td>gl2_gl4</td>\n      <td>gl6</td>\n      <td>COMPLETED</td>\n      <td>2024-01-17T06:55:02</td>\n      <td>2024-01-17T07:16:05</td>\n      <td>197.42K</td>\n      <td>3915788K</td>\n      <td>5342.08M</td>\n      <td>...</td>\n      <td>2024-01-17T06:55:02</td>\n      <td>NaN</td>\n      <td>dpp</td>\n      <td>local</td>\n      <td>32</td>\n      <td>gl6</td>\n      <td>33</td>\n      <td>28679</td>\n      <td>1263</td>\n      <td>22.707047</td>\n    </tr>\n    <tr>\n      <th>5</th>\n      <td>48915.batch</td>\n      <td>dpp-local-nc16_gl6-40.cfg</td>\n      <td>gl2_gl4</td>\n      <td>gl6</td>\n      <td>COMPLETED</td>\n      <td>2024-01-17T07:21:09</td>\n      <td>2024-01-17T07:47:50</td>\n      <td>229.28K</td>\n      <td>2223508K</td>\n      <td>5342.78M</td>\n      <td>...</td>\n      <td>2024-01-17T07:21:09</td>\n      <td>NaN</td>\n      <td>dpp</td>\n      <td>local</td>\n      <td>16</td>\n      <td>gl6</td>\n      <td>40</td>\n      <td>19987</td>\n      <td>1601</td>\n      <td>12.484072</td>\n    </tr>\n    <tr>\n      <th>6</th>\n      <td>48927.batch</td>\n      <td>daa-local-nc8_gl6-32.cfg</td>\n      <td>gl2_gl4</td>\n      <td>gl6</td>\n      <td>COMPLETED</td>\n      <td>2024-01-17T15:58:01</td>\n      <td>2024-01-18T01:50:16</td>\n      <td>4.76M</td>\n      <td>2628628K</td>\n      <td>88378.71M</td>\n      <td>...</td>\n      <td>2024-01-17T15:58:01</td>\n      <td>NaN</td>\n      <td>daa</td>\n      <td>local</td>\n      <td>8</td>\n      <td>gl6</td>\n      <td>32</td>\n      <td>253848</td>\n      <td>35535</td>\n      <td>7.143605</td>\n    </tr>\n    <tr>\n      <th>7</th>\n      <td>48930.batch</td>\n      <td>dpp-local-nc32_gl6-37.cfg</td>\n      <td>gl2_gl4</td>\n      <td>gl6</td>\n      <td>COMPLETED</td>\n      <td>2024-01-18T01:55:20</td>\n      <td>2024-01-18T02:16:45</td>\n      <td>200.24K</td>\n      <td>3919372K</td>\n      <td>5343.48M</td>\n      <td>...</td>\n      <td>2024-01-18T01:55:20</td>\n      <td>NaN</td>\n      <td>dpp</td>\n      <td>local</td>\n      <td>32</td>\n      <td>gl6</td>\n      <td>37</td>\n      <td>28531</td>\n      <td>1285</td>\n      <td>22.203113</td>\n    </tr>\n    <tr>\n      <th>8</th>\n      <td>48933.batch</td>\n      <td>dpp-local-nc16_gl6-35.cfg</td>\n      <td>gl2_gl4</td>\n      <td>gl6</td>\n      <td>COMPLETED</td>\n      <td>2024-01-18T02:21:50</td>\n      <td>2024-01-18T02:48:16</td>\n      <td>230.06K</td>\n      <td>2207268K</td>\n      <td>5345.29M</td>\n      <td>...</td>\n      <td>2024-01-18T02:21:50</td>\n      <td>NaN</td>\n      <td>dpp</td>\n      <td>local</td>\n      <td>16</td>\n      <td>gl6</td>\n      <td>35</td>\n      <td>19964</td>\n      <td>1586</td>\n      <td>12.587642</td>\n    </tr>\n    <tr>\n      <th>9</th>\n      <td>48936.batch</td>\n      <td>dpp-local-nc16_gl6-32.cfg</td>\n      <td>gl2_gl4</td>\n      <td>gl6</td>\n      <td>COMPLETED</td>\n      <td>2024-01-18T02:53:18</td>\n      <td>2024-01-18T03:19:57</td>\n      <td>231.15K</td>\n      <td>2220572K</td>\n      <td>5341.97M</td>\n      <td>...</td>\n      <td>2024-01-18T02:53:18</td>\n      <td>NaN</td>\n      <td>dpp</td>\n      <td>local</td>\n      <td>16</td>\n      <td>gl6</td>\n      <td>32</td>\n      <td>19976</td>\n      <td>1599</td>\n      <td>12.492808</td>\n    </tr>\n  </tbody>\n</table>\n<p>10 rows × 119 columns</p>\n</div>"
     },
     "execution_count": 46,
     "metadata": {},
     "output_type": "execute_result"
    }
   ],
   "source": [
    "\n",
    "def convert_elapsed_time(elapsed_time):\n",
    "    print(elapsed_time)\n",
    "    parts = elapsed_time.split('-') if '-' in elapsed_time else [0, elapsed_time]\n",
    "    days = int(parts[0])\n",
    "    time_parts = parts[1].split(':')\n",
    "    hours = int(time_parts[0])\n",
    "    minutes = int(time_parts[1])\n",
    "    seconds = int(time_parts[2])\n",
    "    total_seconds = days * 24 * 3600 + hours * 3600 + minutes * 60 + seconds\n",
    "    return total_seconds\n",
    "\n",
    "\n",
    "# data = data[data['AveCPU'] != 'nan']\n",
    "#  remove NaN values\n",
    "data = data.dropna(subset=['AveCPU'])\n",
    "\n",
    "data['n_ave_cpu'] = data['AveCPU'].apply(convert_elapsed_time)\n",
    "data['n_elapsed'] = data['Elapsed'].apply(convert_elapsed_time)\n",
    "data['cpu_utilization'] = data['n_ave_cpu'] / data['n_elapsed']\n",
    "data"
   ],
   "metadata": {
    "collapsed": false,
    "ExecuteTime": {
     "end_time": "2024-01-18T11:16:17.224836300Z",
     "start_time": "2024-01-18T11:16:16.917121600Z"
    }
   }
  },
  {
   "cell_type": "code",
   "execution_count": null,
   "outputs": [],
   "source": [
    "jobs_to_eliminate = data[data.ncores == 2]\n",
    "\" \".join(map(str, list(jobs_to_eliminate.JobID.to_list())))"
   ],
   "metadata": {
    "collapsed": false
   }
  },
  {
   "cell_type": "code",
   "execution_count": null,
   "outputs": [],
   "source": [
    "collected_data_stats = data_completed.groupby(['Workflow', 'mode', 'ncores', 'node']).describe().reset_index()\n",
    "collected_data_stats.to_csv(\n",
    "    'local_exp_overview_stats.csv', header=True)\n",
    "collected_data_stats"
   ],
   "metadata": {
    "collapsed": false
   }
  },
  {
   "cell_type": "code",
   "execution_count": null,
   "outputs": [],
   "source": [
    "# All collected data\n",
    "collected_data = data_completed.sort_values(\n",
    "    by=['Workflow', \"node\", \"ncores\"]).groupby(['Workflow', 'mode', 'ncores', 'node']).agg(\n",
    "    n_trials=('trial', 'count'), trials_list=('trial', lambda x: sorted(x.tolist()))).reset_index()\n",
    "collected_data.to_csv('local_exp_overview.csv', index=False, header=True)\n",
    "collected_data"
   ],
   "metadata": {
    "collapsed": false
   }
  },
  {
   "cell_type": "code",
   "execution_count": null,
   "outputs": [],
   "source": [
    "def to_local_config_class(workflow, node, trial, ncores, warmup=False):\n",
    "    warmup_arg = \", True\" if warmup else \"\"\n",
    "    return f'LocalConfig(\"{workflow}\", \"{node}\", {trial}, {ncores}{warmup_arg})'\n",
    "\n",
    "\n",
    "def to_configs_array(x, start_idx):\n",
    "    return f'[{to_local_config_class(x.Workflow, x.node, \"trial\", x.ncores)} for trial in range({start_idx}, {start_idx} + {x.trials_left_count})]'\n",
    "\n",
    "\n",
    "def max_ncores(node):\n",
    "    if node == 'gl2':\n",
    "        return 8\n",
    "    return 32\n",
    "\n",
    "\n",
    "def get_configs_code_for_new_experiment(node, target_total_n, start_idx):\n",
    "    exp_data = collected_data[(collected_data.node == node) & (\n",
    "            collected_data.n_trials < target_total_n)]\n",
    "    exp_data['trials_left_count'] = target_total_n - exp_data.n_trials\n",
    "    exp_data['code'] = exp_data.apply(to_configs_array, axis=1, start_idx=start_idx)\n",
    "    return \" + \".join(exp_data.code.to_list()), to_local_config_class('dpp', node, start_idx,\n",
    "                                                                      max_ncores(node), warmup=True)"
   ],
   "metadata": {
    "collapsed": false
   }
  },
  {
   "cell_type": "code",
   "execution_count": null,
   "outputs": [],
   "source": [
    "TOTAL_EXPERIMENTS_PER_EPOCH = 10\n",
    "\n",
    "\n",
    "def get_class_name(node, epoch):\n",
    "    return f\"LocalExperiment{node.upper()}_{epoch}\"\n",
    "\n",
    "\n",
    "def generate_class(node, epoch, target_total_n):\n",
    "    configs, warmup_config = get_configs_code_for_new_experiment(node, target_total_n,\n",
    "                                                                 (epoch - 1) * TOTAL_EXPERIMENTS_PER_EPOCH)\n",
    "    class_definition = \\\n",
    "        f\"\"\"\n",
    "from typing import List\n",
    "\n",
    "from examples.domain import LocalExperiment\n",
    "from examples.domain.Config import Config\n",
    "from examples.domain.LocalConfig import LocalConfig\n",
    "\n",
    "\n",
    "class {get_class_name(node, epoch)}(LocalExperiment):\n",
    "    def create_configs(self) -> List[Config]:\n",
    "        return {configs}\n",
    "\n",
    "    def create_warmup_config(self) -> Config:\n",
    "        return {warmup_config}\n",
    "\"\"\"\n",
    "    return class_definition if configs else None"
   ],
   "metadata": {
    "collapsed": false
   }
  },
  {
   "cell_type": "code",
   "execution_count": null,
   "outputs": [],
   "source": [
    "# new experiment epochs\n",
    "def generate_experiment_classes(exp_epochs):\n",
    "    for node, epoch in exp_epochs.items():\n",
    "        class_code = generate_class(node, epoch, TOTAL_EXPERIMENTS_PER_EPOCH)\n",
    "        if class_code is None:\n",
    "            continue\n",
    "\n",
    "        file_path = f\"../examples/domain/{get_class_name(node, epoch)}.py\"\n",
    "        with open(file_path, 'w') as file:\n",
    "            file.write(class_code)\n",
    "\n",
    "\n",
    "generate_experiment_classes({\n",
    "    \"gl2\": 3,\n",
    "    \"gl6\": 3,\n",
    "    \"gl5\": 2\n",
    "})"
   ],
   "metadata": {
    "collapsed": false
   }
  },
  {
   "cell_type": "code",
   "execution_count": null,
   "outputs": [],
   "source": [
    "data_completed['n_trials_completed'] = data_completed.sort_values(\n",
    "    by=['Workflow', \"node\", \"ncores\"]).groupby(['Workflow', 'mode', 'ncores', 'node']).Workflow.transform('count')\n",
    "data_completed['n_trials_threshold'] = data_completed['n_trials_completed'] >= 2\n",
    "data_completed"
   ],
   "metadata": {
    "collapsed": false
   }
  },
  {
   "cell_type": "code",
   "execution_count": null,
   "outputs": [],
   "source": [
    "import matplotlib.pyplot as plt"
   ],
   "metadata": {
    "collapsed": false
   }
  },
  {
   "cell_type": "code",
   "execution_count": null,
   "outputs": [],
   "source": [
    "data_for_analysis = data_completed[data_completed.n_trials_threshold].reset_index(drop=True)"
   ],
   "metadata": {
    "collapsed": false
   }
  },
  {
   "cell_type": "code",
   "execution_count": null,
   "outputs": [],
   "source": [
    "# draw one plot containing multiple boxplots with data distribution curve for each (workflow,ncores,node) agains EnergyConsumption\n",
    "fig, ax = plt.subplots(figsize=(15, 10))\n",
    "data_for_analysis.boxplot(column='ElapsedSeconds', by=['Workflow', 'ncores', 'node'], ax=ax)\n",
    "ax.set_xticklabels(ax.get_xticklabels(), rotation=-60)\n",
    "# save\n",
    "fig.savefig('boxplot.png')\n"
   ],
   "metadata": {
    "collapsed": false
   }
  },
  {
   "cell_type": "code",
   "execution_count": null,
   "outputs": [],
   "source": [
    "# draw two plots based on workflow containing multiple boxplots with data_for_analysis distribution curve for each (ncores,node) agains ConsumedEnergy, then 2 plots agains AveRSS, AveDiskRead, AveDiskWrite, AveVMSize. Add titles to plots with workflow name. Make sure that it is one big plot that contains all the subplots.\n",
    "fig, ax = plt.subplots(nrows=2, ncols=6, figsize=(26, 10))\n",
    "for j, workflow in enumerate(data_for_analysis.Workflow.unique()):\n",
    "    for i, column in enumerate(\n",
    "            ['ElapsedHours', 'ConsumedEnergyK', 'AveRSSM', 'AveDiskReadM', 'AveDiskWriteM', 'AveVMSizeM']):\n",
    "        data_for_analysis[data_for_analysis.Workflow == workflow].boxplot(column=column, by=['ncores', 'node'],\n",
    "                                                                          ax=ax[j, i])\n",
    "        ax[j, i].set_title(f\"{workflow}-{column}\")\n",
    "        ax[j, i].set_xticklabels(ax[j, i].get_xticklabels(), rotation=-60)\n",
    "        # next to every boxplot box show data_for_analysis distribution\n",
    "\n",
    "fig.subplots_adjust(hspace=0.5, wspace=0.25)\n",
    "\n",
    "fig.savefig('boxplot-overview-by-workflows.png')"
   ],
   "metadata": {
    "collapsed": false
   }
  },
  {
   "cell_type": "code",
   "execution_count": null,
   "outputs": [],
   "source": [
    "fig, ax = plt.subplots(nrows=2, ncols=3, figsize=(26, 10))\n",
    "for i, column in enumerate(\n",
    "        ['ElapsedHours', 'ConsumedEnergyK', 'AveRSSM', 'AveDiskReadM', 'AveDiskWriteM', 'AveVMSizeM']):\n",
    "    data_for_analysis.boxplot(column=column, by=['Workflow', 'ncores', 'node'], ax=ax[i // 3, i % 3])\n",
    "    ax[i // 3, i % 3].set_title(column)\n",
    "    ax[i // 3, i % 3].set_xticklabels(ax[i // 3, i % 3].get_xticklabels(), rotation=-60)\n",
    "\n",
    "fig.subplots_adjust(hspace=0.6)\n",
    "\n",
    "fig.savefig('boxplot-overview.png')"
   ],
   "metadata": {
    "collapsed": false
   }
  },
  {
   "cell_type": "code",
   "execution_count": null,
   "outputs": [],
   "source": [],
   "metadata": {
    "collapsed": false
   }
  }
 ],
 "metadata": {
  "kernelspec": {
   "display_name": "Python 3",
   "language": "python",
   "name": "python3"
  },
  "language_info": {
   "codemirror_mode": {
    "name": "ipython",
    "version": 2
   },
   "file_extension": ".py",
   "mimetype": "text/x-python",
   "name": "python",
   "nbconvert_exporter": "python",
   "pygments_lexer": "ipython2",
   "version": "2.7.6"
  }
 },
 "nbformat": 4,
 "nbformat_minor": 0
}
